{
  "nbformat": 4,
  "nbformat_minor": 0,
  "metadata": {
    "colab": {
      "provenance": [],
      "authorship_tag": "ABX9TyPHU9RAjgMN6TlRKqAAsToo",
      "include_colab_link": true
    },
    "kernelspec": {
      "name": "python3",
      "display_name": "Python 3"
    },
    "language_info": {
      "name": "python"
    }
  },
  "cells": [
    {
      "cell_type": "markdown",
      "metadata": {
        "id": "view-in-github",
        "colab_type": "text"
      },
      "source": [
        "<a href=\"https://colab.research.google.com/github/szeshiang/Deep-Learning/blob/main/25_Feb_24_Fashion_Mnist_Assignment_Func_API.ipynb\" target=\"_parent\"><img src=\"https://colab.research.google.com/assets/colab-badge.svg\" alt=\"Open In Colab\"/></a>"
      ]
    },
    {
      "cell_type": "code",
      "execution_count": 1,
      "metadata": {
        "colab": {
          "base_uri": "https://localhost:8080/"
        },
        "id": "fhZ55EjBMsoE",
        "outputId": "dfa9e843-6e52-4228-cc29-ffc417bfbc39"
      },
      "outputs": [
        {
          "output_type": "stream",
          "name": "stdout",
          "text": [
            "Data loaded\n"
          ]
        }
      ],
      "source": [
        "# load the dataset\n",
        "from tensorflow.keras.datasets import fashion_mnist\n",
        "print('Data loaded')"
      ]
    },
    {
      "cell_type": "code",
      "source": [
        "# create train & test\n",
        "(X_train,y_train),(X_test,y_test)=fashion_mnist.load_data()"
      ],
      "metadata": {
        "colab": {
          "base_uri": "https://localhost:8080/"
        },
        "id": "TR2H4YxHM1kN",
        "outputId": "adbf7526-7bb8-4050-a6db-766d7ceff79d"
      },
      "execution_count": 2,
      "outputs": [
        {
          "output_type": "stream",
          "name": "stdout",
          "text": [
            "Downloading data from https://storage.googleapis.com/tensorflow/tf-keras-datasets/train-labels-idx1-ubyte.gz\n",
            "29515/29515 [==============================] - 0s 0us/step\n",
            "Downloading data from https://storage.googleapis.com/tensorflow/tf-keras-datasets/train-images-idx3-ubyte.gz\n",
            "26421880/26421880 [==============================] - 1s 0us/step\n",
            "Downloading data from https://storage.googleapis.com/tensorflow/tf-keras-datasets/t10k-labels-idx1-ubyte.gz\n",
            "5148/5148 [==============================] - 0s 0us/step\n",
            "Downloading data from https://storage.googleapis.com/tensorflow/tf-keras-datasets/t10k-images-idx3-ubyte.gz\n",
            "4422102/4422102 [==============================] - 1s 0us/step\n"
          ]
        }
      ]
    },
    {
      "cell_type": "code",
      "source": [
        "X_train.shape"
      ],
      "metadata": {
        "colab": {
          "base_uri": "https://localhost:8080/"
        },
        "id": "hYoGKYAxNFII",
        "outputId": "5b75abf3-6cc5-41ec-b592-6320219cd578"
      },
      "execution_count": 3,
      "outputs": [
        {
          "output_type": "execute_result",
          "data": {
            "text/plain": [
              "(60000, 28, 28)"
            ]
          },
          "metadata": {},
          "execution_count": 3
        }
      ]
    },
    {
      "cell_type": "code",
      "source": [
        "X_test.shape"
      ],
      "metadata": {
        "colab": {
          "base_uri": "https://localhost:8080/"
        },
        "id": "OiWRyhMRNKGt",
        "outputId": "b26dae9d-2b0b-42e2-d286-1e2780c0f2a2"
      },
      "execution_count": 4,
      "outputs": [
        {
          "output_type": "execute_result",
          "data": {
            "text/plain": [
              "(10000, 28, 28)"
            ]
          },
          "metadata": {},
          "execution_count": 4
        }
      ]
    },
    {
      "cell_type": "code",
      "source": [
        "# normalize the pixel in 0 to 1\n",
        "X_train=X_train/255.\n",
        "X_test=X_test/255."
      ],
      "metadata": {
        "id": "b5OWlWg1NMK_"
      },
      "execution_count": 5,
      "outputs": []
    },
    {
      "cell_type": "code",
      "source": [
        "from tensorflow.keras.models import Model\n",
        "from tensorflow.keras.layers import Input,Dense,Flatten"
      ],
      "metadata": {
        "id": "c6u3q6HDNtCy"
      },
      "execution_count": 6,
      "outputs": []
    },
    {
      "cell_type": "code",
      "source": [
        "# functional API\n",
        "def build_model_function():\n",
        "  input_layer=Input(shape=(28,28))\n",
        "  flatten_layer=Flatten()(input_layer)\n",
        "  first_dense=Dense(128,activation='relu')(flatten_layer)\n",
        "  output_layer=Dense(10,activation='softmax')(first_dense)\n",
        "  func_model=Model(inputs=input_layer,outputs=output_layer)\n",
        "  return func_model"
      ],
      "metadata": {
        "id": "0TkQNorANuar"
      },
      "execution_count": 7,
      "outputs": []
    },
    {
      "cell_type": "code",
      "source": [
        "model=build_model_function()\n",
        "model.summary()"
      ],
      "metadata": {
        "colab": {
          "base_uri": "https://localhost:8080/"
        },
        "id": "AgWvHmH7OTZd",
        "outputId": "aad378a6-55f6-49fa-8764-1e8b993c4b57"
      },
      "execution_count": 8,
      "outputs": [
        {
          "output_type": "stream",
          "name": "stdout",
          "text": [
            "Model: \"model\"\n",
            "_________________________________________________________________\n",
            " Layer (type)                Output Shape              Param #   \n",
            "=================================================================\n",
            " input_1 (InputLayer)        [(None, 28, 28)]          0         \n",
            "                                                                 \n",
            " flatten (Flatten)           (None, 784)               0         \n",
            "                                                                 \n",
            " dense (Dense)               (None, 128)               100480    \n",
            "                                                                 \n",
            " dense_1 (Dense)             (None, 10)                1290      \n",
            "                                                                 \n",
            "=================================================================\n",
            "Total params: 101770 (397.54 KB)\n",
            "Trainable params: 101770 (397.54 KB)\n",
            "Non-trainable params: 0 (0.00 Byte)\n",
            "_________________________________________________________________\n"
          ]
        }
      ]
    },
    {
      "cell_type": "code",
      "source": [
        "# compile the model\n",
        "model.compile(loss='sparse_categorical_crossentropy',optimizer='adam',metrics=['accuracy'])\n",
        "print('model is compiled')"
      ],
      "metadata": {
        "colab": {
          "base_uri": "https://localhost:8080/"
        },
        "id": "4uBdq9iLOWlo",
        "outputId": "602baf46-bdee-410a-e5bd-aac95e43cd80"
      },
      "execution_count": 9,
      "outputs": [
        {
          "output_type": "stream",
          "name": "stdout",
          "text": [
            "model is compiled\n"
          ]
        }
      ]
    },
    {
      "cell_type": "code",
      "source": [
        "from tensorflow.keras.layers import Dropout\n",
        "from tensorflow.keras.callbacks import EarlyStopping"
      ],
      "metadata": {
        "id": "PAGRzhsHO0-_"
      },
      "execution_count": 12,
      "outputs": []
    },
    {
      "cell_type": "code",
      "source": [
        "early_stop=EarlyStopping(monitor='val_loss',\n",
        "                         min_delta=0.01,\n",
        "                         mode='min',\n",
        "                         verbose=1,\n",
        "                         patience=10\n",
        "                         )\n",
        "\n",
        "epochs=150"
      ],
      "metadata": {
        "id": "RGPYRTh6OeFM"
      },
      "execution_count": 17,
      "outputs": []
    },
    {
      "cell_type": "code",
      "source": [
        "history=model.fit(X_train,y_train,\n",
        "                  batch_size=128,\n",
        "                  epochs=epochs,\n",
        "                  validation_data=(X_test,y_test),\n",
        "                  callbacks=[early_stop]\n",
        "                  )"
      ],
      "metadata": {
        "colab": {
          "base_uri": "https://localhost:8080/"
        },
        "id": "juR9baJCOhmM",
        "outputId": "dabde110-3bcd-4781-f869-fef99ff5afa6"
      },
      "execution_count": 19,
      "outputs": [
        {
          "output_type": "stream",
          "name": "stdout",
          "text": [
            "Epoch 1/150\n",
            "469/469 [==============================] - 2s 5ms/step - loss: 0.0271 - accuracy: 0.9902 - val_loss: 0.9938 - val_accuracy: 0.8819\n",
            "Epoch 2/150\n",
            "469/469 [==============================] - 2s 4ms/step - loss: 0.0191 - accuracy: 0.9934 - val_loss: 0.9492 - val_accuracy: 0.8881\n",
            "Epoch 3/150\n",
            "469/469 [==============================] - 2s 5ms/step - loss: 0.0262 - accuracy: 0.9908 - val_loss: 0.9462 - val_accuracy: 0.8839\n",
            "Epoch 4/150\n",
            "469/469 [==============================] - 2s 5ms/step - loss: 0.0228 - accuracy: 0.9918 - val_loss: 0.9156 - val_accuracy: 0.8865\n",
            "Epoch 5/150\n",
            "469/469 [==============================] - 2s 5ms/step - loss: 0.0187 - accuracy: 0.9934 - val_loss: 0.9096 - val_accuracy: 0.8866\n",
            "Epoch 6/150\n",
            "469/469 [==============================] - 3s 6ms/step - loss: 0.0192 - accuracy: 0.9930 - val_loss: 0.9414 - val_accuracy: 0.8841\n",
            "Epoch 7/150\n",
            "469/469 [==============================] - 2s 4ms/step - loss: 0.0188 - accuracy: 0.9932 - val_loss: 0.9598 - val_accuracy: 0.8875\n",
            "Epoch 8/150\n",
            "469/469 [==============================] - 2s 4ms/step - loss: 0.0301 - accuracy: 0.9890 - val_loss: 0.9373 - val_accuracy: 0.8848\n",
            "Epoch 9/150\n",
            "469/469 [==============================] - 2s 5ms/step - loss: 0.0247 - accuracy: 0.9911 - val_loss: 0.9481 - val_accuracy: 0.8864\n",
            "Epoch 10/150\n",
            "469/469 [==============================] - 2s 4ms/step - loss: 0.0160 - accuracy: 0.9944 - val_loss: 0.9283 - val_accuracy: 0.8892\n",
            "Epoch 11/150\n",
            "469/469 [==============================] - 3s 6ms/step - loss: 0.0198 - accuracy: 0.9933 - val_loss: 1.0065 - val_accuracy: 0.8854\n",
            "Epoch 12/150\n",
            "469/469 [==============================] - 2s 5ms/step - loss: 0.0271 - accuracy: 0.9905 - val_loss: 0.9745 - val_accuracy: 0.8853\n",
            "Epoch 13/150\n",
            "469/469 [==============================] - 2s 4ms/step - loss: 0.0159 - accuracy: 0.9945 - val_loss: 0.9532 - val_accuracy: 0.8890\n",
            "Epoch 14/150\n",
            "469/469 [==============================] - 2s 4ms/step - loss: 0.0216 - accuracy: 0.9927 - val_loss: 1.0012 - val_accuracy: 0.8793\n",
            "Epoch 14: early stopping\n"
          ]
        }
      ]
    },
    {
      "cell_type": "code",
      "source": [
        "score_test=model.evaluate(X_test,y_test)\n",
        "print('test score',score_test)"
      ],
      "metadata": {
        "colab": {
          "base_uri": "https://localhost:8080/"
        },
        "id": "YLfsBMxEO8Yb",
        "outputId": "beed989a-17a9-4b5d-eebc-ea53cc8fc123"
      },
      "execution_count": 20,
      "outputs": [
        {
          "output_type": "stream",
          "name": "stdout",
          "text": [
            "313/313 [==============================] - 1s 2ms/step - loss: 1.0012 - accuracy: 0.8793\n",
            "test score [1.0011916160583496, 0.8792999982833862]\n"
          ]
        }
      ]
    },
    {
      "cell_type": "code",
      "source": [
        "score_test=model.evaluate(X_train,y_train)\n",
        "print('test score',score_test)"
      ],
      "metadata": {
        "colab": {
          "base_uri": "https://localhost:8080/"
        },
        "id": "4sTNJ-DaPtzf",
        "outputId": "9573625b-fd9f-4d4b-90b5-9da5c8550bc9"
      },
      "execution_count": 21,
      "outputs": [
        {
          "output_type": "stream",
          "name": "stdout",
          "text": [
            "1875/1875 [==============================] - 4s 2ms/step - loss: 0.0490 - accuracy: 0.9827\n",
            "test score [0.04900947958230972, 0.982699990272522]\n"
          ]
        }
      ]
    },
    {
      "cell_type": "code",
      "source": [
        "# plot the graph\n",
        "import matplotlib.pyplot as plt\n",
        "plt.plot(history.history['accuracy'])\n",
        "plt.plot(history.history['val_accuracy'])\n",
        "plt.title('Model Accuracy')\n",
        "plt.xlabel('Epochs')\n",
        "plt.ylabel('Accuracy')\n",
        "plt.legend(['train','test'],loc='best')\n",
        "plt.show()"
      ],
      "metadata": {
        "colab": {
          "base_uri": "https://localhost:8080/",
          "height": 472
        },
        "id": "Ig3kAslnRp7Z",
        "outputId": "67be05a2-ac60-4a1f-de95-0d6293754a2d"
      },
      "execution_count": 23,
      "outputs": [
        {
          "output_type": "display_data",
          "data": {
            "text/plain": [
              "<Figure size 640x480 with 1 Axes>"
            ],
            "image/png": "[encoded data removed]"
          },
          "metadata": {}
        }
      ]
    },
    {
      "cell_type": "code",
      "source": [],
      "metadata": {
        "id": "hnRj5LJpSLhB"
      },
      "execution_count": null,
      "outputs": []
    }
  ]
}