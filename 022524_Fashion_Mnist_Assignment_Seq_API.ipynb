{
  "nbformat": 4,
  "nbformat_minor": 0,
  "metadata": {
    "colab": {
      "provenance": [],
      "authorship_tag": "ABX9TyMeNFgIk+yN5BmOG21YMzFZ",
      "include_colab_link": true
    },
    "kernelspec": {
      "name": "python3",
      "display_name": "Python 3"
    },
    "language_info": {
      "name": "python"
    }
  },
  "cells": [
    {
      "cell_type": "markdown",
      "metadata": {
        "id": "view-in-github",
        "colab_type": "text"
      },
      "source": [
        "<a href=\"https://colab.research.google.com/github/szeshiang/Deep-Learning/blob/main/25_Feb_24_Fashion_Mnist_Assignment_Seq_API.ipynb\" target=\"_parent\"><img src=\"https://colab.research.google.com/assets/colab-badge.svg\" alt=\"Open In Colab\"/></a>"
      ]
    },
    {
      "cell_type": "code",
      "execution_count": 1,
      "metadata": {
        "colab": {
          "base_uri": "https://localhost:8080/"
        },
        "id": "_DKwkDSmTayY",
        "outputId": "828e0263-5252-4f23-f11d-3f1942308062"
      },
      "outputs": [
        {
          "output_type": "stream",
          "name": "stdout",
          "text": [
            "Data loaded\n"
          ]
        }
      ],
      "source": [
        "# load the dataset\n",
        "from tensorflow.keras.datasets import fashion_mnist\n",
        "print('Data loaded')"
      ]
    },
    {
      "cell_type": "code",
      "source": [
        "# create train & test\n",
        "(X_train,y_train),(X_test,y_test)=fashion_mnist.load_data()"
      ],
      "metadata": {
        "colab": {
          "base_uri": "https://localhost:8080/"
        },
        "id": "WhP_qlDCTd0l",
        "outputId": "61cedc02-72f3-4f1e-febf-3b5ea30b923e"
      },
      "execution_count": 2,
      "outputs": [
        {
          "output_type": "stream",
          "name": "stdout",
          "text": [
            "Downloading data from https://storage.googleapis.com/tensorflow/tf-keras-datasets/train-labels-idx1-ubyte.gz\n",
            "29515/29515 [==============================] - 0s 0us/step\n",
            "Downloading data from https://storage.googleapis.com/tensorflow/tf-keras-datasets/train-images-idx3-ubyte.gz\n",
            "26421880/26421880 [==============================] - 0s 0us/step\n",
            "Downloading data from https://storage.googleapis.com/tensorflow/tf-keras-datasets/t10k-labels-idx1-ubyte.gz\n",
            "5148/5148 [==============================] - 0s 0us/step\n",
            "Downloading data from https://storage.googleapis.com/tensorflow/tf-keras-datasets/t10k-images-idx3-ubyte.gz\n",
            "4422102/4422102 [==============================] - 0s 0us/step\n"
          ]
        }
      ]
    },
    {
      "cell_type": "code",
      "source": [
        "X_train.shape"
      ],
      "metadata": {
        "colab": {
          "base_uri": "https://localhost:8080/"
        },
        "id": "qNrGkqfGTg14",
        "outputId": "5be056cb-459d-4907-a3ef-82a5c6e60367"
      },
      "execution_count": 3,
      "outputs": [
        {
          "output_type": "execute_result",
          "data": {
            "text/plain": [
              "(60000, 28, 28)"
            ]
          },
          "metadata": {},
          "execution_count": 3
        }
      ]
    },
    {
      "cell_type": "code",
      "source": [
        "X_test.shape"
      ],
      "metadata": {
        "colab": {
          "base_uri": "https://localhost:8080/"
        },
        "id": "85b0zsgUTjmU",
        "outputId": "02492ddf-d9df-4c83-9084-af31ae3340bf"
      },
      "execution_count": 4,
      "outputs": [
        {
          "output_type": "execute_result",
          "data": {
            "text/plain": [
              "(10000, 28, 28)"
            ]
          },
          "metadata": {},
          "execution_count": 4
        }
      ]
    },
    {
      "cell_type": "code",
      "source": [
        "# preprocessing\n",
        "# Reshape the training and test data\n",
        "# normally will pass flattened data for ease of NN learning\n",
        "# - high D data to low D data\n",
        "# - hence reshape from 2D/3D to 1D\n",
        "X_train_reshaped=X_train.reshape(60000,784)\n",
        "X_test_reshaped=X_test.reshape(10000,784)"
      ],
      "metadata": {
        "id": "8rxhLV5VTlVm"
      },
      "execution_count": 5,
      "outputs": []
    },
    {
      "cell_type": "code",
      "source": [
        "X_train_reshaped.shape"
      ],
      "metadata": {
        "colab": {
          "base_uri": "https://localhost:8080/"
        },
        "id": "cGNoGskyToY3",
        "outputId": "6e4b6c7b-1e6b-44b7-815b-417d5999968f"
      },
      "execution_count": 6,
      "outputs": [
        {
          "output_type": "execute_result",
          "data": {
            "text/plain": [
              "(60000, 784)"
            ]
          },
          "metadata": {},
          "execution_count": 6
        }
      ]
    },
    {
      "cell_type": "code",
      "source": [
        "# normalize the pixel in 0 to 1\n",
        "X_train_reshaped=X_train_reshaped/255.\n",
        "X_test_reshaped=X_test_reshaped/255."
      ],
      "metadata": {
        "id": "eyrWuNz_TsKk"
      },
      "execution_count": 7,
      "outputs": []
    },
    {
      "cell_type": "code",
      "source": [
        "# convert class vectors into one hot encoding\n",
        "from tensorflow.keras.utils import to_categorical\n",
        "num_classes=10\n",
        "y_train_enocoded=to_categorical(y_train,num_classes)\n",
        "y_test_enocoded=to_categorical(y_test,num_classes)"
      ],
      "metadata": {
        "id": "TF7E4fk3T4e8"
      },
      "execution_count": 10,
      "outputs": []
    },
    {
      "cell_type": "code",
      "source": [
        "# 1. import req lib\n",
        "from tensorflow.keras.layers import Dropout\n",
        "from tensorflow.keras.callbacks import EarlyStopping\n",
        "from tensorflow.keras.models import Sequential\n",
        "from tensorflow.keras.layers import Dense\n",
        "print('imported')"
      ],
      "metadata": {
        "colab": {
          "base_uri": "https://localhost:8080/"
        },
        "id": "DuXk5vUfUD6F",
        "outputId": "48780721-19f6-4e0c-ffab-7cad04eecfdc"
      },
      "execution_count": 13,
      "outputs": [
        {
          "output_type": "stream",
          "name": "stdout",
          "text": [
            "imported\n"
          ]
        }
      ]
    },
    {
      "cell_type": "code",
      "source": [
        "# create  architecture - decide to have 4 layers of NN, (100, 64, 32, 32) neurons, activation relu for hidden layer, output layer - softmax\n",
        "model=Sequential()\n",
        "# first hidden layer\n",
        "model.add(Dense(100,activation='relu',input_shape=(784,)))\n",
        "model.add(Dropout(0.3))\n",
        "# second hidden layer\n",
        "model.add(Dense(64,activation='relu'))\n",
        "model.add(Dropout(0.25))\n",
        "# third hidden layer\n",
        "model.add(Dense(32,activation='relu'))\n",
        "model.add(Dropout(0.25))\n",
        "# forth hidden layer\n",
        "model.add(Dense(32,activation='relu'))\n",
        "model.add(Dropout(0.25))\n",
        "\n",
        "# output layer\n",
        "model.add(Dense(10,activation='softmax'))"
      ],
      "metadata": {
        "id": "PVxeOO3BUHB9"
      },
      "execution_count": 18,
      "outputs": []
    },
    {
      "cell_type": "code",
      "source": [
        "model.summary()"
      ],
      "metadata": {
        "colab": {
          "base_uri": "https://localhost:8080/"
        },
        "id": "fVZ6JFJfUSXo",
        "outputId": "17060cbd-a57b-44f8-e1b3-470b6ddc757b"
      },
      "execution_count": 19,
      "outputs": [
        {
          "output_type": "stream",
          "name": "stdout",
          "text": [
            "Model: \"sequential_2\"\n",
            "_________________________________________________________________\n",
            " Layer (type)                Output Shape              Param #   \n",
            "=================================================================\n",
            " dense_6 (Dense)             (None, 100)               78500     \n",
            "                                                                 \n",
            " dropout_4 (Dropout)         (None, 100)               0         \n",
            "                                                                 \n",
            " dense_7 (Dense)             (None, 64)                6464      \n",
            "                                                                 \n",
            " dropout_5 (Dropout)         (None, 64)                0         \n",
            "                                                                 \n",
            " dense_8 (Dense)             (None, 32)                2080      \n",
            "                                                                 \n",
            " dropout_6 (Dropout)         (None, 32)                0         \n",
            "                                                                 \n",
            " dense_9 (Dense)             (None, 32)                1056      \n",
            "                                                                 \n",
            " dropout_7 (Dropout)         (None, 32)                0         \n",
            "                                                                 \n",
            " dense_10 (Dense)            (None, 10)                330       \n",
            "                                                                 \n",
            "=================================================================\n",
            "Total params: 88430 (345.43 KB)\n",
            "Trainable params: 88430 (345.43 KB)\n",
            "Non-trainable params: 0 (0.00 Byte)\n",
            "_________________________________________________________________\n"
          ]
        }
      ]
    },
    {
      "cell_type": "code",
      "source": [
        "# compile the model\n",
        "model.compile(loss='categorical_crossentropy',optimizer='adam',metrics=['accuracy'])\n",
        "print('model is compiled')\n",
        "\n",
        "early_stop=EarlyStopping(monitor='val_loss',\n",
        "                         min_delta=0.01,\n",
        "                         mode='min',\n",
        "                         verbose=1,\n",
        "                         patience=10\n",
        "                         )\n",
        "\n",
        "epochs=50"
      ],
      "metadata": {
        "colab": {
          "base_uri": "https://localhost:8080/"
        },
        "id": "Bms2qiYDUcek",
        "outputId": "6040562b-3bc2-4367-aba7-585917fd8b16"
      },
      "execution_count": 27,
      "outputs": [
        {
          "output_type": "stream",
          "name": "stdout",
          "text": [
            "model is compiled\n"
          ]
        }
      ]
    },
    {
      "cell_type": "code",
      "source": [
        "# train the model\n",
        "history=model.fit(X_train_reshaped,y_train_enocoded,\n",
        "                  batch_size=128,\n",
        "                  epochs=epochs,\n",
        "                  validation_data=(X_test_reshaped,y_test_enocoded),\n",
        "                  callbacks=[early_stop]\n",
        "                  )"
      ],
      "metadata": {
        "colab": {
          "base_uri": "https://localhost:8080/"
        },
        "id": "DVKnZ1AXU88C",
        "outputId": "7cb48b29-6475-4fa2-f82d-edd0bdf09340"
      },
      "execution_count": 28,
      "outputs": [
        {
          "output_type": "stream",
          "name": "stdout",
          "text": [
            "Epoch 1/50\n",
            "469/469 [==============================] - 4s 7ms/step - loss: 1.0264 - accuracy: 0.6138 - val_loss: 0.5434 - val_accuracy: 0.7895\n",
            "Epoch 2/50\n",
            "469/469 [==============================] - 3s 6ms/step - loss: 0.6237 - accuracy: 0.7808 - val_loss: 0.4739 - val_accuracy: 0.8359\n",
            "Epoch 3/50\n",
            "469/469 [==============================] - 4s 8ms/step - loss: 0.5503 - accuracy: 0.8142 - val_loss: 0.4367 - val_accuracy: 0.8437\n",
            "Epoch 4/50\n",
            "469/469 [==============================] - 3s 6ms/step - loss: 0.5118 - accuracy: 0.8278 - val_loss: 0.4224 - val_accuracy: 0.8505\n",
            "Epoch 5/50\n",
            "469/469 [==============================] - 3s 6ms/step - loss: 0.4882 - accuracy: 0.8356 - val_loss: 0.4172 - val_accuracy: 0.8579\n",
            "Epoch 6/50\n",
            "469/469 [==============================] - 3s 6ms/step - loss: 0.4695 - accuracy: 0.8415 - val_loss: 0.4275 - val_accuracy: 0.8474\n",
            "Epoch 7/50\n",
            "469/469 [==============================] - 4s 8ms/step - loss: 0.4548 - accuracy: 0.8447 - val_loss: 0.4023 - val_accuracy: 0.8505\n",
            "Epoch 8/50\n",
            "469/469 [==============================] - 3s 6ms/step - loss: 0.4411 - accuracy: 0.8506 - val_loss: 0.3841 - val_accuracy: 0.8640\n",
            "Epoch 9/50\n",
            "469/469 [==============================] - 3s 6ms/step - loss: 0.4363 - accuracy: 0.8519 - val_loss: 0.3955 - val_accuracy: 0.8593\n",
            "Epoch 10/50\n",
            "469/469 [==============================] - 3s 6ms/step - loss: 0.4266 - accuracy: 0.8536 - val_loss: 0.3885 - val_accuracy: 0.8606\n",
            "Epoch 11/50\n",
            "469/469 [==============================] - 4s 8ms/step - loss: 0.4179 - accuracy: 0.8580 - val_loss: 0.3858 - val_accuracy: 0.8655\n",
            "Epoch 12/50\n",
            "469/469 [==============================] - 3s 6ms/step - loss: 0.4098 - accuracy: 0.8614 - val_loss: 0.3955 - val_accuracy: 0.8620\n",
            "Epoch 13/50\n",
            "469/469 [==============================] - 3s 6ms/step - loss: 0.4076 - accuracy: 0.8600 - val_loss: 0.3710 - val_accuracy: 0.8666\n",
            "Epoch 14/50\n",
            "469/469 [==============================] - 3s 6ms/step - loss: 0.4033 - accuracy: 0.8611 - val_loss: 0.3789 - val_accuracy: 0.8666\n",
            "Epoch 15/50\n",
            "469/469 [==============================] - 4s 8ms/step - loss: 0.3952 - accuracy: 0.8642 - val_loss: 0.3771 - val_accuracy: 0.8652\n",
            "Epoch 16/50\n",
            "469/469 [==============================] - 3s 6ms/step - loss: 0.3924 - accuracy: 0.8663 - val_loss: 0.3775 - val_accuracy: 0.8705\n",
            "Epoch 17/50\n",
            "469/469 [==============================] - 3s 6ms/step - loss: 0.3901 - accuracy: 0.8671 - val_loss: 0.3741 - val_accuracy: 0.8698\n",
            "Epoch 18/50\n",
            "469/469 [==============================] - 3s 6ms/step - loss: 0.3829 - accuracy: 0.8685 - val_loss: 0.3647 - val_accuracy: 0.8698\n",
            "Epoch 19/50\n",
            "469/469 [==============================] - 4s 8ms/step - loss: 0.3817 - accuracy: 0.8689 - val_loss: 0.3701 - val_accuracy: 0.8713\n",
            "Epoch 20/50\n",
            "469/469 [==============================] - 3s 7ms/step - loss: 0.3746 - accuracy: 0.8695 - val_loss: 0.3654 - val_accuracy: 0.8741\n",
            "Epoch 21/50\n",
            "469/469 [==============================] - 3s 6ms/step - loss: 0.3734 - accuracy: 0.8709 - val_loss: 0.3627 - val_accuracy: 0.8713\n",
            "Epoch 22/50\n",
            "469/469 [==============================] - 3s 6ms/step - loss: 0.3717 - accuracy: 0.8723 - val_loss: 0.3615 - val_accuracy: 0.8722\n",
            "Epoch 23/50\n",
            "469/469 [==============================] - 4s 8ms/step - loss: 0.3676 - accuracy: 0.8744 - val_loss: 0.3696 - val_accuracy: 0.8714\n",
            "Epoch 23: early stopping\n"
          ]
        }
      ]
    },
    {
      "cell_type": "code",
      "source": [
        "score_train=model.evaluate(X_train_reshaped,y_train_enocoded)\n",
        "print('train score',score_train)\n",
        "score_test=model.evaluate(X_test_reshaped,y_test_enocoded)\n",
        "print('test score',score_test)"
      ],
      "metadata": {
        "colab": {
          "base_uri": "https://localhost:8080/"
        },
        "id": "Mo2b0EjMU_Wb",
        "outputId": "e06ad398-380c-48ac-f3f9-141a0bfcf50f"
      },
      "execution_count": 29,
      "outputs": [
        {
          "output_type": "stream",
          "name": "stdout",
          "text": [
            "1875/1875 [==============================] - 4s 2ms/step - loss: 0.2813 - accuracy: 0.8984\n",
            "train score [0.2813332974910736, 0.8983833193778992]\n",
            "313/313 [==============================] - 1s 2ms/step - loss: 0.3696 - accuracy: 0.8714\n",
            "test score [0.36958494782447815, 0.871399998664856]\n"
          ]
        }
      ]
    },
    {
      "cell_type": "code",
      "source": [
        "# plot the graph\n",
        "import matplotlib.pyplot as plt\n",
        "plt.plot(history.history['accuracy'])\n",
        "plt.plot(history.history['val_accuracy'])\n",
        "plt.title('Model Accuracy')\n",
        "plt.xlabel('Epochs')\n",
        "plt.ylabel('Accuracy')\n",
        "plt.legend(['train','test'],loc='best')\n",
        "plt.show()"
      ],
      "metadata": {
        "colab": {
          "base_uri": "https://localhost:8080/",
          "height": 472
        },
        "id": "m4eB-LgSV4D9",
        "outputId": "29bbd2f2-29e2-4742-b92c-194cdd4a4d1b"
      },
      "execution_count": 31,
      "outputs": [
        {
          "output_type": "display_data",
          "data": {
            "text/plain": [
              "<Figure size 640x480 with 1 Axes>"
            ],
            "image/png": "[encoded data removed]"
          },
          "metadata": {}
        }
      ]
    },
    {
      "cell_type": "code",
      "source": [
        "from tensorflow.keras.layers import BatchNormalization"
      ],
      "metadata": {
        "id": "Abpn-nzrV_JC"
      },
      "execution_count": 32,
      "outputs": []
    },
    {
      "cell_type": "code",
      "source": [
        "# Create Architecture - decide to have 4 layers of NN, (100, 64, 32, 32), activation relu , output layer-softmax\n",
        "modelA=Sequential()\n",
        "# first hidden layer\n",
        "modelA.add(Dense(100,activation='relu',input_shape=(784,)))\n",
        "modelA.add(BatchNormalization())\n",
        "# second hidden layer\n",
        "modelA.add(Dense(64,activation='relu'))\n",
        "modelA.add(BatchNormalization())\n",
        "# third hidden layer\n",
        "modelA.add(Dense(32,activation='relu'))\n",
        "modelA.add(BatchNormalization())\n",
        "# forth hidden layer\n",
        "modelA.add(Dense(32,activation='relu'))\n",
        "modelA.add(BatchNormalization())\n",
        "\n",
        "# output layer\n",
        "modelA.add(Dense(10,activation='softmax'))"
      ],
      "metadata": {
        "id": "u-TqLoXdWNhd"
      },
      "execution_count": 34,
      "outputs": []
    },
    {
      "cell_type": "code",
      "source": [
        "modelA.summary()"
      ],
      "metadata": {
        "colab": {
          "base_uri": "https://localhost:8080/"
        },
        "id": "reunG1vDWaqO",
        "outputId": "a684cc6f-e062-4341-8ffb-b34d00ed72b9"
      },
      "execution_count": 35,
      "outputs": [
        {
          "output_type": "stream",
          "name": "stdout",
          "text": [
            "Model: \"sequential_4\"\n",
            "_________________________________________________________________\n",
            " Layer (type)                Output Shape              Param #   \n",
            "=================================================================\n",
            " dense_15 (Dense)            (None, 100)               78500     \n",
            "                                                                 \n",
            " batch_normalization_4 (Bat  (None, 100)               400       \n",
            " chNormalization)                                                \n",
            "                                                                 \n",
            " dense_16 (Dense)            (None, 64)                6464      \n",
            "                                                                 \n",
            " batch_normalization_5 (Bat  (None, 64)                256       \n",
            " chNormalization)                                                \n",
            "                                                                 \n",
            " dense_17 (Dense)            (None, 32)                2080      \n",
            "                                                                 \n",
            " batch_normalization_6 (Bat  (None, 32)                128       \n",
            " chNormalization)                                                \n",
            "                                                                 \n",
            " dense_18 (Dense)            (None, 32)                1056      \n",
            "                                                                 \n",
            " batch_normalization_7 (Bat  (None, 32)                128       \n",
            " chNormalization)                                                \n",
            "                                                                 \n",
            " dense_19 (Dense)            (None, 10)                330       \n",
            "                                                                 \n",
            "=================================================================\n",
            "Total params: 89342 (348.99 KB)\n",
            "Trainable params: 88886 (347.21 KB)\n",
            "Non-trainable params: 456 (1.78 KB)\n",
            "_________________________________________________________________\n"
          ]
        }
      ]
    },
    {
      "cell_type": "code",
      "source": [
        "# compile the model\n",
        "modelA.compile(loss='categorical_crossentropy',optimizer='adam',metrics=['accuracy'])\n",
        "print('modelA is compiled')\n",
        "\n",
        "early_stop=EarlyStopping(monitor='val_loss',\n",
        "                         min_delta=0.01,\n",
        "                         mode='min',\n",
        "                         verbose=1,\n",
        "                         patience=10\n",
        "                         )\n",
        "\n",
        "epochs=50"
      ],
      "metadata": {
        "colab": {
          "base_uri": "https://localhost:8080/"
        },
        "id": "b6JkPjzrWjYs",
        "outputId": "3fdb99d0-e44d-4331-a274-b90b50b96757"
      },
      "execution_count": 36,
      "outputs": [
        {
          "output_type": "stream",
          "name": "stdout",
          "text": [
            "modelA is compiled\n"
          ]
        }
      ]
    },
    {
      "cell_type": "code",
      "source": [
        "# train the model with batch norm\n",
        "history=modelA.fit(X_train_reshaped,y_train_enocoded,\n",
        "                  batch_size=128,\n",
        "                  epochs=epochs,\n",
        "                  validation_data=(X_test_reshaped,y_test_enocoded),\n",
        "                  callbacks=[early_stop]\n",
        "                  )"
      ],
      "metadata": {
        "colab": {
          "base_uri": "https://localhost:8080/"
        },
        "id": "foyXwvg3WqtM",
        "outputId": "12e0d137-a34f-490a-97b1-d2cf01b288b5"
      },
      "execution_count": 37,
      "outputs": [
        {
          "output_type": "stream",
          "name": "stdout",
          "text": [
            "Epoch 1/50\n",
            "469/469 [==============================] - 6s 7ms/step - loss: 0.5406 - accuracy: 0.8173 - val_loss: 0.5024 - val_accuracy: 0.8192\n",
            "Epoch 2/50\n",
            "469/469 [==============================] - 4s 9ms/step - loss: 0.3708 - accuracy: 0.8661 - val_loss: 0.4402 - val_accuracy: 0.8442\n",
            "Epoch 3/50\n",
            "469/469 [==============================] - 3s 7ms/step - loss: 0.3390 - accuracy: 0.8769 - val_loss: 0.3965 - val_accuracy: 0.8566\n",
            "Epoch 4/50\n",
            "469/469 [==============================] - 3s 7ms/step - loss: 0.3136 - accuracy: 0.8845 - val_loss: 0.3858 - val_accuracy: 0.8621\n",
            "Epoch 5/50\n",
            "469/469 [==============================] - 4s 8ms/step - loss: 0.2986 - accuracy: 0.8904 - val_loss: 0.3741 - val_accuracy: 0.8660\n",
            "Epoch 6/50\n",
            "469/469 [==============================] - 3s 7ms/step - loss: 0.2854 - accuracy: 0.8950 - val_loss: 0.4025 - val_accuracy: 0.8554\n",
            "Epoch 7/50\n",
            "469/469 [==============================] - 3s 7ms/step - loss: 0.2706 - accuracy: 0.9007 - val_loss: 0.3871 - val_accuracy: 0.8652\n",
            "Epoch 8/50\n",
            "469/469 [==============================] - 3s 7ms/step - loss: 0.2628 - accuracy: 0.9033 - val_loss: 0.3740 - val_accuracy: 0.8651\n",
            "Epoch 9/50\n",
            "469/469 [==============================] - 4s 9ms/step - loss: 0.2499 - accuracy: 0.9075 - val_loss: 0.3531 - val_accuracy: 0.8712\n",
            "Epoch 10/50\n",
            "469/469 [==============================] - 3s 7ms/step - loss: 0.2408 - accuracy: 0.9106 - val_loss: 0.3757 - val_accuracy: 0.8708\n",
            "Epoch 11/50\n",
            "469/469 [==============================] - 3s 7ms/step - loss: 0.2369 - accuracy: 0.9124 - val_loss: 0.3813 - val_accuracy: 0.8676\n",
            "Epoch 12/50\n",
            "469/469 [==============================] - 3s 7ms/step - loss: 0.2295 - accuracy: 0.9148 - val_loss: 0.3642 - val_accuracy: 0.8746\n",
            "Epoch 13/50\n",
            "469/469 [==============================] - 5s 11ms/step - loss: 0.2235 - accuracy: 0.9169 - val_loss: 0.4082 - val_accuracy: 0.8608\n",
            "Epoch 14/50\n",
            "469/469 [==============================] - 6s 13ms/step - loss: 0.2194 - accuracy: 0.9176 - val_loss: 0.3913 - val_accuracy: 0.8715\n",
            "Epoch 15/50\n",
            "469/469 [==============================] - 8s 16ms/step - loss: 0.2154 - accuracy: 0.9193 - val_loss: 0.3858 - val_accuracy: 0.8641\n",
            "Epoch 16/50\n",
            "469/469 [==============================] - 3s 7ms/step - loss: 0.2063 - accuracy: 0.9237 - val_loss: 0.3657 - val_accuracy: 0.8720\n",
            "Epoch 17/50\n",
            "469/469 [==============================] - 3s 7ms/step - loss: 0.2057 - accuracy: 0.9229 - val_loss: 0.3841 - val_accuracy: 0.8750\n",
            "Epoch 18/50\n",
            "469/469 [==============================] - 4s 8ms/step - loss: 0.1995 - accuracy: 0.9256 - val_loss: 0.3636 - val_accuracy: 0.8799\n",
            "Epoch 19/50\n",
            "469/469 [==============================] - 3s 7ms/step - loss: 0.1960 - accuracy: 0.9272 - val_loss: 0.4194 - val_accuracy: 0.8635\n",
            "Epoch 19: early stopping\n"
          ]
        }
      ]
    },
    {
      "cell_type": "code",
      "source": [
        "score_train=modelA.evaluate(X_train_reshaped,y_train_enocoded)\n",
        "print('train score',score_train)\n",
        "score_test=modelA.evaluate(X_test_reshaped,y_test_enocoded)\n",
        "print('test score',score_test)"
      ],
      "metadata": {
        "colab": {
          "base_uri": "https://localhost:8080/"
        },
        "id": "8lxRv7chWyMR",
        "outputId": "f2388fe7-2e61-4809-9d7a-a4b2f24da04b"
      },
      "execution_count": 38,
      "outputs": [
        {
          "output_type": "stream",
          "name": "stdout",
          "text": [
            "1875/1875 [==============================] - 5s 3ms/step - loss: 0.2425 - accuracy: 0.9084\n",
            "train score [0.24245931208133698, 0.9084333181381226]\n",
            "313/313 [==============================] - 1s 4ms/step - loss: 0.4194 - accuracy: 0.8635\n",
            "test score [0.4194397032260895, 0.8634999990463257]\n"
          ]
        }
      ]
    },
    {
      "cell_type": "code",
      "source": [],
      "metadata": {
        "id": "APSSoCc0XGUl"
      },
      "execution_count": null,
      "outputs": []
    }
  ]
}
