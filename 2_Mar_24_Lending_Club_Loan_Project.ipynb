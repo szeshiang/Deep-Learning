{
  "nbformat": 4,
  "nbformat_minor": 0,
  "metadata": {
    "colab": {
      "provenance": [],
      "mount_file_id": "19gEI9v6hwxvoTX0mTsegppMzp_3blBJM",
      "authorship_tag": "ABX9TyNEBWr26pEU304S8KZaCz2H",
      "include_colab_link": true
    },
    "kernelspec": {
      "name": "python3",
      "display_name": "Python 3"
    },
    "language_info": {
      "name": "python"
    }
  },
  "cells": [
    {
      "cell_type": "markdown",
      "metadata": {
        "id": "view-in-github",
        "colab_type": "text"
      },
      "source": [
        "<a href=\"https://colab.research.google.com/github/szeshiang/Deep-Learning/blob/main/Lending_Club_Loan_Project_2_Mar_24.ipynb\" target=\"_parent\"><img src=\"https://colab.research.google.com/assets/colab-badge.svg\" alt=\"Open In Colab\"/></a>"
      ]
    },
    {
      "cell_type": "markdown",
      "source": [
        "**Classification project** - regression project in this case because of 0 and 1"
      ],
      "metadata": {
        "id": "SCIjqtM6T56z"
      }
    },
    {
      "cell_type": "code",
      "execution_count": 1,
      "metadata": {
        "colab": {
          "base_uri": "https://localhost:8080/"
        },
        "id": "99oSvQPDSDOl",
        "outputId": "7d742550-b20b-4c8b-e575-ef0b92946ede"
      },
      "outputs": [
        {
          "output_type": "stream",
          "name": "stdout",
          "text": [
            "all libs imported\n"
          ]
        }
      ],
      "source": [
        "# import the dataset\n",
        "import pandas as pd\n",
        "import numpy as np\n",
        "import matplotlib.pyplot as plt\n",
        "import seaborn as sns\n",
        "print('all libs imported')"
      ]
    },
    {
      "cell_type": "code",
      "source": [
        "# import loan data\n",
        "data=pd.read_csv('loan_data.csv')"
      ],
      "metadata": {
        "id": "DeGo0rbKVQpI"
      },
      "execution_count": 2,
      "outputs": []
    },
    {
      "cell_type": "code",
      "source": [
        "data"
      ],
      "metadata": {
        "colab": {
          "base_uri": "https://localhost:8080/",
          "height": 443
        },
        "id": "VbxzKB6yVjkt",
        "outputId": "3866dcb4-defc-4ccc-faeb-956ebe3017ca"
      },
      "execution_count": 3,
      "outputs": [
        {
          "output_type": "execute_result",
          "data": {
            "text/plain": [
              "      credit.policy             purpose  int.rate  installment  \\\n",
              "0                 1  debt_consolidation    0.1189       829.10   \n",
              "1                 1         credit_card    0.1071       228.22   \n",
              "2                 1  debt_consolidation    0.1357       366.86   \n",
              "3                 1  debt_consolidation    0.1008       162.34   \n",
              "4                 1         credit_card    0.1426       102.92   \n",
              "...             ...                 ...       ...          ...   \n",
              "9573              0           all_other    0.1461       344.76   \n",
              "9574              0           all_other    0.1253       257.70   \n",
              "9575              0  debt_consolidation    0.1071        97.81   \n",
              "9576              0    home_improvement    0.1600       351.58   \n",
              "9577              0  debt_consolidation    0.1392       853.43   \n",
              "\n",
              "      log.annual.inc    dti  fico  days.with.cr.line  revol.bal  revol.util  \\\n",
              "0          11.350407  19.48   737        5639.958333      28854        52.1   \n",
              "1          11.082143  14.29   707        2760.000000      33623        76.7   \n",
              "2          10.373491  11.63   682        4710.000000       3511        25.6   \n",
              "3          11.350407   8.10   712        2699.958333      33667        73.2   \n",
              "4          11.299732  14.97   667        4066.000000       4740        39.5   \n",
              "...              ...    ...   ...                ...        ...         ...   \n",
              "9573       12.180755  10.39   672       10474.000000     215372        82.1   \n",
              "9574       11.141862   0.21   722        4380.000000        184         1.1   \n",
              "9575       10.596635  13.09   687        3450.041667      10036        82.9   \n",
              "9576       10.819778  19.18   692        1800.000000          0         3.2   \n",
              "9577       11.264464  16.28   732        4740.000000      37879        57.0   \n",
              "\n",
              "      inq.last.6mths  delinq.2yrs  pub.rec  not.fully.paid  \n",
              "0                  0            0        0               0  \n",
              "1                  0            0        0               0  \n",
              "2                  1            0        0               0  \n",
              "3                  1            0        0               0  \n",
              "4                  0            1        0               0  \n",
              "...              ...          ...      ...             ...  \n",
              "9573               2            0        0               1  \n",
              "9574               5            0        0               1  \n",
              "9575               8            0        0               1  \n",
              "9576               5            0        0               1  \n",
              "9577               6            0        0               1  \n",
              "\n",
              "[9578 rows x 14 columns]"
            ],
            "text/html": [
              "\n",
              "  <div id=\"df-f459ea91-bf56-498e-be80-c38379da9a41\" class=\"colab-df-container\">\n",
              "    <div>\n",
              "<style scoped>\n",
              "    .dataframe tbody tr th:only-of-type {\n",
              "        vertical-align: middle;\n",
              "    }\n",
              "\n",
              "    .dataframe tbody tr th {\n",
              "        vertical-align: top;\n",
              "    }\n",
              "\n",
              "    .dataframe thead th {\n",
              "        text-align: right;\n",
              "    }\n",
              "</style>\n",
              "<table border=\"1\" class=\"dataframe\">\n",
              "  <thead>\n",
              "    <tr style=\"text-align: right;\">\n",
              "      <th></th>\n",
              "      <th>credit.policy</th>\n",
              "      <th>purpose</th>\n",
              "      <th>int.rate</th>\n",
              "      <th>installment</th>\n",
              "      <th>log.annual.inc</th>\n",
              "      <th>dti</th>\n",
              "      <th>fico</th>\n",
              "      <th>days.with.cr.line</th>\n",
              "      <th>revol.bal</th>\n",
              "      <th>revol.util</th>\n",
              "      <th>inq.last.6mths</th>\n",
              "      <th>delinq.2yrs</th>\n",
              "      <th>pub.rec</th>\n",
              "      <th>not.fully.paid</th>\n",
              "    </tr>\n",
              "  </thead>\n",
              "  <tbody>\n",
              "    <tr>\n",
              "      <th>0</th>\n",
              "      <td>1</td>\n",
              "      <td>debt_consolidation</td>\n",
              "      <td>0.1189</td>\n",
              "      <td>829.10</td>\n",
              "      <td>11.350407</td>\n",
              "      <td>19.48</td>\n",
              "      <td>737</td>\n",
              "      <td>5639.958333</td>\n",
              "      <td>28854</td>\n",
              "      <td>52.1</td>\n",
              "      <td>0</td>\n",
              "      <td>0</td>\n",
              "      <td>0</td>\n",
              "      <td>0</td>\n",
              "    </tr>\n",
              "    <tr>\n",
              "      <th>1</th>\n",
              "      <td>1</td>\n",
              "      <td>credit_card</td>\n",
              "      <td>0.1071</td>\n",
              "      <td>228.22</td>\n",
              "      <td>11.082143</td>\n",
              "      <td>14.29</td>\n",
              "      <td>707</td>\n",
              "      <td>2760.000000</td>\n",
              "      <td>33623</td>\n",
              "      <td>76.7</td>\n",
              "      <td>0</td>\n",
              "      <td>0</td>\n",
              "      <td>0</td>\n",
              "      <td>0</td>\n",
              "    </tr>\n",
              "    <tr>\n",
              "      <th>2</th>\n",
              "      <td>1</td>\n",
              "      <td>debt_consolidation</td>\n",
              "      <td>0.1357</td>\n",
              "      <td>366.86</td>\n",
              "      <td>10.373491</td>\n",
              "      <td>11.63</td>\n",
              "      <td>682</td>\n",
              "      <td>4710.000000</td>\n",
              "      <td>3511</td>\n",
              "      <td>25.6</td>\n",
              "      <td>1</td>\n",
              "      <td>0</td>\n",
              "      <td>0</td>\n",
              "      <td>0</td>\n",
              "    </tr>\n",
              "    <tr>\n",
              "      <th>3</th>\n",
              "      <td>1</td>\n",
              "      <td>debt_consolidation</td>\n",
              "      <td>0.1008</td>\n",
              "      <td>162.34</td>\n",
              "      <td>11.350407</td>\n",
              "      <td>8.10</td>\n",
              "      <td>712</td>\n",
              "      <td>2699.958333</td>\n",
              "      <td>33667</td>\n",
              "      <td>73.2</td>\n",
              "      <td>1</td>\n",
              "      <td>0</td>\n",
              "      <td>0</td>\n",
              "      <td>0</td>\n",
              "    </tr>\n",
              "    <tr>\n",
              "      <th>4</th>\n",
              "      <td>1</td>\n",
              "      <td>credit_card</td>\n",
              "      <td>0.1426</td>\n",
              "      <td>102.92</td>\n",
              "      <td>11.299732</td>\n",
              "      <td>14.97</td>\n",
              "      <td>667</td>\n",
              "      <td>4066.000000</td>\n",
              "      <td>4740</td>\n",
              "      <td>39.5</td>\n",
              "      <td>0</td>\n",
              "      <td>1</td>\n",
              "      <td>0</td>\n",
              "      <td>0</td>\n",
              "    </tr>\n",
              "    <tr>\n",
              "      <th>...</th>\n",
              "      <td>...</td>\n",
              "      <td>...</td>\n",
              "      <td>...</td>\n",
              "      <td>...</td>\n",
              "      <td>...</td>\n",
              "      <td>...</td>\n",
              "      <td>...</td>\n",
              "      <td>...</td>\n",
              "      <td>...</td>\n",
              "      <td>...</td>\n",
              "      <td>...</td>\n",
              "      <td>...</td>\n",
              "      <td>...</td>\n",
              "      <td>...</td>\n",
              "    </tr>\n",
              "    <tr>\n",
              "      <th>9573</th>\n",
              "      <td>0</td>\n",
              "      <td>all_other</td>\n",
              "      <td>0.1461</td>\n",
              "      <td>344.76</td>\n",
              "      <td>12.180755</td>\n",
              "      <td>10.39</td>\n",
              "      <td>672</td>\n",
              "      <td>10474.000000</td>\n",
              "      <td>215372</td>\n",
              "      <td>82.1</td>\n",
              "      <td>2</td>\n",
              "      <td>0</td>\n",
              "      <td>0</td>\n",
              "      <td>1</td>\n",
              "    </tr>\n",
              "    <tr>\n",
              "      <th>9574</th>\n",
              "      <td>0</td>\n",
              "      <td>all_other</td>\n",
              "      <td>0.1253</td>\n",
              "      <td>257.70</td>\n",
              "      <td>11.141862</td>\n",
              "      <td>0.21</td>\n",
              "      <td>722</td>\n",
              "      <td>4380.000000</td>\n",
              "      <td>184</td>\n",
              "      <td>1.1</td>\n",
              "      <td>5</td>\n",
              "      <td>0</td>\n",
              "      <td>0</td>\n",
              "      <td>1</td>\n",
              "    </tr>\n",
              "    <tr>\n",
              "      <th>9575</th>\n",
              "      <td>0</td>\n",
              "      <td>debt_consolidation</td>\n",
              "      <td>0.1071</td>\n",
              "      <td>97.81</td>\n",
              "      <td>10.596635</td>\n",
              "      <td>13.09</td>\n",
              "      <td>687</td>\n",
              "      <td>3450.041667</td>\n",
              "      <td>10036</td>\n",
              "      <td>82.9</td>\n",
              "      <td>8</td>\n",
              "      <td>0</td>\n",
              "      <td>0</td>\n",
              "      <td>1</td>\n",
              "    </tr>\n",
              "    <tr>\n",
              "      <th>9576</th>\n",
              "      <td>0</td>\n",
              "      <td>home_improvement</td>\n",
              "      <td>0.1600</td>\n",
              "      <td>351.58</td>\n",
              "      <td>10.819778</td>\n",
              "      <td>19.18</td>\n",
              "      <td>692</td>\n",
              "      <td>1800.000000</td>\n",
              "      <td>0</td>\n",
              "      <td>3.2</td>\n",
              "      <td>5</td>\n",
              "      <td>0</td>\n",
              "      <td>0</td>\n",
              "      <td>1</td>\n",
              "    </tr>\n",
              "    <tr>\n",
              "      <th>9577</th>\n",
              "      <td>0</td>\n",
              "      <td>debt_consolidation</td>\n",
              "      <td>0.1392</td>\n",
              "      <td>853.43</td>\n",
              "      <td>11.264464</td>\n",
              "      <td>16.28</td>\n",
              "      <td>732</td>\n",
              "      <td>4740.000000</td>\n",
              "      <td>37879</td>\n",
              "      <td>57.0</td>\n",
              "      <td>6</td>\n",
              "      <td>0</td>\n",
              "      <td>0</td>\n",
              "      <td>1</td>\n",
              "    </tr>\n",
              "  </tbody>\n",
              "</table>\n",
              "<p>9578 rows × 14 columns</p>\n",
              "</div>\n",
              "    <div class=\"colab-df-buttons\">\n",
              "\n",
              "  <div class=\"colab-df-container\">\n",
              "    <button class=\"colab-df-convert\" onclick=\"convertToInteractive('df-f459ea91-bf56-498e-be80-c38379da9a41')\"\n",
              "            title=\"Convert this dataframe to an interactive table.\"\n",
              "            style=\"display:none;\">\n",
              "\n",
              "  <svg xmlns=\"http://www.w3.org/2000/svg\" height=\"24px\" viewBox=\"0 -960 960 960\">\n",
              "    <path d=\"M120-120v-720h720v720H120Zm60-500h600v-160H180v160Zm220 220h160v-160H400v160Zm0 220h160v-160H400v160ZM180-400h160v-160H180v160Zm440 0h160v-160H620v160ZM180-180h160v-160H180v160Zm440 0h160v-160H620v160Z\"/>\n",
              "  </svg>\n",
              "    </button>\n",
              "\n",
              "  <style>\n",
              "    .colab-df-container {\n",
              "      display:flex;\n",
              "      gap: 12px;\n",
              "    }\n",
              "\n",
              "    .colab-df-convert {\n",
              "      background-color: #E8F0FE;\n",
              "      border: none;\n",
              "      border-radius: 50%;\n",
              "      cursor: pointer;\n",
              "      display: none;\n",
              "      fill: #1967D2;\n",
              "      height: 32px;\n",
              "      padding: 0 0 0 0;\n",
              "      width: 32px;\n",
              "    }\n",
              "\n",
              "    .colab-df-convert:hover {\n",
              "      background-color: #E2EBFA;\n",
              "      box-shadow: 0px 1px 2px rgba(60, 64, 67, 0.3), 0px 1px 3px 1px rgba(60, 64, 67, 0.15);\n",
              "      fill: #174EA6;\n",
              "    }\n",
              "\n",
              "    .colab-df-buttons div {\n",
              "      margin-bottom: 4px;\n",
              "    }\n",
              "\n",
              "    [theme=dark] .colab-df-convert {\n",
              "      background-color: #3B4455;\n",
              "      fill: #D2E3FC;\n",
              "    }\n",
              "\n",
              "    [theme=dark] .colab-df-convert:hover {\n",
              "      background-color: #434B5C;\n",
              "      box-shadow: 0px 1px 3px 1px rgba(0, 0, 0, 0.15);\n",
              "      filter: drop-shadow(0px 1px 2px rgba(0, 0, 0, 0.3));\n",
              "      fill: #FFFFFF;\n",
              "    }\n",
              "  </style>\n",
              "\n",
              "    <script>\n",
              "      const buttonEl =\n",
              "        document.querySelector('#df-f459ea91-bf56-498e-be80-c38379da9a41 button.colab-df-convert');\n",
              "      buttonEl.style.display =\n",
              "        google.colab.kernel.accessAllowed ? 'block' : 'none';\n",
              "\n",
              "      async function convertToInteractive(key) {\n",
              "        const element = document.querySelector('#df-f459ea91-bf56-498e-be80-c38379da9a41');\n",
              "        const dataTable =\n",
              "          await google.colab.kernel.invokeFunction('convertToInteractive',\n",
              "                                                    [key], {});\n",
              "        if (!dataTable) return;\n",
              "\n",
              "        const docLinkHtml = 'Like what you see? Visit the ' +\n",
              "          '<a target=\"_blank\" href=https://colab.research.google.com/notebooks/data_table.ipynb>data table notebook</a>'\n",
              "          + ' to learn more about interactive tables.';\n",
              "        element.innerHTML = '';\n",
              "        dataTable['output_type'] = 'display_data';\n",
              "        await google.colab.output.renderOutput(dataTable, element);\n",
              "        const docLink = document.createElement('div');\n",
              "        docLink.innerHTML = docLinkHtml;\n",
              "        element.appendChild(docLink);\n",
              "      }\n",
              "    </script>\n",
              "  </div>\n",
              "\n",
              "\n",
              "<div id=\"df-9819e9e6-3eb4-45dc-8912-5fc40f51ff77\">\n",
              "  <button class=\"colab-df-quickchart\" onclick=\"quickchart('df-9819e9e6-3eb4-45dc-8912-5fc40f51ff77')\"\n",
              "            title=\"Suggest charts\"\n",
              "            style=\"display:none;\">\n",
              "\n",
              "<svg xmlns=\"http://www.w3.org/2000/svg\" height=\"24px\"viewBox=\"0 0 24 24\"\n",
              "     width=\"24px\">\n",
              "    <g>\n",
              "        <path d=\"M19 3H5c-1.1 0-2 .9-2 2v14c0 1.1.9 2 2 2h14c1.1 0 2-.9 2-2V5c0-1.1-.9-2-2-2zM9 17H7v-7h2v7zm4 0h-2V7h2v10zm4 0h-2v-4h2v4z\"/>\n",
              "    </g>\n",
              "</svg>\n",
              "  </button>\n",
              "\n",
              "<style>\n",
              "  .colab-df-quickchart {\n",
              "      --bg-color: #E8F0FE;\n",
              "      --fill-color: #1967D2;\n",
              "      --hover-bg-color: #E2EBFA;\n",
              "      --hover-fill-color: #174EA6;\n",
              "      --disabled-fill-color: #AAA;\n",
              "      --disabled-bg-color: #DDD;\n",
              "  }\n",
              "\n",
              "  [theme=dark] .colab-df-quickchart {\n",
              "      --bg-color: #3B4455;\n",
              "      --fill-color: #D2E3FC;\n",
              "      --hover-bg-color: #434B5C;\n",
              "      --hover-fill-color: #FFFFFF;\n",
              "      --disabled-bg-color: #3B4455;\n",
              "      --disabled-fill-color: #666;\n",
              "  }\n",
              "\n",
              "  .colab-df-quickchart {\n",
              "    background-color: var(--bg-color);\n",
              "    border: none;\n",
              "    border-radius: 50%;\n",
              "    cursor: pointer;\n",
              "    display: none;\n",
              "    fill: var(--fill-color);\n",
              "    height: 32px;\n",
              "    padding: 0;\n",
              "    width: 32px;\n",
              "  }\n",
              "\n",
              "  .colab-df-quickchart:hover {\n",
              "    background-color: var(--hover-bg-color);\n",
              "    box-shadow: 0 1px 2px rgba(60, 64, 67, 0.3), 0 1px 3px 1px rgba(60, 64, 67, 0.15);\n",
              "    fill: var(--button-hover-fill-color);\n",
              "  }\n",
              "\n",
              "  .colab-df-quickchart-complete:disabled,\n",
              "  .colab-df-quickchart-complete:disabled:hover {\n",
              "    background-color: var(--disabled-bg-color);\n",
              "    fill: var(--disabled-fill-color);\n",
              "    box-shadow: none;\n",
              "  }\n",
              "\n",
              "  .colab-df-spinner {\n",
              "    border: 2px solid var(--fill-color);\n",
              "    border-color: transparent;\n",
              "    border-bottom-color: var(--fill-color);\n",
              "    animation:\n",
              "      spin 1s steps(1) infinite;\n",
              "  }\n",
              "\n",
              "  @keyframes spin {\n",
              "    0% {\n",
              "      border-color: transparent;\n",
              "      border-bottom-color: var(--fill-color);\n",
              "      border-left-color: var(--fill-color);\n",
              "    }\n",
              "    20% {\n",
              "      border-color: transparent;\n",
              "      border-left-color: var(--fill-color);\n",
              "      border-top-color: var(--fill-color);\n",
              "    }\n",
              "    30% {\n",
              "      border-color: transparent;\n",
              "      border-left-color: var(--fill-color);\n",
              "      border-top-color: var(--fill-color);\n",
              "      border-right-color: var(--fill-color);\n",
              "    }\n",
              "    40% {\n",
              "      border-color: transparent;\n",
              "      border-right-color: var(--fill-color);\n",
              "      border-top-color: var(--fill-color);\n",
              "    }\n",
              "    60% {\n",
              "      border-color: transparent;\n",
              "      border-right-color: var(--fill-color);\n",
              "    }\n",
              "    80% {\n",
              "      border-color: transparent;\n",
              "      border-right-color: var(--fill-color);\n",
              "      border-bottom-color: var(--fill-color);\n",
              "    }\n",
              "    90% {\n",
              "      border-color: transparent;\n",
              "      border-bottom-color: var(--fill-color);\n",
              "    }\n",
              "  }\n",
              "</style>\n",
              "\n",
              "  <script>\n",
              "    async function quickchart(key) {\n",
              "      const quickchartButtonEl =\n",
              "        document.querySelector('#' + key + ' button');\n",
              "      quickchartButtonEl.disabled = true;  // To prevent multiple clicks.\n",
              "      quickchartButtonEl.classList.add('colab-df-spinner');\n",
              "      try {\n",
              "        const charts = await google.colab.kernel.invokeFunction(\n",
              "            'suggestCharts', [key], {});\n",
              "      } catch (error) {\n",
              "        console.error('Error during call to suggestCharts:', error);\n",
              "      }\n",
              "      quickchartButtonEl.classList.remove('colab-df-spinner');\n",
              "      quickchartButtonEl.classList.add('colab-df-quickchart-complete');\n",
              "    }\n",
              "    (() => {\n",
              "      let quickchartButtonEl =\n",
              "        document.querySelector('#df-9819e9e6-3eb4-45dc-8912-5fc40f51ff77 button');\n",
              "      quickchartButtonEl.style.display =\n",
              "        google.colab.kernel.accessAllowed ? 'block' : 'none';\n",
              "    })();\n",
              "  </script>\n",
              "</div>\n",
              "\n",
              "  <div id=\"id_1b86ba38-c75c-4e8d-8e6e-d84e32073317\">\n",
              "    <style>\n",
              "      .colab-df-generate {\n",
              "        background-color: #E8F0FE;\n",
              "        border: none;\n",
              "        border-radius: 50%;\n",
              "        cursor: pointer;\n",
              "        display: none;\n",
              "        fill: #1967D2;\n",
              "        height: 32px;\n",
              "        padding: 0 0 0 0;\n",
              "        width: 32px;\n",
              "      }\n",
              "\n",
              "      .colab-df-generate:hover {\n",
              "        background-color: #E2EBFA;\n",
              "        box-shadow: 0px 1px 2px rgba(60, 64, 67, 0.3), 0px 1px 3px 1px rgba(60, 64, 67, 0.15);\n",
              "        fill: #174EA6;\n",
              "      }\n",
              "\n",
              "      [theme=dark] .colab-df-generate {\n",
              "        background-color: #3B4455;\n",
              "        fill: #D2E3FC;\n",
              "      }\n",
              "\n",
              "      [theme=dark] .colab-df-generate:hover {\n",
              "        background-color: #434B5C;\n",
              "        box-shadow: 0px 1px 3px 1px rgba(0, 0, 0, 0.15);\n",
              "        filter: drop-shadow(0px 1px 2px rgba(0, 0, 0, 0.3));\n",
              "        fill: #FFFFFF;\n",
              "      }\n",
              "    </style>\n",
              "    <button class=\"colab-df-generate\" onclick=\"generateWithVariable('data')\"\n",
              "            title=\"Generate code using this dataframe.\"\n",
              "            style=\"display:none;\">\n",
              "\n",
              "  <svg xmlns=\"http://www.w3.org/2000/svg\" height=\"24px\"viewBox=\"0 0 24 24\"\n",
              "       width=\"24px\">\n",
              "    <path d=\"M7,19H8.4L18.45,9,17,7.55,7,17.6ZM5,21V16.75L18.45,3.32a2,2,0,0,1,2.83,0l1.4,1.43a1.91,1.91,0,0,1,.58,1.4,1.91,1.91,0,0,1-.58,1.4L9.25,21ZM18.45,9,17,7.55Zm-12,3A5.31,5.31,0,0,0,4.9,8.1,5.31,5.31,0,0,0,1,6.5,5.31,5.31,0,0,0,4.9,4.9,5.31,5.31,0,0,0,6.5,1,5.31,5.31,0,0,0,8.1,4.9,5.31,5.31,0,0,0,12,6.5,5.46,5.46,0,0,0,6.5,12Z\"/>\n",
              "  </svg>\n",
              "    </button>\n",
              "    <script>\n",
              "      (() => {\n",
              "      const buttonEl =\n",
              "        document.querySelector('#id_1b86ba38-c75c-4e8d-8e6e-d84e32073317 button.colab-df-generate');\n",
              "      buttonEl.style.display =\n",
              "        google.colab.kernel.accessAllowed ? 'block' : 'none';\n",
              "\n",
              "      buttonEl.onclick = () => {\n",
              "        google.colab.notebook.generateWithVariable('data');\n",
              "      }\n",
              "      })();\n",
              "    </script>\n",
              "  </div>\n",
              "\n",
              "    </div>\n",
              "  </div>\n"
            ],
            "application/vnd.google.colaboratory.intrinsic+json": {
              "type": "dataframe",
              "variable_name": "data",
              "summary": "{\n  \"name\": \"data\",\n  \"rows\": 9578,\n  \"fields\": [\n    {\n      \"column\": \"credit.policy\",\n      \"properties\": {\n        \"dtype\": \"number\",\n        \"std\": 0,\n        \"min\": 0,\n        \"max\": 1,\n        \"num_unique_values\": 2,\n        \"samples\": [\n          0,\n          1\n        ],\n        \"semantic_type\": \"\",\n        \"description\": \"\"\n      }\n    },\n    {\n      \"column\": \"purpose\",\n      \"properties\": {\n        \"dtype\": \"category\",\n        \"num_unique_values\": 7,\n        \"samples\": [\n          \"debt_consolidation\",\n          \"credit_card\"\n        ],\n        \"semantic_type\": \"\",\n        \"description\": \"\"\n      }\n    },\n    {\n      \"column\": \"int.rate\",\n      \"properties\": {\n        \"dtype\": \"number\",\n        \"std\": 0.026846987213382245,\n        \"min\": 0.06,\n        \"max\": 0.2164,\n        \"num_unique_values\": 249,\n        \"samples\": [\n          0.1367,\n          0.1496\n        ],\n        \"semantic_type\": \"\",\n        \"description\": \"\"\n      }\n    },\n    {\n      \"column\": \"installment\",\n      \"properties\": {\n        \"dtype\": \"number\",\n        \"std\": 207.07130149985824,\n        \"min\": 15.67,\n        \"max\": 940.14,\n        \"num_unique_values\": 4788,\n        \"samples\": [\n          326.02,\n          182.39\n        ],\n        \"semantic_type\": \"\",\n        \"description\": \"\"\n      }\n    },\n    {\n      \"column\": \"log.annual.inc\",\n      \"properties\": {\n        \"dtype\": \"number\",\n        \"std\": 0.6148127513545925,\n        \"min\": 7.547501683,\n        \"max\": 14.52835448,\n        \"num_unique_values\": 1987,\n        \"samples\": [\n          10.22557105,\n          11.19908503\n        ],\n        \"semantic_type\": \"\",\n        \"description\": \"\"\n      }\n    },\n    {\n      \"column\": \"dti\",\n      \"properties\": {\n        \"dtype\": \"number\",\n        \"std\": 6.883969540539616,\n        \"min\": 0.0,\n        \"max\": 29.96,\n        \"num_unique_values\": 2529,\n        \"samples\": [\n          5.86,\n          21.4\n        ],\n        \"semantic_type\": \"\",\n        \"description\": \"\"\n      }\n    },\n    {\n      \"column\": \"fico\",\n      \"properties\": {\n        \"dtype\": \"number\",\n        \"std\": 37,\n        \"min\": 612,\n        \"max\": 827,\n        \"num_unique_values\": 44,\n        \"samples\": [\n          647,\n          717\n        ],\n        \"semantic_type\": \"\",\n        \"description\": \"\"\n      }\n    },\n    {\n      \"column\": \"days.with.cr.line\",\n      \"properties\": {\n        \"dtype\": \"number\",\n        \"std\": 2496.930376811348,\n        \"min\": 178.9583333,\n        \"max\": 17639.95833,\n        \"num_unique_values\": 2687,\n        \"samples\": [\n          2432.0,\n          8669.958333\n        ],\n        \"semantic_type\": \"\",\n        \"description\": \"\"\n      }\n    },\n    {\n      \"column\": \"revol.bal\",\n      \"properties\": {\n        \"dtype\": \"number\",\n        \"std\": 33756,\n        \"min\": 0,\n        \"max\": 1207359,\n        \"num_unique_values\": 7869,\n        \"samples\": [\n          11196,\n          462\n        ],\n        \"semantic_type\": \"\",\n        \"description\": \"\"\n      }\n    },\n    {\n      \"column\": \"revol.util\",\n      \"properties\": {\n        \"dtype\": \"number\",\n        \"std\": 29.014416965641065,\n        \"min\": 0.0,\n        \"max\": 119.0,\n        \"num_unique_values\": 1035,\n        \"samples\": [\n          28.6,\n          1.7\n        ],\n        \"semantic_type\": \"\",\n        \"description\": \"\"\n      }\n    },\n    {\n      \"column\": \"inq.last.6mths\",\n      \"properties\": {\n        \"dtype\": \"number\",\n        \"std\": 2,\n        \"min\": 0,\n        \"max\": 33,\n        \"num_unique_values\": 28,\n        \"samples\": [\n          33,\n          24\n        ],\n        \"semantic_type\": \"\",\n        \"description\": \"\"\n      }\n    },\n    {\n      \"column\": \"delinq.2yrs\",\n      \"properties\": {\n        \"dtype\": \"number\",\n        \"std\": 0,\n        \"min\": 0,\n        \"max\": 13,\n        \"num_unique_values\": 11,\n        \"samples\": [\n          5,\n          0\n        ],\n        \"semantic_type\": \"\",\n        \"description\": \"\"\n      }\n    },\n    {\n      \"column\": \"pub.rec\",\n      \"properties\": {\n        \"dtype\": \"number\",\n        \"std\": 0,\n        \"min\": 0,\n        \"max\": 5,\n        \"num_unique_values\": 6,\n        \"samples\": [\n          0,\n          1\n        ],\n        \"semantic_type\": \"\",\n        \"description\": \"\"\n      }\n    },\n    {\n      \"column\": \"not.fully.paid\",\n      \"properties\": {\n        \"dtype\": \"number\",\n        \"std\": 0,\n        \"min\": 0,\n        \"max\": 1,\n        \"num_unique_values\": 2,\n        \"samples\": [\n          1,\n          0\n        ],\n        \"semantic_type\": \"\",\n        \"description\": \"\"\n      }\n    }\n  ]\n}"
            }
          },
          "metadata": {},
          "execution_count": 3
        }
      ]
    },
    {
      "cell_type": "code",
      "source": [
        "data.info()"
      ],
      "metadata": {
        "colab": {
          "base_uri": "https://localhost:8080/"
        },
        "id": "3c3MVLD3VkxC",
        "outputId": "e2a11dce-5e03-40b4-873d-225a75626533"
      },
      "execution_count": 4,
      "outputs": [
        {
          "output_type": "stream",
          "name": "stdout",
          "text": [
            "<class 'pandas.core.frame.DataFrame'>\n",
            "RangeIndex: 9578 entries, 0 to 9577\n",
            "Data columns (total 14 columns):\n",
            " #   Column             Non-Null Count  Dtype  \n",
            "---  ------             --------------  -----  \n",
            " 0   credit.policy      9578 non-null   int64  \n",
            " 1   purpose            9578 non-null   object \n",
            " 2   int.rate           9578 non-null   float64\n",
            " 3   installment        9578 non-null   float64\n",
            " 4   log.annual.inc     9578 non-null   float64\n",
            " 5   dti                9578 non-null   float64\n",
            " 6   fico               9578 non-null   int64  \n",
            " 7   days.with.cr.line  9578 non-null   float64\n",
            " 8   revol.bal          9578 non-null   int64  \n",
            " 9   revol.util         9578 non-null   float64\n",
            " 10  inq.last.6mths     9578 non-null   int64  \n",
            " 11  delinq.2yrs        9578 non-null   int64  \n",
            " 12  pub.rec            9578 non-null   int64  \n",
            " 13  not.fully.paid     9578 non-null   int64  \n",
            "dtypes: float64(6), int64(7), object(1)\n",
            "memory usage: 1.0+ MB\n"
          ]
        }
      ]
    },
    {
      "cell_type": "code",
      "source": [
        "data['not.fully.paid'].value_counts()"
      ],
      "metadata": {
        "colab": {
          "base_uri": "https://localhost:8080/"
        },
        "id": "wRYIHsvDV8aB",
        "outputId": "e0ece071-3d2d-49b2-fb23-a4d94a4462f6"
      },
      "execution_count": 5,
      "outputs": [
        {
          "output_type": "execute_result",
          "data": {
            "text/plain": [
              "0    8045\n",
              "1    1533\n",
              "Name: not.fully.paid, dtype: int64"
            ]
          },
          "metadata": {},
          "execution_count": 5
        }
      ]
    },
    {
      "cell_type": "markdown",
      "source": [
        "**Exploratory data analysis of different factors of the dataset**"
      ],
      "metadata": {
        "id": "kOqhU2nqWjnm"
      }
    },
    {
      "cell_type": "code",
      "source": [
        "data['not.fully.paid'].value_counts().plot(kind='bar')"
      ],
      "metadata": {
        "colab": {
          "base_uri": "https://localhost:8080/",
          "height": 442
        },
        "id": "Xcud_CNsWI3j",
        "outputId": "46966a21-c4a2-4872-9ad2-55d8c7cfc882"
      },
      "execution_count": 6,
      "outputs": [
        {
          "output_type": "execute_result",
          "data": {
            "text/plain": [
              "<Axes: >"
            ]
          },
          "metadata": {},
          "execution_count": 6
        },
        {
          "output_type": "display_data",
          "data": {
            "text/plain": [
              "<Figure size 640x480 with 1 Axes>"
            ],
            "image/png": "[encoded data removed]"
          },
          "metadata": {}
        }
      ]
    },
    {
      "cell_type": "code",
      "source": [
        "# purpose\n",
        "plt.figure(figsize=(11,7))\n",
        "sns.countplot(x=data['purpose'])\n",
        "plt.show()"
      ],
      "metadata": {
        "colab": {
          "base_uri": "https://localhost:8080/",
          "height": 619
        },
        "id": "SshtLgeyWvFC",
        "outputId": "d4b31d4a-1d82-4f36-b4aa-35ff031c3ddf"
      },
      "execution_count": 8,
      "outputs": [
        {
          "output_type": "display_data",
          "data": {
            "text/plain": [
              "<Figure size 1100x700 with 1 Axes>"
            ],
            "image/png": "[encoded data removed]"
          },
          "metadata": {}
        }
      ]
    },
    {
      "cell_type": "code",
      "source": [
        "# purpose\n",
        "plt.figure(figsize=(11,7))\n",
        "sns.countplot(x=data['purpose'],hue='not.fully.paid', data=data)\n",
        "plt.show()"
      ],
      "metadata": {
        "colab": {
          "base_uri": "https://localhost:8080/",
          "height": 621
        },
        "id": "eUDSw4CYXCbh",
        "outputId": "a3b20926-0ffd-4833-889c-78f99e4b93b2"
      },
      "execution_count": 9,
      "outputs": [
        {
          "output_type": "display_data",
          "data": {
            "text/plain": [
              "<Figure size 1100x700 with 1 Axes>"
            ],
            "image/png": "[encoded data removed]"
          },
          "metadata": {}
        }
      ]
    },
    {
      "cell_type": "markdown",
      "source": [
        "**Handle imbalance Data**"
      ],
      "metadata": {
        "id": "hJx7-WM7Y7_R"
      }
    },
    {
      "cell_type": "code",
      "source": [
        "not_fully_paid_0=data[data['not.fully.paid']==0]\n",
        "not_fully_paid_1=data[data['not.fully.paid']==1]\n"
      ],
      "metadata": {
        "id": "ahgpz_JrXwNq"
      },
      "execution_count": 14,
      "outputs": []
    },
    {
      "cell_type": "code",
      "source": [
        "not_fully_paid_0.shape"
      ],
      "metadata": {
        "colab": {
          "base_uri": "https://localhost:8080/"
        },
        "id": "N8tCrny_ZPmM",
        "outputId": "08164fa4-da99-4517-953a-e30de3d3f352"
      },
      "execution_count": 15,
      "outputs": [
        {
          "output_type": "execute_result",
          "data": {
            "text/plain": [
              "(8045, 14)"
            ]
          },
          "metadata": {},
          "execution_count": 15
        }
      ]
    },
    {
      "cell_type": "code",
      "source": [
        "not_fully_paid_1.shape"
      ],
      "metadata": {
        "colab": {
          "base_uri": "https://localhost:8080/"
        },
        "id": "FVQHyBr2ZSoZ",
        "outputId": "df44f40c-1af1-4814-a947-b059691a8127"
      },
      "execution_count": 12,
      "outputs": [
        {
          "output_type": "execute_result",
          "data": {
            "text/plain": [
              "(1533, 14)"
            ]
          },
          "metadata": {},
          "execution_count": 12
        }
      ]
    },
    {
      "cell_type": "code",
      "source": [
        "# resample; in this case it is sampling with replacement\n",
        "from sklearn.utils import resample\n",
        "minor_upsample=resample(not_fully_paid_1, replace=True, n_samples=8045)\n",
        "new_df=pd.concat([not_fully_paid_0, minor_upsample])\n",
        "\n",
        "# shuffle\n",
        "from sklearn.utils import shuffle\n",
        "new_df=shuffle(new_df)"
      ],
      "metadata": {
        "id": "JGEhiz4wZVvm"
      },
      "execution_count": 16,
      "outputs": []
    },
    {
      "cell_type": "code",
      "source": [
        "new_df.shape"
      ],
      "metadata": {
        "colab": {
          "base_uri": "https://localhost:8080/"
        },
        "id": "jh68kSRYaOPy",
        "outputId": "05f38696-2e4f-461c-b794-8f5a072b74a9"
      },
      "execution_count": 17,
      "outputs": [
        {
          "output_type": "execute_result",
          "data": {
            "text/plain": [
              "(16090, 14)"
            ]
          },
          "metadata": {},
          "execution_count": 17
        }
      ]
    },
    {
      "cell_type": "code",
      "source": [
        "new_df.info()"
      ],
      "metadata": {
        "colab": {
          "base_uri": "https://localhost:8080/"
        },
        "id": "9ipod_WEcn3I",
        "outputId": "bba3429c-be88-42ff-94ab-35dfdbaa0c02"
      },
      "execution_count": 22,
      "outputs": [
        {
          "output_type": "stream",
          "name": "stdout",
          "text": [
            "<class 'pandas.core.frame.DataFrame'>\n",
            "Int64Index: 16090 entries, 3598 to 113\n",
            "Data columns (total 14 columns):\n",
            " #   Column             Non-Null Count  Dtype  \n",
            "---  ------             --------------  -----  \n",
            " 0   credit.policy      16090 non-null  int64  \n",
            " 1   purpose            16090 non-null  object \n",
            " 2   int.rate           16090 non-null  float64\n",
            " 3   installment        16090 non-null  float64\n",
            " 4   log.annual.inc     16090 non-null  float64\n",
            " 5   dti                16090 non-null  float64\n",
            " 6   fico               16090 non-null  int64  \n",
            " 7   days.with.cr.line  16090 non-null  float64\n",
            " 8   revol.bal          16090 non-null  int64  \n",
            " 9   revol.util         16090 non-null  float64\n",
            " 10  inq.last.6mths     16090 non-null  int64  \n",
            " 11  delinq.2yrs        16090 non-null  int64  \n",
            " 12  pub.rec            16090 non-null  int64  \n",
            " 13  not.fully.paid     16090 non-null  int64  \n",
            "dtypes: float64(6), int64(7), object(1)\n",
            "memory usage: 1.8+ MB\n"
          ]
        }
      ]
    },
    {
      "cell_type": "code",
      "source": [
        "# apply encoding\n",
        "from sklearn.preprocessing import LabelEncoder\n",
        "le=LabelEncoder()"
      ],
      "metadata": {
        "id": "24Cb_tqTaP1n"
      },
      "execution_count": 23,
      "outputs": []
    },
    {
      "cell_type": "code",
      "source": [
        "for i in new_df.columns:\n",
        "    if new_df[i].dtypes=='object':\n",
        "        new_df[i]=le.fit_transform(new_df[i])"
      ],
      "metadata": {
        "id": "Wn-tJ_yocnLo"
      },
      "execution_count": 24,
      "outputs": []
    },
    {
      "cell_type": "code",
      "source": [
        "new_df.head()"
      ],
      "metadata": {
        "colab": {
          "base_uri": "https://localhost:8080/",
          "height": 226
        },
        "id": "Y7FmBG1Hc9yh",
        "outputId": "c440cd00-332f-4648-d6e3-ecd2369f4176"
      },
      "execution_count": 25,
      "outputs": [
        {
          "output_type": "execute_result",
          "data": {
            "text/plain": [
              "      credit.policy  purpose  int.rate  installment  log.annual.inc    dti  \\\n",
              "3598              1        0    0.0932        31.95       11.350407   7.27   \n",
              "9466              0        0    0.1287       622.22       11.260611  18.24   \n",
              "7152              1        5    0.1025       161.93       10.404263   1.42   \n",
              "4882              1        2    0.1183       497.01       12.114484   9.26   \n",
              "7374              1        6    0.1385       272.84       10.645425  10.83   \n",
              "\n",
              "      fico  days.with.cr.line  revol.bal  revol.util  inq.last.6mths  \\\n",
              "3598   732        6510.000000       5690        21.5               0   \n",
              "9466   737        7560.041667     116601        89.6               2   \n",
              "7152   727        4470.000000        245        30.6               1   \n",
              "4882   732        5700.958333      75854        46.2               1   \n",
              "7374   677        4740.000000       5485        76.2               1   \n",
              "\n",
              "      delinq.2yrs  pub.rec  not.fully.paid  \n",
              "3598            0        0               0  \n",
              "9466            0        0               1  \n",
              "7152            0        0               0  \n",
              "4882            1        0               1  \n",
              "7374            0        0               1  "
            ],
            "text/html": [
              "\n",
              "  <div id=\"df-cd6bc991-bad0-41eb-88b7-e1af20f262c3\" class=\"colab-df-container\">\n",
              "    <div>\n",
              "<style scoped>\n",
              "    .dataframe tbody tr th:only-of-type {\n",
              "        vertical-align: middle;\n",
              "    }\n",
              "\n",
              "    .dataframe tbody tr th {\n",
              "        vertical-align: top;\n",
              "    }\n",
              "\n",
              "    .dataframe thead th {\n",
              "        text-align: right;\n",
              "    }\n",
              "</style>\n",
              "<table border=\"1\" class=\"dataframe\">\n",
              "  <thead>\n",
              "    <tr style=\"text-align: right;\">\n",
              "      <th></th>\n",
              "      <th>credit.policy</th>\n",
              "      <th>purpose</th>\n",
              "      <th>int.rate</th>\n",
              "      <th>installment</th>\n",
              "      <th>log.annual.inc</th>\n",
              "      <th>dti</th>\n",
              "      <th>fico</th>\n",
              "      <th>days.with.cr.line</th>\n",
              "      <th>revol.bal</th>\n",
              "      <th>revol.util</th>\n",
              "      <th>inq.last.6mths</th>\n",
              "      <th>delinq.2yrs</th>\n",
              "      <th>pub.rec</th>\n",
              "      <th>not.fully.paid</th>\n",
              "    </tr>\n",
              "  </thead>\n",
              "  <tbody>\n",
              "    <tr>\n",
              "      <th>3598</th>\n",
              "      <td>1</td>\n",
              "      <td>0</td>\n",
              "      <td>0.0932</td>\n",
              "      <td>31.95</td>\n",
              "      <td>11.350407</td>\n",
              "      <td>7.27</td>\n",
              "      <td>732</td>\n",
              "      <td>6510.000000</td>\n",
              "      <td>5690</td>\n",
              "      <td>21.5</td>\n",
              "      <td>0</td>\n",
              "      <td>0</td>\n",
              "      <td>0</td>\n",
              "      <td>0</td>\n",
              "    </tr>\n",
              "    <tr>\n",
              "      <th>9466</th>\n",
              "      <td>0</td>\n",
              "      <td>0</td>\n",
              "      <td>0.1287</td>\n",
              "      <td>622.22</td>\n",
              "      <td>11.260611</td>\n",
              "      <td>18.24</td>\n",
              "      <td>737</td>\n",
              "      <td>7560.041667</td>\n",
              "      <td>116601</td>\n",
              "      <td>89.6</td>\n",
              "      <td>2</td>\n",
              "      <td>0</td>\n",
              "      <td>0</td>\n",
              "      <td>1</td>\n",
              "    </tr>\n",
              "    <tr>\n",
              "      <th>7152</th>\n",
              "      <td>1</td>\n",
              "      <td>5</td>\n",
              "      <td>0.1025</td>\n",
              "      <td>161.93</td>\n",
              "      <td>10.404263</td>\n",
              "      <td>1.42</td>\n",
              "      <td>727</td>\n",
              "      <td>4470.000000</td>\n",
              "      <td>245</td>\n",
              "      <td>30.6</td>\n",
              "      <td>1</td>\n",
              "      <td>0</td>\n",
              "      <td>0</td>\n",
              "      <td>0</td>\n",
              "    </tr>\n",
              "    <tr>\n",
              "      <th>4882</th>\n",
              "      <td>1</td>\n",
              "      <td>2</td>\n",
              "      <td>0.1183</td>\n",
              "      <td>497.01</td>\n",
              "      <td>12.114484</td>\n",
              "      <td>9.26</td>\n",
              "      <td>732</td>\n",
              "      <td>5700.958333</td>\n",
              "      <td>75854</td>\n",
              "      <td>46.2</td>\n",
              "      <td>1</td>\n",
              "      <td>1</td>\n",
              "      <td>0</td>\n",
              "      <td>1</td>\n",
              "    </tr>\n",
              "    <tr>\n",
              "      <th>7374</th>\n",
              "      <td>1</td>\n",
              "      <td>6</td>\n",
              "      <td>0.1385</td>\n",
              "      <td>272.84</td>\n",
              "      <td>10.645425</td>\n",
              "      <td>10.83</td>\n",
              "      <td>677</td>\n",
              "      <td>4740.000000</td>\n",
              "      <td>5485</td>\n",
              "      <td>76.2</td>\n",
              "      <td>1</td>\n",
              "      <td>0</td>\n",
              "      <td>0</td>\n",
              "      <td>1</td>\n",
              "    </tr>\n",
              "  </tbody>\n",
              "</table>\n",
              "</div>\n",
              "    <div class=\"colab-df-buttons\">\n",
              "\n",
              "  <div class=\"colab-df-container\">\n",
              "    <button class=\"colab-df-convert\" onclick=\"convertToInteractive('df-cd6bc991-bad0-41eb-88b7-e1af20f262c3')\"\n",
              "            title=\"Convert this dataframe to an interactive table.\"\n",
              "            style=\"display:none;\">\n",
              "\n",
              "  <svg xmlns=\"http://www.w3.org/2000/svg\" height=\"24px\" viewBox=\"0 -960 960 960\">\n",
              "    <path d=\"M120-120v-720h720v720H120Zm60-500h600v-160H180v160Zm220 220h160v-160H400v160Zm0 220h160v-160H400v160ZM180-400h160v-160H180v160Zm440 0h160v-160H620v160ZM180-180h160v-160H180v160Zm440 0h160v-160H620v160Z\"/>\n",
              "  </svg>\n",
              "    </button>\n",
              "\n",
              "  <style>\n",
              "    .colab-df-container {\n",
              "      display:flex;\n",
              "      gap: 12px;\n",
              "    }\n",
              "\n",
              "    .colab-df-convert {\n",
              "      background-color: #E8F0FE;\n",
              "      border: none;\n",
              "      border-radius: 50%;\n",
              "      cursor: pointer;\n",
              "      display: none;\n",
              "      fill: #1967D2;\n",
              "      height: 32px;\n",
              "      padding: 0 0 0 0;\n",
              "      width: 32px;\n",
              "    }\n",
              "\n",
              "    .colab-df-convert:hover {\n",
              "      background-color: #E2EBFA;\n",
              "      box-shadow: 0px 1px 2px rgba(60, 64, 67, 0.3), 0px 1px 3px 1px rgba(60, 64, 67, 0.15);\n",
              "      fill: #174EA6;\n",
              "    }\n",
              "\n",
              "    .colab-df-buttons div {\n",
              "      margin-bottom: 4px;\n",
              "    }\n",
              "\n",
              "    [theme=dark] .colab-df-convert {\n",
              "      background-color: #3B4455;\n",
              "      fill: #D2E3FC;\n",
              "    }\n",
              "\n",
              "    [theme=dark] .colab-df-convert:hover {\n",
              "      background-color: #434B5C;\n",
              "      box-shadow: 0px 1px 3px 1px rgba(0, 0, 0, 0.15);\n",
              "      filter: drop-shadow(0px 1px 2px rgba(0, 0, 0, 0.3));\n",
              "      fill: #FFFFFF;\n",
              "    }\n",
              "  </style>\n",
              "\n",
              "    <script>\n",
              "      const buttonEl =\n",
              "        document.querySelector('#df-cd6bc991-bad0-41eb-88b7-e1af20f262c3 button.colab-df-convert');\n",
              "      buttonEl.style.display =\n",
              "        google.colab.kernel.accessAllowed ? 'block' : 'none';\n",
              "\n",
              "      async function convertToInteractive(key) {\n",
              "        const element = document.querySelector('#df-cd6bc991-bad0-41eb-88b7-e1af20f262c3');\n",
              "        const dataTable =\n",
              "          await google.colab.kernel.invokeFunction('convertToInteractive',\n",
              "                                                    [key], {});\n",
              "        if (!dataTable) return;\n",
              "\n",
              "        const docLinkHtml = 'Like what you see? Visit the ' +\n",
              "          '<a target=\"_blank\" href=https://colab.research.google.com/notebooks/data_table.ipynb>data table notebook</a>'\n",
              "          + ' to learn more about interactive tables.';\n",
              "        element.innerHTML = '';\n",
              "        dataTable['output_type'] = 'display_data';\n",
              "        await google.colab.output.renderOutput(dataTable, element);\n",
              "        const docLink = document.createElement('div');\n",
              "        docLink.innerHTML = docLinkHtml;\n",
              "        element.appendChild(docLink);\n",
              "      }\n",
              "    </script>\n",
              "  </div>\n",
              "\n",
              "\n",
              "<div id=\"df-77e4e4de-fb3a-46f7-a78a-2abdd66b491e\">\n",
              "  <button class=\"colab-df-quickchart\" onclick=\"quickchart('df-77e4e4de-fb3a-46f7-a78a-2abdd66b491e')\"\n",
              "            title=\"Suggest charts\"\n",
              "            style=\"display:none;\">\n",
              "\n",
              "<svg xmlns=\"http://www.w3.org/2000/svg\" height=\"24px\"viewBox=\"0 0 24 24\"\n",
              "     width=\"24px\">\n",
              "    <g>\n",
              "        <path d=\"M19 3H5c-1.1 0-2 .9-2 2v14c0 1.1.9 2 2 2h14c1.1 0 2-.9 2-2V5c0-1.1-.9-2-2-2zM9 17H7v-7h2v7zm4 0h-2V7h2v10zm4 0h-2v-4h2v4z\"/>\n",
              "    </g>\n",
              "</svg>\n",
              "  </button>\n",
              "\n",
              "<style>\n",
              "  .colab-df-quickchart {\n",
              "      --bg-color: #E8F0FE;\n",
              "      --fill-color: #1967D2;\n",
              "      --hover-bg-color: #E2EBFA;\n",
              "      --hover-fill-color: #174EA6;\n",
              "      --disabled-fill-color: #AAA;\n",
              "      --disabled-bg-color: #DDD;\n",
              "  }\n",
              "\n",
              "  [theme=dark] .colab-df-quickchart {\n",
              "      --bg-color: #3B4455;\n",
              "      --fill-color: #D2E3FC;\n",
              "      --hover-bg-color: #434B5C;\n",
              "      --hover-fill-color: #FFFFFF;\n",
              "      --disabled-bg-color: #3B4455;\n",
              "      --disabled-fill-color: #666;\n",
              "  }\n",
              "\n",
              "  .colab-df-quickchart {\n",
              "    background-color: var(--bg-color);\n",
              "    border: none;\n",
              "    border-radius: 50%;\n",
              "    cursor: pointer;\n",
              "    display: none;\n",
              "    fill: var(--fill-color);\n",
              "    height: 32px;\n",
              "    padding: 0;\n",
              "    width: 32px;\n",
              "  }\n",
              "\n",
              "  .colab-df-quickchart:hover {\n",
              "    background-color: var(--hover-bg-color);\n",
              "    box-shadow: 0 1px 2px rgba(60, 64, 67, 0.3), 0 1px 3px 1px rgba(60, 64, 67, 0.15);\n",
              "    fill: var(--button-hover-fill-color);\n",
              "  }\n",
              "\n",
              "  .colab-df-quickchart-complete:disabled,\n",
              "  .colab-df-quickchart-complete:disabled:hover {\n",
              "    background-color: var(--disabled-bg-color);\n",
              "    fill: var(--disabled-fill-color);\n",
              "    box-shadow: none;\n",
              "  }\n",
              "\n",
              "  .colab-df-spinner {\n",
              "    border: 2px solid var(--fill-color);\n",
              "    border-color: transparent;\n",
              "    border-bottom-color: var(--fill-color);\n",
              "    animation:\n",
              "      spin 1s steps(1) infinite;\n",
              "  }\n",
              "\n",
              "  @keyframes spin {\n",
              "    0% {\n",
              "      border-color: transparent;\n",
              "      border-bottom-color: var(--fill-color);\n",
              "      border-left-color: var(--fill-color);\n",
              "    }\n",
              "    20% {\n",
              "      border-color: transparent;\n",
              "      border-left-color: var(--fill-color);\n",
              "      border-top-color: var(--fill-color);\n",
              "    }\n",
              "    30% {\n",
              "      border-color: transparent;\n",
              "      border-left-color: var(--fill-color);\n",
              "      border-top-color: var(--fill-color);\n",
              "      border-right-color: var(--fill-color);\n",
              "    }\n",
              "    40% {\n",
              "      border-color: transparent;\n",
              "      border-right-color: var(--fill-color);\n",
              "      border-top-color: var(--fill-color);\n",
              "    }\n",
              "    60% {\n",
              "      border-color: transparent;\n",
              "      border-right-color: var(--fill-color);\n",
              "    }\n",
              "    80% {\n",
              "      border-color: transparent;\n",
              "      border-right-color: var(--fill-color);\n",
              "      border-bottom-color: var(--fill-color);\n",
              "    }\n",
              "    90% {\n",
              "      border-color: transparent;\n",
              "      border-bottom-color: var(--fill-color);\n",
              "    }\n",
              "  }\n",
              "</style>\n",
              "\n",
              "  <script>\n",
              "    async function quickchart(key) {\n",
              "      const quickchartButtonEl =\n",
              "        document.querySelector('#' + key + ' button');\n",
              "      quickchartButtonEl.disabled = true;  // To prevent multiple clicks.\n",
              "      quickchartButtonEl.classList.add('colab-df-spinner');\n",
              "      try {\n",
              "        const charts = await google.colab.kernel.invokeFunction(\n",
              "            'suggestCharts', [key], {});\n",
              "      } catch (error) {\n",
              "        console.error('Error during call to suggestCharts:', error);\n",
              "      }\n",
              "      quickchartButtonEl.classList.remove('colab-df-spinner');\n",
              "      quickchartButtonEl.classList.add('colab-df-quickchart-complete');\n",
              "    }\n",
              "    (() => {\n",
              "      let quickchartButtonEl =\n",
              "        document.querySelector('#df-77e4e4de-fb3a-46f7-a78a-2abdd66b491e button');\n",
              "      quickchartButtonEl.style.display =\n",
              "        google.colab.kernel.accessAllowed ? 'block' : 'none';\n",
              "    })();\n",
              "  </script>\n",
              "</div>\n",
              "\n",
              "    </div>\n",
              "  </div>\n"
            ],
            "application/vnd.google.colaboratory.intrinsic+json": {
              "type": "dataframe",
              "variable_name": "new_df",
              "summary": "{\n  \"name\": \"new_df\",\n  \"rows\": 16090,\n  \"fields\": [\n    {\n      \"column\": \"credit.policy\",\n      \"properties\": {\n        \"dtype\": \"number\",\n        \"std\": 0,\n        \"min\": 0,\n        \"max\": 1,\n        \"num_unique_values\": 2,\n        \"samples\": [\n          0,\n          1\n        ],\n        \"semantic_type\": \"\",\n        \"description\": \"\"\n      }\n    },\n    {\n      \"column\": \"purpose\",\n      \"properties\": {\n        \"dtype\": \"number\",\n        \"std\": 1,\n        \"min\": 0,\n        \"max\": 6,\n        \"num_unique_values\": 7,\n        \"samples\": [\n          0,\n          5\n        ],\n        \"semantic_type\": \"\",\n        \"description\": \"\"\n      }\n    },\n    {\n      \"column\": \"int.rate\",\n      \"properties\": {\n        \"dtype\": \"number\",\n        \"std\": 0.026886674894490023,\n        \"min\": 0.06,\n        \"max\": 0.2164,\n        \"num_unique_values\": 249,\n        \"samples\": [\n          0.1375,\n          0.1126\n        ],\n        \"semantic_type\": \"\",\n        \"description\": \"\"\n      }\n    },\n    {\n      \"column\": \"installment\",\n      \"properties\": {\n        \"dtype\": \"number\",\n        \"std\": 213.86541197939016,\n        \"min\": 15.67,\n        \"max\": 940.14,\n        \"num_unique_values\": 4784,\n        \"samples\": [\n          604.88,\n          266.36\n        ],\n        \"semantic_type\": \"\",\n        \"description\": \"\"\n      }\n    },\n    {\n      \"column\": \"log.annual.inc\",\n      \"properties\": {\n        \"dtype\": \"number\",\n        \"std\": 0.6416057845777667,\n        \"min\": 7.547501683,\n        \"max\": 14.52835448,\n        \"num_unique_values\": 1986,\n        \"samples\": [\n          11.54248427,\n          9.655026193\n        ],\n        \"semantic_type\": \"\",\n        \"description\": \"\"\n      }\n    },\n    {\n      \"column\": \"dti\",\n      \"properties\": {\n        \"dtype\": \"number\",\n        \"std\": 6.9389363911309925,\n        \"min\": 0.0,\n        \"max\": 29.96,\n        \"num_unique_values\": 2529,\n        \"samples\": [\n          9.9,\n          12.41\n        ],\n        \"semantic_type\": \"\",\n        \"description\": \"\"\n      }\n    },\n    {\n      \"column\": \"fico\",\n      \"properties\": {\n        \"dtype\": \"number\",\n        \"std\": 36,\n        \"min\": 612,\n        \"max\": 827,\n        \"num_unique_values\": 44,\n        \"samples\": [\n          817,\n          642\n        ],\n        \"semantic_type\": \"\",\n        \"description\": \"\"\n      }\n    },\n    {\n      \"column\": \"days.with.cr.line\",\n      \"properties\": {\n        \"dtype\": \"number\",\n        \"std\": 2485.9686501896767,\n        \"min\": 178.9583333,\n        \"max\": 17639.95833,\n        \"num_unique_values\": 2687,\n        \"samples\": [\n          3073.0,\n          2945.0\n        ],\n        \"semantic_type\": \"\",\n        \"description\": \"\"\n      }\n    },\n    {\n      \"column\": \"revol.bal\",\n      \"properties\": {\n        \"dtype\": \"number\",\n        \"std\": 39954,\n        \"min\": 0,\n        \"max\": 1207359,\n        \"num_unique_values\": 7865,\n        \"samples\": [\n          3973,\n          4765\n        ],\n        \"semantic_type\": \"\",\n        \"description\": \"\"\n      }\n    },\n    {\n      \"column\": \"revol.util\",\n      \"properties\": {\n        \"dtype\": \"number\",\n        \"std\": 29.241309670536943,\n        \"min\": 0.0,\n        \"max\": 119.0,\n        \"num_unique_values\": 1035,\n        \"samples\": [\n          97.3,\n          90.1\n        ],\n        \"semantic_type\": \"\",\n        \"description\": \"\"\n      }\n    },\n    {\n      \"column\": \"inq.last.6mths\",\n      \"properties\": {\n        \"dtype\": \"number\",\n        \"std\": 2,\n        \"min\": 0,\n        \"max\": 33,\n        \"num_unique_values\": 28,\n        \"samples\": [\n          10,\n          19\n        ],\n        \"semantic_type\": \"\",\n        \"description\": \"\"\n      }\n    },\n    {\n      \"column\": \"delinq.2yrs\",\n      \"properties\": {\n        \"dtype\": \"number\",\n        \"std\": 0,\n        \"min\": 0,\n        \"max\": 13,\n        \"num_unique_values\": 11,\n        \"samples\": [\n          5,\n          0\n        ],\n        \"semantic_type\": \"\",\n        \"description\": \"\"\n      }\n    },\n    {\n      \"column\": \"pub.rec\",\n      \"properties\": {\n        \"dtype\": \"number\",\n        \"std\": 0,\n        \"min\": 0,\n        \"max\": 5,\n        \"num_unique_values\": 6,\n        \"samples\": [\n          0,\n          1\n        ],\n        \"semantic_type\": \"\",\n        \"description\": \"\"\n      }\n    },\n    {\n      \"column\": \"not.fully.paid\",\n      \"properties\": {\n        \"dtype\": \"number\",\n        \"std\": 0,\n        \"min\": 0,\n        \"max\": 1,\n        \"num_unique_values\": 2,\n        \"samples\": [\n          1,\n          0\n        ],\n        \"semantic_type\": \"\",\n        \"description\": \"\"\n      }\n    }\n  ]\n}"
            }
          },
          "metadata": {},
          "execution_count": 25
        }
      ]
    },
    {
      "cell_type": "code",
      "source": [
        "new_df['purpose'].value_counts()"
      ],
      "metadata": {
        "colab": {
          "base_uri": "https://localhost:8080/"
        },
        "id": "9uDv9vixdAXK",
        "outputId": "37bb76fb-c48e-4bfa-a392-351062ccf83a"
      },
      "execution_count": 26,
      "outputs": [
        {
          "output_type": "execute_result",
          "data": {
            "text/plain": [
              "2    6444\n",
              "0    3997\n",
              "1    1896\n",
              "6    1360\n",
              "4    1108\n",
              "3     644\n",
              "5     641\n",
              "Name: purpose, dtype: int64"
            ]
          },
          "metadata": {},
          "execution_count": 26
        }
      ]
    },
    {
      "cell_type": "markdown",
      "source": [
        "**Feature Engineering**"
      ],
      "metadata": {
        "id": "ToRelo7EfeW0"
      }
    },
    {
      "cell_type": "code",
      "source": [
        "plt.figure(figsize=(11,7))\n",
        "sns.heatmap(new_df.corr(),annot=True)\n",
        "plt.show()"
      ],
      "metadata": {
        "colab": {
          "base_uri": "https://localhost:8080/",
          "height": 703
        },
        "id": "Ou177f1oewru",
        "outputId": "f77862ab-0725-430f-db93-7bea030044ea"
      },
      "execution_count": 27,
      "outputs": [
        {
          "output_type": "display_data",
          "data": {
            "text/plain": [
              "<Figure size 1100x700 with 2 Axes>"
            ],
            "image/png": "[encoded data removed]"
          },
          "metadata": {}
        }
      ]
    },
    {
      "cell_type": "code",
      "source": [
        "# see the corr\n",
        "new_df.corr().abs()['not.fully.paid'].sort_values(ascending=False)"
      ],
      "metadata": {
        "colab": {
          "base_uri": "https://localhost:8080/"
        },
        "id": "bsvS6Y-vfva3",
        "outputId": "59c761a6-82f1-4490-c7c7-82ec12eaeb1e"
      },
      "execution_count": 28,
      "outputs": [
        {
          "output_type": "execute_result",
          "data": {
            "text/plain": [
              "not.fully.paid       1.000000\n",
              "int.rate             0.219874\n",
              "fico                 0.215046\n",
              "credit.policy        0.195013\n",
              "inq.last.6mths       0.173579\n",
              "revol.util           0.117075\n",
              "purpose              0.063193\n",
              "pub.rec              0.061152\n",
              "revol.bal            0.060727\n",
              "installment          0.059559\n",
              "log.annual.inc       0.047581\n",
              "dti                  0.046353\n",
              "days.with.cr.line    0.042699\n",
              "delinq.2yrs          0.011449\n",
              "Name: not.fully.paid, dtype: float64"
            ]
          },
          "metadata": {},
          "execution_count": 28
        }
      ]
    },
    {
      "cell_type": "code",
      "source": [
        "# Teacher mentioned to select features with corr of more than 0.05 threshold, depending on the problem and the corr results\n",
        "new_df.columns"
      ],
      "metadata": {
        "colab": {
          "base_uri": "https://localhost:8080/"
        },
        "id": "eIrZdY6Sgol4",
        "outputId": "a06780f7-8e8a-4003-a0fd-8d310d2c535c"
      },
      "execution_count": 29,
      "outputs": [
        {
          "output_type": "execute_result",
          "data": {
            "text/plain": [
              "Index(['credit.policy', 'purpose', 'int.rate', 'installment', 'log.annual.inc',\n",
              "       'dti', 'fico', 'days.with.cr.line', 'revol.bal', 'revol.util',\n",
              "       'inq.last.6mths', 'delinq.2yrs', 'pub.rec', 'not.fully.paid'],\n",
              "      dtype='object')"
            ]
          },
          "metadata": {},
          "execution_count": 29
        }
      ]
    },
    {
      "cell_type": "code",
      "source": [
        "# prepare the data\n",
        "X=new_df[['credit.policy', 'purpose', 'int.rate', 'installment',\n",
        "       'fico', 'revol.bal', 'revol.util',\n",
        "       'inq.last.6mths', 'pub.rec',]]"
      ],
      "metadata": {
        "id": "RSyPoWhWiArK"
      },
      "execution_count": 30,
      "outputs": []
    },
    {
      "cell_type": "code",
      "source": [
        "X.shape"
      ],
      "metadata": {
        "colab": {
          "base_uri": "https://localhost:8080/"
        },
        "id": "d3aPYyMeiZJu",
        "outputId": "cf51c964-d3f4-44a9-81e3-bcd7a6c2e1e1"
      },
      "execution_count": 31,
      "outputs": [
        {
          "output_type": "execute_result",
          "data": {
            "text/plain": [
              "(16090, 9)"
            ]
          },
          "metadata": {},
          "execution_count": 31
        }
      ]
    },
    {
      "cell_type": "markdown",
      "source": [
        "9 - number of classes of input values"
      ],
      "metadata": {
        "id": "hxJgEw1Hirt-"
      }
    },
    {
      "cell_type": "code",
      "source": [
        "y=new_df[['not.fully.paid']]"
      ],
      "metadata": {
        "id": "HtPkIg5hianl"
      },
      "execution_count": 32,
      "outputs": []
    },
    {
      "cell_type": "code",
      "source": [
        "# create train set and test set\n",
        "from sklearn.model_selection import train_test_split\n",
        "X_train,X_test,y_train,y_test=train_test_split(X,y,test_size=0.2,random_state=42)"
      ],
      "metadata": {
        "id": "ENVX8JrmizP3"
      },
      "execution_count": 33,
      "outputs": []
    },
    {
      "cell_type": "code",
      "source": [
        "# Apply standard scaling\n",
        "from sklearn.preprocessing import StandardScaler\n",
        "sc=StandardScaler()\n",
        "X_train=sc.fit_transform(X_train)\n",
        "X_test=sc.transform(X_test)"
      ],
      "metadata": {
        "id": "TpoCUwqijMcJ"
      },
      "execution_count": 34,
      "outputs": []
    },
    {
      "cell_type": "code",
      "source": [
        "# import library\n",
        "from tensorflow.keras.models import Sequential\n",
        "from tensorflow.keras.layers import Dense, Dropout, BatchNormalization\n",
        "from tensorflow.keras.callbacks import EarlyStopping\n",
        "print('imported')"
      ],
      "metadata": {
        "colab": {
          "base_uri": "https://localhost:8080/"
        },
        "id": "Zh-DnSpzjOyB",
        "outputId": "51fe78df-d492-4b78-f049-dbf5182f3e0a"
      },
      "execution_count": 36,
      "outputs": [
        {
          "output_type": "stream",
          "name": "stdout",
          "text": [
            "imported\n"
          ]
        }
      ]
    },
    {
      "cell_type": "code",
      "source": [
        "# create architecture\n",
        "# create ANN with 2 hidden layers, first hidden layer 19 neurons, second hidden layer 10 neurons, activation relu\n",
        "# dropout 0.25, batchnormisation\n",
        "model=Sequential()\n",
        "# first hidden layer\n",
        "model.add(Dense(19,activation='relu',input_shape=(9,)))\n",
        "model.add(Dropout(0.25))\n",
        "model.add(BatchNormalization())\n",
        "# second hidden layer\n",
        "model.add(Dense(10,activation='relu'))\n",
        "model.add(Dropout(0.25))\n",
        "model.add(BatchNormalization())\n",
        "\n",
        "# output layer\n",
        "model.add(Dense(1,activation='sigmoid'))"
      ],
      "metadata": {
        "id": "T9iwUSzIjluR"
      },
      "execution_count": 45,
      "outputs": []
    },
    {
      "cell_type": "code",
      "source": [
        "model.summary()"
      ],
      "metadata": {
        "colab": {
          "base_uri": "https://localhost:8080/"
        },
        "id": "gxGUJ6jmlme5",
        "outputId": "2876140d-e3a8-463e-d27a-1ab402a79f6a"
      },
      "execution_count": 46,
      "outputs": [
        {
          "output_type": "stream",
          "name": "stdout",
          "text": [
            "Model: \"sequential_5\"\n",
            "_________________________________________________________________\n",
            " Layer (type)                Output Shape              Param #   \n",
            "=================================================================\n",
            " dense_13 (Dense)            (None, 19)                190       \n",
            "                                                                 \n",
            " dropout_9 (Dropout)         (None, 19)                0         \n",
            "                                                                 \n",
            " batch_normalization_6 (Bat  (None, 19)                76        \n",
            " chNormalization)                                                \n",
            "                                                                 \n",
            " dense_14 (Dense)            (None, 10)                200       \n",
            "                                                                 \n",
            " dropout_10 (Dropout)        (None, 10)                0         \n",
            "                                                                 \n",
            " batch_normalization_7 (Bat  (None, 10)                40        \n",
            " chNormalization)                                                \n",
            "                                                                 \n",
            " dense_15 (Dense)            (None, 1)                 11        \n",
            "                                                                 \n",
            "=================================================================\n",
            "Total params: 517 (2.02 KB)\n",
            "Trainable params: 459 (1.79 KB)\n",
            "Non-trainable params: 58 (232.00 Byte)\n",
            "_________________________________________________________________\n"
          ]
        }
      ]
    },
    {
      "cell_type": "code",
      "source": [
        "# compile the model\n",
        "model.compile(loss='binary_crossentropy',optimizer='adam',metrics=['accuracy'])\n",
        "print('model is compiled')"
      ],
      "metadata": {
        "colab": {
          "base_uri": "https://localhost:8080/"
        },
        "id": "psOwfA5Glo67",
        "outputId": "f8a2aca0-982e-4359-c9ac-4a16787c0827"
      },
      "execution_count": 47,
      "outputs": [
        {
          "output_type": "stream",
          "name": "stdout",
          "text": [
            "model is compiled\n"
          ]
        }
      ]
    },
    {
      "cell_type": "code",
      "source": [
        "# Early Stopping\n",
        "early_stop=EarlyStopping(monitor='val_loss',\n",
        "                         min_delta=0.01,\n",
        "                         mode='min',\n",
        "                         verbose=1,\n",
        "                         patience=10)"
      ],
      "metadata": {
        "id": "alKz4L0DoSc3"
      },
      "execution_count": 48,
      "outputs": []
    },
    {
      "cell_type": "code",
      "source": [
        "history=model.fit(X_train,y_train,\n",
        "                 epochs=50,\n",
        "                validation_data=(X_test,y_test),\n",
        "                  callbacks=[early_stop]\n",
        "                  )"
      ],
      "metadata": {
        "colab": {
          "base_uri": "https://localhost:8080/"
        },
        "id": "8BDBnG2ipQm9",
        "outputId": "27385cda-35dc-40dd-8ad9-706d985eac0d"
      },
      "execution_count": 49,
      "outputs": [
        {
          "output_type": "stream",
          "name": "stdout",
          "text": [
            "Epoch 1/50\n",
            "403/403 [==============================] - 5s 6ms/step - loss: 0.7177 - accuracy: 0.5592 - val_loss: 0.6533 - val_accuracy: 0.6109\n",
            "Epoch 2/50\n",
            "403/403 [==============================] - 2s 4ms/step - loss: 0.6773 - accuracy: 0.5791 - val_loss: 0.6520 - val_accuracy: 0.6125\n",
            "Epoch 3/50\n",
            "403/403 [==============================] - 2s 6ms/step - loss: 0.6679 - accuracy: 0.5930 - val_loss: 0.6485 - val_accuracy: 0.6184\n",
            "Epoch 4/50\n",
            "403/403 [==============================] - 3s 7ms/step - loss: 0.6621 - accuracy: 0.5982 - val_loss: 0.6486 - val_accuracy: 0.6196\n",
            "Epoch 5/50\n",
            "403/403 [==============================] - 2s 4ms/step - loss: 0.6593 - accuracy: 0.6020 - val_loss: 0.6476 - val_accuracy: 0.6193\n",
            "Epoch 6/50\n",
            "403/403 [==============================] - 2s 4ms/step - loss: 0.6590 - accuracy: 0.6053 - val_loss: 0.6457 - val_accuracy: 0.6237\n",
            "Epoch 7/50\n",
            "403/403 [==============================] - 2s 4ms/step - loss: 0.6548 - accuracy: 0.6098 - val_loss: 0.6444 - val_accuracy: 0.6200\n",
            "Epoch 8/50\n",
            "403/403 [==============================] - 2s 4ms/step - loss: 0.6564 - accuracy: 0.6053 - val_loss: 0.6459 - val_accuracy: 0.6159\n",
            "Epoch 9/50\n",
            "403/403 [==============================] - 2s 5ms/step - loss: 0.6547 - accuracy: 0.6078 - val_loss: 0.6439 - val_accuracy: 0.6221\n",
            "Epoch 10/50\n",
            "403/403 [==============================] - 2s 5ms/step - loss: 0.6528 - accuracy: 0.6091 - val_loss: 0.6427 - val_accuracy: 0.6224\n",
            "Epoch 11/50\n",
            "403/403 [==============================] - 3s 7ms/step - loss: 0.6563 - accuracy: 0.6141 - val_loss: 0.6423 - val_accuracy: 0.6274\n",
            "Epoch 12/50\n",
            "403/403 [==============================] - 2s 4ms/step - loss: 0.6517 - accuracy: 0.6123 - val_loss: 0.6418 - val_accuracy: 0.6296\n",
            "Epoch 13/50\n",
            "403/403 [==============================] - 2s 4ms/step - loss: 0.6516 - accuracy: 0.6161 - val_loss: 0.6428 - val_accuracy: 0.6280\n",
            "Epoch 14/50\n",
            "403/403 [==============================] - 2s 4ms/step - loss: 0.6516 - accuracy: 0.6193 - val_loss: 0.6418 - val_accuracy: 0.6252\n",
            "Epoch 15/50\n",
            "403/403 [==============================] - 2s 4ms/step - loss: 0.6528 - accuracy: 0.6133 - val_loss: 0.6423 - val_accuracy: 0.6259\n",
            "Epoch 16/50\n",
            "403/403 [==============================] - 2s 4ms/step - loss: 0.6513 - accuracy: 0.6145 - val_loss: 0.6426 - val_accuracy: 0.6287\n",
            "Epoch 17/50\n",
            "403/403 [==============================] - 2s 4ms/step - loss: 0.6508 - accuracy: 0.6155 - val_loss: 0.6422 - val_accuracy: 0.6293\n",
            "Epoch 18/50\n",
            "403/403 [==============================] - 2s 6ms/step - loss: 0.6509 - accuracy: 0.6145 - val_loss: 0.6415 - val_accuracy: 0.6271\n",
            "Epoch 19/50\n",
            "403/403 [==============================] - 2s 6ms/step - loss: 0.6498 - accuracy: 0.6218 - val_loss: 0.6412 - val_accuracy: 0.6299\n",
            "Epoch 20/50\n",
            "403/403 [==============================] - 2s 4ms/step - loss: 0.6512 - accuracy: 0.6161 - val_loss: 0.6416 - val_accuracy: 0.6268\n",
            "Epoch 20: early stopping\n"
          ]
        }
      ]
    },
    {
      "cell_type": "code",
      "source": [
        "# print accuracy & loss\n",
        "score_test=model.evaluate(X_test,y_test)\n",
        "print('test score',score_test)"
      ],
      "metadata": {
        "colab": {
          "base_uri": "https://localhost:8080/"
        },
        "id": "ku6BLAFSpfvs",
        "outputId": "2be43e6f-e348-4cc2-d877-31ea3a039e99"
      },
      "execution_count": 50,
      "outputs": [
        {
          "output_type": "stream",
          "name": "stdout",
          "text": [
            "101/101 [==============================] - 1s 4ms/step - loss: 0.6416 - accuracy: 0.6268\n",
            "test score [0.6415987014770508, 0.6267868280410767]\n"
          ]
        }
      ]
    },
    {
      "cell_type": "code",
      "source": [
        "score_train=model.evaluate(X_train,y_train)\n",
        "print('train score',score_test)"
      ],
      "metadata": {
        "colab": {
          "base_uri": "https://localhost:8080/"
        },
        "id": "n_qmO95Mp61r",
        "outputId": "1eca515e-0533-47c4-a1df-1281f963fb21"
      },
      "execution_count": 51,
      "outputs": [
        {
          "output_type": "stream",
          "name": "stdout",
          "text": [
            "403/403 [==============================] - 2s 4ms/step - loss: 0.6404 - accuracy: 0.6271\n",
            "train score [0.6415987014770508, 0.6267868280410767]\n"
          ]
        }
      ]
    },
    {
      "cell_type": "code",
      "source": [
        "# create architecture\n",
        "# create ANN with 3 hidden layers, first hidden layer 19 neurons, second hidden layer 10 neurons, second hidden layer 10 neurons, activation relu\n",
        "# dropout 0.25, batchnormisation\n",
        "model=Sequential()\n",
        "# first hidden layer\n",
        "model.add(Dense(19,activation='relu',input_shape=(9,)))\n",
        "model.add(Dropout(0.25))\n",
        "model.add(BatchNormalization())\n",
        "# second hidden layer\n",
        "model.add(Dense(10,activation='relu'))\n",
        "model.add(Dropout(0.25))\n",
        "model.add(BatchNormalization())\n",
        "# third hidden layer\n",
        "model.add(Dense(10,activation='relu'))\n",
        "model.add(Dropout(0.25))\n",
        "model.add(BatchNormalization())\n",
        "\n",
        "# output layer\n",
        "model.add(Dense(1,activation='sigmoid'))"
      ],
      "metadata": {
        "id": "-Q7k0vq7qVvA"
      },
      "execution_count": 52,
      "outputs": []
    },
    {
      "cell_type": "code",
      "source": [
        "model.summary()"
      ],
      "metadata": {
        "colab": {
          "base_uri": "https://localhost:8080/"
        },
        "id": "c2q0hURjqkXu",
        "outputId": "5513bea4-9c34-4284-c552-716ca7c97362"
      },
      "execution_count": 53,
      "outputs": [
        {
          "output_type": "stream",
          "name": "stdout",
          "text": [
            "Model: \"sequential_6\"\n",
            "_________________________________________________________________\n",
            " Layer (type)                Output Shape              Param #   \n",
            "=================================================================\n",
            " dense_16 (Dense)            (None, 19)                190       \n",
            "                                                                 \n",
            " dropout_11 (Dropout)        (None, 19)                0         \n",
            "                                                                 \n",
            " batch_normalization_8 (Bat  (None, 19)                76        \n",
            " chNormalization)                                                \n",
            "                                                                 \n",
            " dense_17 (Dense)            (None, 10)                200       \n",
            "                                                                 \n",
            " dropout_12 (Dropout)        (None, 10)                0         \n",
            "                                                                 \n",
            " batch_normalization_9 (Bat  (None, 10)                40        \n",
            " chNormalization)                                                \n",
            "                                                                 \n",
            " dense_18 (Dense)            (None, 10)                110       \n",
            "                                                                 \n",
            " dropout_13 (Dropout)        (None, 10)                0         \n",
            "                                                                 \n",
            " batch_normalization_10 (Ba  (None, 10)                40        \n",
            " tchNormalization)                                               \n",
            "                                                                 \n",
            " dense_19 (Dense)            (None, 1)                 11        \n",
            "                                                                 \n",
            "=================================================================\n",
            "Total params: 667 (2.61 KB)\n",
            "Trainable params: 589 (2.30 KB)\n",
            "Non-trainable params: 78 (312.00 Byte)\n",
            "_________________________________________________________________\n"
          ]
        }
      ]
    },
    {
      "cell_type": "code",
      "source": [
        "# compile the model\n",
        "model.compile(loss='binary_crossentropy',optimizer='adam',metrics=['accuracy'])\n",
        "print('model is compiled')"
      ],
      "metadata": {
        "colab": {
          "base_uri": "https://localhost:8080/"
        },
        "id": "w6HkBMzzqm3q",
        "outputId": "3b0ba289-d280-4062-b587-14efa357aee6"
      },
      "execution_count": 54,
      "outputs": [
        {
          "output_type": "stream",
          "name": "stdout",
          "text": [
            "model is compiled\n"
          ]
        }
      ]
    },
    {
      "cell_type": "code",
      "source": [
        "# Early Stopping\n",
        "early_stop=EarlyStopping(monitor='val_loss',\n",
        "                         min_delta=0.01,\n",
        "                         mode='min',\n",
        "                         verbose=1,\n",
        "                         patience=10)"
      ],
      "metadata": {
        "id": "U5SQIIU5qqYb"
      },
      "execution_count": 55,
      "outputs": []
    },
    {
      "cell_type": "code",
      "source": [
        "history=model.fit(X_train,y_train,\n",
        "                 epochs=50,\n",
        "                validation_data=(X_test,y_test))"
      ],
      "metadata": {
        "colab": {
          "base_uri": "https://localhost:8080/"
        },
        "id": "13o1hP5RqtNm",
        "outputId": "3f9aec57-a80e-40bd-cdb9-10ad01a6b234"
      },
      "execution_count": 58,
      "outputs": [
        {
          "output_type": "stream",
          "name": "stdout",
          "text": [
            "Epoch 1/50\n",
            "403/403 [==============================] - 2s 4ms/step - loss: 0.6522 - accuracy: 0.6140 - val_loss: 0.6431 - val_accuracy: 0.6330\n",
            "Epoch 2/50\n",
            "403/403 [==============================] - 2s 4ms/step - loss: 0.6516 - accuracy: 0.6180 - val_loss: 0.6422 - val_accuracy: 0.6339\n",
            "Epoch 3/50\n",
            "403/403 [==============================] - 2s 4ms/step - loss: 0.6513 - accuracy: 0.6212 - val_loss: 0.6416 - val_accuracy: 0.6342\n",
            "Epoch 4/50\n",
            "403/403 [==============================] - 1s 4ms/step - loss: 0.6511 - accuracy: 0.6249 - val_loss: 0.6416 - val_accuracy: 0.6302\n",
            "Epoch 5/50\n",
            "403/403 [==============================] - 2s 4ms/step - loss: 0.6494 - accuracy: 0.6210 - val_loss: 0.6424 - val_accuracy: 0.6358\n",
            "Epoch 6/50\n",
            "403/403 [==============================] - 2s 6ms/step - loss: 0.6487 - accuracy: 0.6210 - val_loss: 0.6423 - val_accuracy: 0.6277\n",
            "Epoch 7/50\n",
            "403/403 [==============================] - 2s 6ms/step - loss: 0.6539 - accuracy: 0.6201 - val_loss: 0.6434 - val_accuracy: 0.6299\n",
            "Epoch 8/50\n",
            "403/403 [==============================] - 2s 4ms/step - loss: 0.6492 - accuracy: 0.6194 - val_loss: 0.6421 - val_accuracy: 0.6271\n",
            "Epoch 9/50\n",
            "403/403 [==============================] - 1s 4ms/step - loss: 0.6509 - accuracy: 0.6194 - val_loss: 0.6442 - val_accuracy: 0.6333\n",
            "Epoch 10/50\n",
            "403/403 [==============================] - 2s 4ms/step - loss: 0.6486 - accuracy: 0.6225 - val_loss: 0.6421 - val_accuracy: 0.6290\n",
            "Epoch 11/50\n",
            "403/403 [==============================] - 2s 4ms/step - loss: 0.6495 - accuracy: 0.6215 - val_loss: 0.6417 - val_accuracy: 0.6311\n",
            "Epoch 12/50\n",
            "403/403 [==============================] - 2s 4ms/step - loss: 0.6502 - accuracy: 0.6262 - val_loss: 0.6420 - val_accuracy: 0.6280\n",
            "Epoch 13/50\n",
            "403/403 [==============================] - 2s 4ms/step - loss: 0.6488 - accuracy: 0.6253 - val_loss: 0.6422 - val_accuracy: 0.6280\n",
            "Epoch 14/50\n",
            "403/403 [==============================] - 2s 6ms/step - loss: 0.6506 - accuracy: 0.6238 - val_loss: 0.6427 - val_accuracy: 0.6299\n",
            "Epoch 15/50\n",
            "403/403 [==============================] - 2s 6ms/step - loss: 0.6489 - accuracy: 0.6245 - val_loss: 0.6418 - val_accuracy: 0.6311\n",
            "Epoch 16/50\n",
            "403/403 [==============================] - 2s 4ms/step - loss: 0.6501 - accuracy: 0.6213 - val_loss: 0.6408 - val_accuracy: 0.6318\n",
            "Epoch 17/50\n",
            "403/403 [==============================] - 2s 4ms/step - loss: 0.6464 - accuracy: 0.6239 - val_loss: 0.6405 - val_accuracy: 0.6302\n",
            "Epoch 18/50\n",
            "403/403 [==============================] - 2s 5ms/step - loss: 0.6457 - accuracy: 0.6294 - val_loss: 0.6403 - val_accuracy: 0.6274\n",
            "Epoch 19/50\n",
            "403/403 [==============================] - 2s 4ms/step - loss: 0.6489 - accuracy: 0.6270 - val_loss: 0.6404 - val_accuracy: 0.6243\n",
            "Epoch 20/50\n",
            "403/403 [==============================] - 2s 4ms/step - loss: 0.6484 - accuracy: 0.6253 - val_loss: 0.6414 - val_accuracy: 0.6305\n",
            "Epoch 21/50\n",
            "403/403 [==============================] - 2s 6ms/step - loss: 0.6488 - accuracy: 0.6253 - val_loss: 0.6408 - val_accuracy: 0.6321\n",
            "Epoch 22/50\n",
            "403/403 [==============================] - 3s 6ms/step - loss: 0.6475 - accuracy: 0.6284 - val_loss: 0.6408 - val_accuracy: 0.6274\n",
            "Epoch 23/50\n",
            "403/403 [==============================] - 2s 4ms/step - loss: 0.6487 - accuracy: 0.6259 - val_loss: 0.6403 - val_accuracy: 0.6280\n",
            "Epoch 24/50\n",
            "403/403 [==============================] - 2s 4ms/step - loss: 0.6496 - accuracy: 0.6213 - val_loss: 0.6411 - val_accuracy: 0.6314\n",
            "Epoch 25/50\n",
            "403/403 [==============================] - 2s 4ms/step - loss: 0.6473 - accuracy: 0.6221 - val_loss: 0.6414 - val_accuracy: 0.6274\n",
            "Epoch 26/50\n",
            "403/403 [==============================] - 2s 4ms/step - loss: 0.6476 - accuracy: 0.6214 - val_loss: 0.6415 - val_accuracy: 0.6314\n",
            "Epoch 27/50\n",
            "403/403 [==============================] - 2s 4ms/step - loss: 0.6467 - accuracy: 0.6242 - val_loss: 0.6394 - val_accuracy: 0.6293\n",
            "Epoch 28/50\n",
            "403/403 [==============================] - 2s 4ms/step - loss: 0.6486 - accuracy: 0.6204 - val_loss: 0.6418 - val_accuracy: 0.6324\n",
            "Epoch 29/50\n",
            "403/403 [==============================] - 3s 6ms/step - loss: 0.6473 - accuracy: 0.6280 - val_loss: 0.6411 - val_accuracy: 0.6311\n",
            "Epoch 30/50\n",
            "403/403 [==============================] - 2s 6ms/step - loss: 0.6451 - accuracy: 0.6287 - val_loss: 0.6405 - val_accuracy: 0.6302\n",
            "Epoch 31/50\n",
            "403/403 [==============================] - 2s 4ms/step - loss: 0.6429 - accuracy: 0.6286 - val_loss: 0.6405 - val_accuracy: 0.6314\n",
            "Epoch 32/50\n",
            "403/403 [==============================] - 2s 4ms/step - loss: 0.6457 - accuracy: 0.6304 - val_loss: 0.6401 - val_accuracy: 0.6314\n",
            "Epoch 33/50\n",
            "403/403 [==============================] - 2s 4ms/step - loss: 0.6483 - accuracy: 0.6262 - val_loss: 0.6402 - val_accuracy: 0.6305\n",
            "Epoch 34/50\n",
            "403/403 [==============================] - 2s 4ms/step - loss: 0.6440 - accuracy: 0.6341 - val_loss: 0.6399 - val_accuracy: 0.6336\n",
            "Epoch 35/50\n",
            "403/403 [==============================] - 2s 4ms/step - loss: 0.6443 - accuracy: 0.6302 - val_loss: 0.6394 - val_accuracy: 0.6346\n",
            "Epoch 36/50\n",
            "403/403 [==============================] - 2s 5ms/step - loss: 0.6468 - accuracy: 0.6291 - val_loss: 0.6392 - val_accuracy: 0.6367\n",
            "Epoch 37/50\n",
            "403/403 [==============================] - 2s 6ms/step - loss: 0.6459 - accuracy: 0.6292 - val_loss: 0.6391 - val_accuracy: 0.6324\n",
            "Epoch 38/50\n",
            "403/403 [==============================] - 2s 4ms/step - loss: 0.6435 - accuracy: 0.6296 - val_loss: 0.6375 - val_accuracy: 0.6330\n",
            "Epoch 39/50\n",
            "403/403 [==============================] - 1s 4ms/step - loss: 0.6470 - accuracy: 0.6255 - val_loss: 0.6387 - val_accuracy: 0.6339\n",
            "Epoch 40/50\n",
            "403/403 [==============================] - 1s 4ms/step - loss: 0.6434 - accuracy: 0.6309 - val_loss: 0.6383 - val_accuracy: 0.6330\n",
            "Epoch 41/50\n",
            "403/403 [==============================] - 2s 4ms/step - loss: 0.6468 - accuracy: 0.6290 - val_loss: 0.6380 - val_accuracy: 0.6339\n",
            "Epoch 42/50\n",
            "403/403 [==============================] - 2s 4ms/step - loss: 0.6460 - accuracy: 0.6279 - val_loss: 0.6374 - val_accuracy: 0.6367\n",
            "Epoch 43/50\n",
            "403/403 [==============================] - 2s 4ms/step - loss: 0.6470 - accuracy: 0.6281 - val_loss: 0.6386 - val_accuracy: 0.6318\n",
            "Epoch 44/50\n",
            "403/403 [==============================] - 2s 5ms/step - loss: 0.6454 - accuracy: 0.6286 - val_loss: 0.6390 - val_accuracy: 0.6324\n",
            "Epoch 45/50\n",
            "403/403 [==============================] - 2s 6ms/step - loss: 0.6480 - accuracy: 0.6268 - val_loss: 0.6377 - val_accuracy: 0.6314\n",
            "Epoch 46/50\n",
            "403/403 [==============================] - 2s 4ms/step - loss: 0.6457 - accuracy: 0.6262 - val_loss: 0.6384 - val_accuracy: 0.6321\n",
            "Epoch 47/50\n",
            "403/403 [==============================] - 2s 4ms/step - loss: 0.6447 - accuracy: 0.6278 - val_loss: 0.6383 - val_accuracy: 0.6352\n",
            "Epoch 48/50\n",
            "403/403 [==============================] - 2s 4ms/step - loss: 0.6470 - accuracy: 0.6279 - val_loss: 0.6382 - val_accuracy: 0.6392\n",
            "Epoch 49/50\n",
            "403/403 [==============================] - 2s 4ms/step - loss: 0.6443 - accuracy: 0.6273 - val_loss: 0.6374 - val_accuracy: 0.6339\n",
            "Epoch 50/50\n",
            "403/403 [==============================] - 2s 4ms/step - loss: 0.6425 - accuracy: 0.6330 - val_loss: 0.6362 - val_accuracy: 0.6342\n"
          ]
        }
      ]
    },
    {
      "cell_type": "code",
      "source": [
        "# print accuracy & loss for ANN with 3 hidden layers\n",
        "score_test=model.evaluate(X_test,y_test)\n",
        "print('test score',score_test)"
      ],
      "metadata": {
        "colab": {
          "base_uri": "https://localhost:8080/"
        },
        "id": "5GcnjXBrqwkz",
        "outputId": "d0faaee2-47a6-4858-fb4d-02d8fd287a08"
      },
      "execution_count": 59,
      "outputs": [
        {
          "output_type": "stream",
          "name": "stdout",
          "text": [
            "101/101 [==============================] - 0s 2ms/step - loss: 0.6362 - accuracy: 0.6342\n",
            "test score [0.6362429857254028, 0.6342448592185974]\n"
          ]
        }
      ]
    },
    {
      "cell_type": "markdown",
      "source": [
        "3 x runs\n",
        "1. ANN with 2 hidden layers\n",
        "2. ANN with 3 hidden layers\n",
        "3. ANN with 3 hidden layers with no early stopping\n",
        "\n",
        "- increase in hidden layer does not improve accuracy much (sight)\n",
        "- without early stopping, the accuracy is highest among the 3 runs; slight increase in accuracy from 0.627 to 0.63 to 0.634"
      ],
      "metadata": {
        "id": "_tLX-GF_sBBT"
      }
    },
    {
      "cell_type": "code",
      "source": [
        "score_train=model.evaluate(X_train,y_train)\n",
        "print('test score',score_train)"
      ],
      "metadata": {
        "colab": {
          "base_uri": "https://localhost:8080/"
        },
        "id": "i_2u4s0iq92q",
        "outputId": "0b5da173-20e4-4d7e-ab9c-937bfc6d30dd"
      },
      "execution_count": 60,
      "outputs": [
        {
          "output_type": "stream",
          "name": "stdout",
          "text": [
            "403/403 [==============================] - 2s 5ms/step - loss: 0.6318 - accuracy: 0.6440\n",
            "test score [0.6317563652992249, 0.6440335512161255]\n"
          ]
        }
      ]
    },
    {
      "cell_type": "code",
      "source": [
        "# predictions\n",
        "pred=(model.predict(X_test))\n",
        "pred"
      ],
      "metadata": {
        "colab": {
          "base_uri": "https://localhost:8080/"
        },
        "id": "I1X852f6slX6",
        "outputId": "4c4c83df-7481-4b1d-876b-9ee130ba2735"
      },
      "execution_count": 62,
      "outputs": [
        {
          "output_type": "stream",
          "name": "stdout",
          "text": [
            "101/101 [==============================] - 0s 3ms/step\n"
          ]
        },
        {
          "output_type": "execute_result",
          "data": {
            "text/plain": [
              "array([[0.54694957],\n",
              "       [0.7756813 ],\n",
              "       [0.6287274 ],\n",
              "       ...,\n",
              "       [0.42858583],\n",
              "       [0.5648137 ],\n",
              "       [0.5936449 ]], dtype=float32)"
            ]
          },
          "metadata": {},
          "execution_count": 62
        }
      ]
    },
    {
      "cell_type": "code",
      "source": [
        "predict=(pred>0.5).astype('int')\n",
        "predict"
      ],
      "metadata": {
        "colab": {
          "base_uri": "https://localhost:8080/"
        },
        "id": "to7NrdOitOKY",
        "outputId": "70975fa0-8972-41da-9c80-307fd6abc5ba"
      },
      "execution_count": 65,
      "outputs": [
        {
          "output_type": "execute_result",
          "data": {
            "text/plain": [
              "array([[1],\n",
              "       [1],\n",
              "       [1],\n",
              "       ...,\n",
              "       [0],\n",
              "       [1],\n",
              "       [1]])"
            ]
          },
          "metadata": {},
          "execution_count": 65
        }
      ]
    },
    {
      "cell_type": "code",
      "source": [
        "y_test"
      ],
      "metadata": {
        "colab": {
          "base_uri": "https://localhost:8080/",
          "height": 423
        },
        "id": "2TFY0BMls4nP",
        "outputId": "e3332bbb-17bd-4718-aeb5-379b0f71860f"
      },
      "execution_count": 63,
      "outputs": [
        {
          "output_type": "execute_result",
          "data": {
            "text/plain": [
              "      not.fully.paid\n",
              "2193               0\n",
              "2183               1\n",
              "8630               1\n",
              "8891               0\n",
              "9017               1\n",
              "...              ...\n",
              "6056               0\n",
              "7885               1\n",
              "5862               1\n",
              "7687               0\n",
              "9479               1\n",
              "\n",
              "[3218 rows x 1 columns]"
            ],
            "text/html": [
              "\n",
              "  <div id=\"df-847060bb-020a-40b6-b08a-f7f3cc72bae6\" class=\"colab-df-container\">\n",
              "    <div>\n",
              "<style scoped>\n",
              "    .dataframe tbody tr th:only-of-type {\n",
              "        vertical-align: middle;\n",
              "    }\n",
              "\n",
              "    .dataframe tbody tr th {\n",
              "        vertical-align: top;\n",
              "    }\n",
              "\n",
              "    .dataframe thead th {\n",
              "        text-align: right;\n",
              "    }\n",
              "</style>\n",
              "<table border=\"1\" class=\"dataframe\">\n",
              "  <thead>\n",
              "    <tr style=\"text-align: right;\">\n",
              "      <th></th>\n",
              "      <th>not.fully.paid</th>\n",
              "    </tr>\n",
              "  </thead>\n",
              "  <tbody>\n",
              "    <tr>\n",
              "      <th>2193</th>\n",
              "      <td>0</td>\n",
              "    </tr>\n",
              "    <tr>\n",
              "      <th>2183</th>\n",
              "      <td>1</td>\n",
              "    </tr>\n",
              "    <tr>\n",
              "      <th>8630</th>\n",
              "      <td>1</td>\n",
              "    </tr>\n",
              "    <tr>\n",
              "      <th>8891</th>\n",
              "      <td>0</td>\n",
              "    </tr>\n",
              "    <tr>\n",
              "      <th>9017</th>\n",
              "      <td>1</td>\n",
              "    </tr>\n",
              "    <tr>\n",
              "      <th>...</th>\n",
              "      <td>...</td>\n",
              "    </tr>\n",
              "    <tr>\n",
              "      <th>6056</th>\n",
              "      <td>0</td>\n",
              "    </tr>\n",
              "    <tr>\n",
              "      <th>7885</th>\n",
              "      <td>1</td>\n",
              "    </tr>\n",
              "    <tr>\n",
              "      <th>5862</th>\n",
              "      <td>1</td>\n",
              "    </tr>\n",
              "    <tr>\n",
              "      <th>7687</th>\n",
              "      <td>0</td>\n",
              "    </tr>\n",
              "    <tr>\n",
              "      <th>9479</th>\n",
              "      <td>1</td>\n",
              "    </tr>\n",
              "  </tbody>\n",
              "</table>\n",
              "<p>3218 rows × 1 columns</p>\n",
              "</div>\n",
              "    <div class=\"colab-df-buttons\">\n",
              "\n",
              "  <div class=\"colab-df-container\">\n",
              "    <button class=\"colab-df-convert\" onclick=\"convertToInteractive('df-847060bb-020a-40b6-b08a-f7f3cc72bae6')\"\n",
              "            title=\"Convert this dataframe to an interactive table.\"\n",
              "            style=\"display:none;\">\n",
              "\n",
              "  <svg xmlns=\"http://www.w3.org/2000/svg\" height=\"24px\" viewBox=\"0 -960 960 960\">\n",
              "    <path d=\"M120-120v-720h720v720H120Zm60-500h600v-160H180v160Zm220 220h160v-160H400v160Zm0 220h160v-160H400v160ZM180-400h160v-160H180v160Zm440 0h160v-160H620v160ZM180-180h160v-160H180v160Zm440 0h160v-160H620v160Z\"/>\n",
              "  </svg>\n",
              "    </button>\n",
              "\n",
              "  <style>\n",
              "    .colab-df-container {\n",
              "      display:flex;\n",
              "      gap: 12px;\n",
              "    }\n",
              "\n",
              "    .colab-df-convert {\n",
              "      background-color: #E8F0FE;\n",
              "      border: none;\n",
              "      border-radius: 50%;\n",
              "      cursor: pointer;\n",
              "      display: none;\n",
              "      fill: #1967D2;\n",
              "      height: 32px;\n",
              "      padding: 0 0 0 0;\n",
              "      width: 32px;\n",
              "    }\n",
              "\n",
              "    .colab-df-convert:hover {\n",
              "      background-color: #E2EBFA;\n",
              "      box-shadow: 0px 1px 2px rgba(60, 64, 67, 0.3), 0px 1px 3px 1px rgba(60, 64, 67, 0.15);\n",
              "      fill: #174EA6;\n",
              "    }\n",
              "\n",
              "    .colab-df-buttons div {\n",
              "      margin-bottom: 4px;\n",
              "    }\n",
              "\n",
              "    [theme=dark] .colab-df-convert {\n",
              "      background-color: #3B4455;\n",
              "      fill: #D2E3FC;\n",
              "    }\n",
              "\n",
              "    [theme=dark] .colab-df-convert:hover {\n",
              "      background-color: #434B5C;\n",
              "      box-shadow: 0px 1px 3px 1px rgba(0, 0, 0, 0.15);\n",
              "      filter: drop-shadow(0px 1px 2px rgba(0, 0, 0, 0.3));\n",
              "      fill: #FFFFFF;\n",
              "    }\n",
              "  </style>\n",
              "\n",
              "    <script>\n",
              "      const buttonEl =\n",
              "        document.querySelector('#df-847060bb-020a-40b6-b08a-f7f3cc72bae6 button.colab-df-convert');\n",
              "      buttonEl.style.display =\n",
              "        google.colab.kernel.accessAllowed ? 'block' : 'none';\n",
              "\n",
              "      async function convertToInteractive(key) {\n",
              "        const element = document.querySelector('#df-847060bb-020a-40b6-b08a-f7f3cc72bae6');\n",
              "        const dataTable =\n",
              "          await google.colab.kernel.invokeFunction('convertToInteractive',\n",
              "                                                    [key], {});\n",
              "        if (!dataTable) return;\n",
              "\n",
              "        const docLinkHtml = 'Like what you see? Visit the ' +\n",
              "          '<a target=\"_blank\" href=https://colab.research.google.com/notebooks/data_table.ipynb>data table notebook</a>'\n",
              "          + ' to learn more about interactive tables.';\n",
              "        element.innerHTML = '';\n",
              "        dataTable['output_type'] = 'display_data';\n",
              "        await google.colab.output.renderOutput(dataTable, element);\n",
              "        const docLink = document.createElement('div');\n",
              "        docLink.innerHTML = docLinkHtml;\n",
              "        element.appendChild(docLink);\n",
              "      }\n",
              "    </script>\n",
              "  </div>\n",
              "\n",
              "\n",
              "<div id=\"df-421d08c9-0a5a-4b8f-86a1-db554a32e9f5\">\n",
              "  <button class=\"colab-df-quickchart\" onclick=\"quickchart('df-421d08c9-0a5a-4b8f-86a1-db554a32e9f5')\"\n",
              "            title=\"Suggest charts\"\n",
              "            style=\"display:none;\">\n",
              "\n",
              "<svg xmlns=\"http://www.w3.org/2000/svg\" height=\"24px\"viewBox=\"0 0 24 24\"\n",
              "     width=\"24px\">\n",
              "    <g>\n",
              "        <path d=\"M19 3H5c-1.1 0-2 .9-2 2v14c0 1.1.9 2 2 2h14c1.1 0 2-.9 2-2V5c0-1.1-.9-2-2-2zM9 17H7v-7h2v7zm4 0h-2V7h2v10zm4 0h-2v-4h2v4z\"/>\n",
              "    </g>\n",
              "</svg>\n",
              "  </button>\n",
              "\n",
              "<style>\n",
              "  .colab-df-quickchart {\n",
              "      --bg-color: #E8F0FE;\n",
              "      --fill-color: #1967D2;\n",
              "      --hover-bg-color: #E2EBFA;\n",
              "      --hover-fill-color: #174EA6;\n",
              "      --disabled-fill-color: #AAA;\n",
              "      --disabled-bg-color: #DDD;\n",
              "  }\n",
              "\n",
              "  [theme=dark] .colab-df-quickchart {\n",
              "      --bg-color: #3B4455;\n",
              "      --fill-color: #D2E3FC;\n",
              "      --hover-bg-color: #434B5C;\n",
              "      --hover-fill-color: #FFFFFF;\n",
              "      --disabled-bg-color: #3B4455;\n",
              "      --disabled-fill-color: #666;\n",
              "  }\n",
              "\n",
              "  .colab-df-quickchart {\n",
              "    background-color: var(--bg-color);\n",
              "    border: none;\n",
              "    border-radius: 50%;\n",
              "    cursor: pointer;\n",
              "    display: none;\n",
              "    fill: var(--fill-color);\n",
              "    height: 32px;\n",
              "    padding: 0;\n",
              "    width: 32px;\n",
              "  }\n",
              "\n",
              "  .colab-df-quickchart:hover {\n",
              "    background-color: var(--hover-bg-color);\n",
              "    box-shadow: 0 1px 2px rgba(60, 64, 67, 0.3), 0 1px 3px 1px rgba(60, 64, 67, 0.15);\n",
              "    fill: var(--button-hover-fill-color);\n",
              "  }\n",
              "\n",
              "  .colab-df-quickchart-complete:disabled,\n",
              "  .colab-df-quickchart-complete:disabled:hover {\n",
              "    background-color: var(--disabled-bg-color);\n",
              "    fill: var(--disabled-fill-color);\n",
              "    box-shadow: none;\n",
              "  }\n",
              "\n",
              "  .colab-df-spinner {\n",
              "    border: 2px solid var(--fill-color);\n",
              "    border-color: transparent;\n",
              "    border-bottom-color: var(--fill-color);\n",
              "    animation:\n",
              "      spin 1s steps(1) infinite;\n",
              "  }\n",
              "\n",
              "  @keyframes spin {\n",
              "    0% {\n",
              "      border-color: transparent;\n",
              "      border-bottom-color: var(--fill-color);\n",
              "      border-left-color: var(--fill-color);\n",
              "    }\n",
              "    20% {\n",
              "      border-color: transparent;\n",
              "      border-left-color: var(--fill-color);\n",
              "      border-top-color: var(--fill-color);\n",
              "    }\n",
              "    30% {\n",
              "      border-color: transparent;\n",
              "      border-left-color: var(--fill-color);\n",
              "      border-top-color: var(--fill-color);\n",
              "      border-right-color: var(--fill-color);\n",
              "    }\n",
              "    40% {\n",
              "      border-color: transparent;\n",
              "      border-right-color: var(--fill-color);\n",
              "      border-top-color: var(--fill-color);\n",
              "    }\n",
              "    60% {\n",
              "      border-color: transparent;\n",
              "      border-right-color: var(--fill-color);\n",
              "    }\n",
              "    80% {\n",
              "      border-color: transparent;\n",
              "      border-right-color: var(--fill-color);\n",
              "      border-bottom-color: var(--fill-color);\n",
              "    }\n",
              "    90% {\n",
              "      border-color: transparent;\n",
              "      border-bottom-color: var(--fill-color);\n",
              "    }\n",
              "  }\n",
              "</style>\n",
              "\n",
              "  <script>\n",
              "    async function quickchart(key) {\n",
              "      const quickchartButtonEl =\n",
              "        document.querySelector('#' + key + ' button');\n",
              "      quickchartButtonEl.disabled = true;  // To prevent multiple clicks.\n",
              "      quickchartButtonEl.classList.add('colab-df-spinner');\n",
              "      try {\n",
              "        const charts = await google.colab.kernel.invokeFunction(\n",
              "            'suggestCharts', [key], {});\n",
              "      } catch (error) {\n",
              "        console.error('Error during call to suggestCharts:', error);\n",
              "      }\n",
              "      quickchartButtonEl.classList.remove('colab-df-spinner');\n",
              "      quickchartButtonEl.classList.add('colab-df-quickchart-complete');\n",
              "    }\n",
              "    (() => {\n",
              "      let quickchartButtonEl =\n",
              "        document.querySelector('#df-421d08c9-0a5a-4b8f-86a1-db554a32e9f5 button');\n",
              "      quickchartButtonEl.style.display =\n",
              "        google.colab.kernel.accessAllowed ? 'block' : 'none';\n",
              "    })();\n",
              "  </script>\n",
              "</div>\n",
              "\n",
              "  <div id=\"id_8c2810ec-49d3-4edd-8c5e-dc0cf30e5920\">\n",
              "    <style>\n",
              "      .colab-df-generate {\n",
              "        background-color: #E8F0FE;\n",
              "        border: none;\n",
              "        border-radius: 50%;\n",
              "        cursor: pointer;\n",
              "        display: none;\n",
              "        fill: #1967D2;\n",
              "        height: 32px;\n",
              "        padding: 0 0 0 0;\n",
              "        width: 32px;\n",
              "      }\n",
              "\n",
              "      .colab-df-generate:hover {\n",
              "        background-color: #E2EBFA;\n",
              "        box-shadow: 0px 1px 2px rgba(60, 64, 67, 0.3), 0px 1px 3px 1px rgba(60, 64, 67, 0.15);\n",
              "        fill: #174EA6;\n",
              "      }\n",
              "\n",
              "      [theme=dark] .colab-df-generate {\n",
              "        background-color: #3B4455;\n",
              "        fill: #D2E3FC;\n",
              "      }\n",
              "\n",
              "      [theme=dark] .colab-df-generate:hover {\n",
              "        background-color: #434B5C;\n",
              "        box-shadow: 0px 1px 3px 1px rgba(0, 0, 0, 0.15);\n",
              "        filter: drop-shadow(0px 1px 2px rgba(0, 0, 0, 0.3));\n",
              "        fill: #FFFFFF;\n",
              "      }\n",
              "    </style>\n",
              "    <button class=\"colab-df-generate\" onclick=\"generateWithVariable('y_test')\"\n",
              "            title=\"Generate code using this dataframe.\"\n",
              "            style=\"display:none;\">\n",
              "\n",
              "  <svg xmlns=\"http://www.w3.org/2000/svg\" height=\"24px\"viewBox=\"0 0 24 24\"\n",
              "       width=\"24px\">\n",
              "    <path d=\"M7,19H8.4L18.45,9,17,7.55,7,17.6ZM5,21V16.75L18.45,3.32a2,2,0,0,1,2.83,0l1.4,1.43a1.91,1.91,0,0,1,.58,1.4,1.91,1.91,0,0,1-.58,1.4L9.25,21ZM18.45,9,17,7.55Zm-12,3A5.31,5.31,0,0,0,4.9,8.1,5.31,5.31,0,0,0,1,6.5,5.31,5.31,0,0,0,4.9,4.9,5.31,5.31,0,0,0,6.5,1,5.31,5.31,0,0,0,8.1,4.9,5.31,5.31,0,0,0,12,6.5,5.46,5.46,0,0,0,6.5,12Z\"/>\n",
              "  </svg>\n",
              "    </button>\n",
              "    <script>\n",
              "      (() => {\n",
              "      const buttonEl =\n",
              "        document.querySelector('#id_8c2810ec-49d3-4edd-8c5e-dc0cf30e5920 button.colab-df-generate');\n",
              "      buttonEl.style.display =\n",
              "        google.colab.kernel.accessAllowed ? 'block' : 'none';\n",
              "\n",
              "      buttonEl.onclick = () => {\n",
              "        google.colab.notebook.generateWithVariable('y_test');\n",
              "      }\n",
              "      })();\n",
              "    </script>\n",
              "  </div>\n",
              "\n",
              "    </div>\n",
              "  </div>\n"
            ],
            "application/vnd.google.colaboratory.intrinsic+json": {
              "type": "dataframe",
              "variable_name": "y_test",
              "summary": "{\n  \"name\": \"y_test\",\n  \"rows\": 3218,\n  \"fields\": [\n    {\n      \"column\": \"not.fully.paid\",\n      \"properties\": {\n        \"dtype\": \"number\",\n        \"std\": 0,\n        \"min\": 0,\n        \"max\": 1,\n        \"num_unique_values\": 2,\n        \"samples\": [\n          1,\n          0\n        ],\n        \"semantic_type\": \"\",\n        \"description\": \"\"\n      }\n    }\n  ]\n}"
            }
          },
          "metadata": {},
          "execution_count": 63
        }
      ]
    },
    {
      "cell_type": "code",
      "source": [
        "from sklearn.metrics import confusion_matrix\n",
        "print(confusion_matrix(y_test,predict))\n",
        "sns.heatmap(cm,annot=True,fmt='d')\n",
        "plt.show()"
      ],
      "metadata": {
        "colab": {
          "base_uri": "https://localhost:8080/",
          "height": 465
        },
        "id": "9MOR85_qtKwa",
        "outputId": "c2dcf2d7-98d0-4af3-b211-5680751287c7"
      },
      "execution_count": 68,
      "outputs": [
        {
          "output_type": "stream",
          "name": "stdout",
          "text": [
            "[[ 989  588]\n",
            " [ 589 1052]]\n"
          ]
        },
        {
          "output_type": "display_data",
          "data": {
            "text/plain": [
              "<Figure size 640x480 with 2 Axes>"
            ],
            "image/png": "[encoded data removed]"
          },
          "metadata": {}
        }
      ]
    },
    {
      "cell_type": "code",
      "source": [
        "# print classification report\n",
        "from sklearn.metrics import classification_report\n",
        "print(classification_report(y_test,predict))\n"
      ],
      "metadata": {
        "colab": {
          "base_uri": "https://localhost:8080/"
        },
        "id": "XF9Dl7jPtby0",
        "outputId": "ea84cc8f-94f3-41c5-f0e3-c54001348641"
      },
      "execution_count": 69,
      "outputs": [
        {
          "output_type": "stream",
          "name": "stdout",
          "text": [
            "              precision    recall  f1-score   support\n",
            "\n",
            "           0       0.63      0.63      0.63      1577\n",
            "           1       0.64      0.64      0.64      1641\n",
            "\n",
            "    accuracy                           0.63      3218\n",
            "   macro avg       0.63      0.63      0.63      3218\n",
            "weighted avg       0.63      0.63      0.63      3218\n",
            "\n"
          ]
        }
      ]
    },
    {
      "cell_type": "code",
      "source": [],
      "metadata": {
        "id": "VRuDrBBJt-QJ"
      },
      "execution_count": null,
      "outputs": []
    }
  ]
}
