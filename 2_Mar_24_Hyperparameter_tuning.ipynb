{
  "nbformat": 4,
  "nbformat_minor": 0,
  "metadata": {
    "colab": {
      "provenance": [],
      "authorship_tag": "ABX9TyNGxQPepCl3N3qdJR/nhO3q",
      "include_colab_link": true
    },
    "kernelspec": {
      "name": "python3",
      "display_name": "Python 3"
    },
    "language_info": {
      "name": "python"
    }
  },
  "cells": [
    {
      "cell_type": "markdown",
      "metadata": {
        "id": "view-in-github",
        "colab_type": "text"
      },
      "source": [
        "<a href=\"https://colab.research.google.com/github/szeshiang/Deep-Learning/blob/main/hyperparameter_tuning_2_Mar_24.ipynb\" target=\"_parent\"><img src=\"https://colab.research.google.com/assets/colab-badge.svg\" alt=\"Open In Colab\"/></a>"
      ]
    },
    {
      "cell_type": "markdown",
      "source": [
        "why need hyper-parameter tuning?\n",
        "- to find the optimiser that gives the best model performance"
      ],
      "metadata": {
        "id": "ugcCGYJWzvTC"
      }
    },
    {
      "cell_type": "code",
      "execution_count": 1,
      "metadata": {
        "colab": {
          "base_uri": "https://localhost:8080/"
        },
        "id": "8ZSOBd2czeTP",
        "outputId": "1b688b6f-7b8e-42fd-9c87-cc274a023c8e"
      },
      "outputs": [
        {
          "output_type": "stream",
          "name": "stdout",
          "text": [
            "Collecting keras-tuner\n",
            "  Downloading keras_tuner-1.4.6-py3-none-any.whl (128 kB)\n",
            "\u001b[?25l     \u001b[90m━━━━━━━━━━━━━━━━━━━━━━━━━━━━━━━━━━━━━━━━\u001b[0m \u001b[32m0.0/128.9 kB\u001b[0m \u001b[31m?\u001b[0m eta \u001b[36m-:--:--\u001b[0m\r\u001b[2K     \u001b[91m━━━━━━━━━━━━━━━━━━━\u001b[0m\u001b[90m╺\u001b[0m\u001b[90m━━━━━━━━━━━━━━━━━━━━\u001b[0m \u001b[32m61.4/128.9 kB\u001b[0m \u001b[31m1.8 MB/s\u001b[0m eta \u001b[36m0:00:01\u001b[0m\r\u001b[2K     \u001b[90m━━━━━━━━━━━━━━━━━━━━━━━━━━━━━━━━━━━━━━━━\u001b[0m \u001b[32m128.9/128.9 kB\u001b[0m \u001b[31m2.4 MB/s\u001b[0m eta \u001b[36m0:00:00\u001b[0m\n",
            "\u001b[?25hRequirement already satisfied: keras in /usr/local/lib/python3.10/dist-packages (from keras-tuner) (2.15.0)\n",
            "Requirement already satisfied: packaging in /usr/local/lib/python3.10/dist-packages (from keras-tuner) (23.2)\n",
            "Requirement already satisfied: requests in /usr/local/lib/python3.10/dist-packages (from keras-tuner) (2.31.0)\n",
            "Collecting kt-legacy (from keras-tuner)\n",
            "  Downloading kt_legacy-1.0.5-py3-none-any.whl (9.6 kB)\n",
            "Requirement already satisfied: charset-normalizer<4,>=2 in /usr/local/lib/python3.10/dist-packages (from requests->keras-tuner) (3.3.2)\n",
            "Requirement already satisfied: idna<4,>=2.5 in /usr/local/lib/python3.10/dist-packages (from requests->keras-tuner) (3.6)\n",
            "Requirement already satisfied: urllib3<3,>=1.21.1 in /usr/local/lib/python3.10/dist-packages (from requests->keras-tuner) (2.0.7)\n",
            "Requirement already satisfied: certifi>=2017.4.17 in /usr/local/lib/python3.10/dist-packages (from requests->keras-tuner) (2024.2.2)\n",
            "Installing collected packages: kt-legacy, keras-tuner\n",
            "Successfully installed keras-tuner-1.4.6 kt-legacy-1.0.5\n"
          ]
        }
      ],
      "source": [
        "!pip install keras-tuner"
      ]
    },
    {
      "cell_type": "code",
      "source": [
        "from tensorflow.keras.layers import Dense"
      ],
      "metadata": {
        "id": "L-NaQai7znZY"
      },
      "execution_count": 2,
      "outputs": []
    },
    {
      "cell_type": "code",
      "source": [
        "import keras_tuner"
      ],
      "metadata": {
        "id": "ds0z799F0yCL"
      },
      "execution_count": 4,
      "outputs": []
    },
    {
      "cell_type": "code",
      "source": [
        "from keras_tuner.tuners import RandomSearch"
      ],
      "metadata": {
        "id": "PsdukWyg0Ebm"
      },
      "execution_count": 5,
      "outputs": []
    },
    {
      "cell_type": "code",
      "source": [
        "# import dataset\n",
        "from tensorflow.keras.datasets import mnist\n",
        "print('Data loaded')"
      ],
      "metadata": {
        "colab": {
          "base_uri": "https://localhost:8080/"
        },
        "id": "i8ltK9Iq0pwt",
        "outputId": "2689d562-fc42-4996-fae6-52fa823180d9"
      },
      "execution_count": 6,
      "outputs": [
        {
          "output_type": "stream",
          "name": "stdout",
          "text": [
            "Data loaded\n"
          ]
        }
      ]
    },
    {
      "cell_type": "code",
      "source": [
        "(X_train,y_train),(X_test,y_test)=mnist.load_data()\n",
        "X_train=X_train/255.0\n",
        "X_test=X_test/255.0"
      ],
      "metadata": {
        "colab": {
          "base_uri": "https://localhost:8080/"
        },
        "id": "-WyH5rwn1ect",
        "outputId": "ae0fbbc9-bdaa-41e7-d1c9-e0a81af841da"
      },
      "execution_count": 7,
      "outputs": [
        {
          "output_type": "stream",
          "name": "stdout",
          "text": [
            "Downloading data from https://storage.googleapis.com/tensorflow/tf-keras-datasets/mnist.npz\n",
            "11490434/11490434 [==============================] - 0s 0us/step\n"
          ]
        }
      ]
    },
    {
      "cell_type": "code",
      "source": [
        "X_train.shape"
      ],
      "metadata": {
        "colab": {
          "base_uri": "https://localhost:8080/"
        },
        "id": "CV8HYrE41sZU",
        "outputId": "84467ac7-c427-4c0f-f578-fb65945a24d1"
      },
      "execution_count": 8,
      "outputs": [
        {
          "output_type": "execute_result",
          "data": {
            "text/plain": [
              "(60000, 28, 28)"
            ]
          },
          "metadata": {},
          "execution_count": 8
        }
      ]
    },
    {
      "cell_type": "code",
      "source": [
        "X_test.shape"
      ],
      "metadata": {
        "colab": {
          "base_uri": "https://localhost:8080/"
        },
        "id": "npoDrYAm1wlU",
        "outputId": "62f49155-c103-4831-8b17-9c021a5ef1cb"
      },
      "execution_count": 9,
      "outputs": [
        {
          "output_type": "execute_result",
          "data": {
            "text/plain": [
              "(10000, 28, 28)"
            ]
          },
          "metadata": {},
          "execution_count": 9
        }
      ]
    },
    {
      "cell_type": "code",
      "source": [
        "from tensorflow.keras.models import Sequential\n",
        "from tensorflow.keras.layers import Flatten, Dropout\n",
        "from tensorflow.keras.optimizers import Adam"
      ],
      "metadata": {
        "id": "zIzsytiP1-8I"
      },
      "execution_count": 14,
      "outputs": []
    },
    {
      "cell_type": "code",
      "source": [
        "def build_model(hp):  # build_model defines the model architecture\n",
        "  model=Sequential()\n",
        "  model.add(Flatten(input_shape=(28,28)))\n",
        "  for i in range(hp.Int('num_layers',2,20)):  # search for num of layers between 2 to 20\n",
        "      model.add(Dense(units=hp.Int('units_'+ str(i),min_value=32,max_value=512,step=32), activation='relu'))\n",
        "      model.add(Dropout(hp.Float('rate'+ str(i), min_value=0.0, max_value=0.5, step=0.1)))\n",
        "  model.add(Dense(10,activation='softmax'))\n",
        "  model.compile(optimizer=Adam(hp.Choice('learning_rate',[1e-2,1e-3,1e-4])), loss='sparse_categorical_crossentropy', metrics=['accuracy'])\n",
        "  return model"
      ],
      "metadata": {
        "id": "y3-ayeMb2Utx"
      },
      "execution_count": 23,
      "outputs": []
    },
    {
      "cell_type": "code",
      "source": [
        "# tuner\n",
        "tuner=RandomSearch(build_model,\n",
        "                   objective='val_accuracy',\n",
        "                   max_trials=2,  # tuner will explore 2 diff sets of hyperparameters\n",
        "                   max_retries_per_trial=1,\n",
        "                   directory='my_dir',\n",
        "                   project_name='hyperp_tuner')"
      ],
      "metadata": {
        "colab": {
          "base_uri": "https://localhost:8080/"
        },
        "id": "2TcgEAOr5zGr",
        "outputId": "52cde765-8750-42f2-c29a-31625eacc364"
      },
      "execution_count": 44,
      "outputs": [
        {
          "output_type": "stream",
          "name": "stdout",
          "text": [
            "Reloading Tuner from my_dir/hyperp_tuner/tuner0.json\n"
          ]
        }
      ]
    },
    {
      "cell_type": "code",
      "source": [
        "tuner.search(X_train,y_train,epochs=5,validation_data=(X_test,y_test))"
      ],
      "metadata": {
        "id": "ChFk5bN8_8e5"
      },
      "execution_count": 45,
      "outputs": []
    },
    {
      "cell_type": "code",
      "source": [
        "tuner.results_summary()"
      ],
      "metadata": {
        "colab": {
          "base_uri": "https://localhost:8080/"
        },
        "id": "tiOn-z6QHglJ",
        "outputId": "b45378d6-e743-4360-c3a1-08e3c74cbe25"
      },
      "execution_count": 46,
      "outputs": [
        {
          "output_type": "stream",
          "name": "stdout",
          "text": [
            "Results summary\n",
            "Results in my_dir/hyperp_tuner\n",
            "Showing 10 best trials\n",
            "Objective(name=\"val_accuracy\", direction=\"max\")\n",
            "\n",
            "Trial 0 summary\n",
            "Hyperparameters:\n",
            "num_layers: 19\n",
            "units_0: 192\n",
            "rate0: 0.30000000000000004\n",
            "units_1: 32\n",
            "rate1: 0.30000000000000004\n",
            "learning_rate: 0.001\n",
            "units_2: 32\n",
            "rate2: 0.0\n",
            "units_3: 32\n",
            "rate3: 0.0\n",
            "units_4: 32\n",
            "rate4: 0.0\n",
            "units_5: 32\n",
            "rate5: 0.0\n",
            "units_6: 32\n",
            "rate6: 0.0\n",
            "units_7: 32\n",
            "rate7: 0.0\n",
            "units_8: 32\n",
            "rate8: 0.0\n",
            "units_9: 32\n",
            "rate9: 0.0\n",
            "units_10: 32\n",
            "rate10: 0.0\n",
            "units_11: 32\n",
            "rate11: 0.0\n",
            "units_12: 32\n",
            "rate12: 0.0\n",
            "units_13: 32\n",
            "rate13: 0.0\n",
            "units_14: 32\n",
            "rate14: 0.0\n",
            "units_15: 32\n",
            "rate15: 0.0\n",
            "units_16: 32\n",
            "rate16: 0.0\n",
            "units_17: 32\n",
            "rate17: 0.0\n",
            "units_18: 32\n",
            "rate18: 0.0\n",
            "Score: 0.9546999931335449\n",
            "\n",
            "Trial 1 summary\n",
            "Hyperparameters:\n",
            "num_layers: 8\n",
            "units_0: 288\n",
            "rate0: 0.2\n",
            "units_1: 96\n",
            "rate1: 0.0\n",
            "learning_rate: 0.01\n",
            "units_2: 320\n",
            "rate2: 0.1\n",
            "units_3: 512\n",
            "rate3: 0.2\n",
            "units_4: 128\n",
            "rate4: 0.1\n",
            "units_5: 512\n",
            "rate5: 0.1\n",
            "units_6: 288\n",
            "rate6: 0.1\n",
            "units_7: 224\n",
            "rate7: 0.0\n",
            "units_8: 96\n",
            "rate8: 0.1\n",
            "units_9: 416\n",
            "rate9: 0.1\n",
            "units_10: 288\n",
            "rate10: 0.30000000000000004\n",
            "units_11: 224\n",
            "rate11: 0.1\n",
            "units_12: 128\n",
            "rate12: 0.0\n",
            "units_13: 32\n",
            "rate13: 0.1\n",
            "units_14: 128\n",
            "rate14: 0.1\n",
            "units_15: 480\n",
            "rate15: 0.30000000000000004\n",
            "units_16: 416\n",
            "rate16: 0.0\n",
            "units_17: 512\n",
            "rate17: 0.1\n",
            "units_18: 384\n",
            "rate18: 0.2\n",
            "Score: 0.375900000333786\n"
          ]
        }
      ]
    },
    {
      "cell_type": "code",
      "source": [
        "best_hps=tuner.get_best_hyperparameters()[0]\n",
        "print(best_hps)"
      ],
      "metadata": {
        "colab": {
          "base_uri": "https://localhost:8080/"
        },
        "id": "XBPnc3LeEwVs",
        "outputId": "19dfeaca-2675-4dfe-ffa2-d978df407e8d"
      },
      "execution_count": 47,
      "outputs": [
        {
          "output_type": "stream",
          "name": "stdout",
          "text": [
            "<keras_tuner.src.engine.hyperparameters.hyperparameters.HyperParameters object at 0x7e45072bd360>\n"
          ]
        }
      ]
    },
    {
      "cell_type": "code",
      "source": [
        "model=tuner.hypermodel.build(best_hps)\n",
        "model.summary()"
      ],
      "metadata": {
        "colab": {
          "base_uri": "https://localhost:8080/"
        },
        "id": "leTG7ZcuCxqm",
        "outputId": "7bdd2ec1-970a-4f5b-ff87-9f9ce3ea72f9"
      },
      "execution_count": 48,
      "outputs": [
        {
          "output_type": "stream",
          "name": "stdout",
          "text": [
            "Model: \"sequential_4\"\n",
            "_________________________________________________________________\n",
            " Layer (type)                Output Shape              Param #   \n",
            "=================================================================\n",
            " flatten_4 (Flatten)         (None, 784)               0         \n",
            "                                                                 \n",
            " dense_69 (Dense)            (None, 192)               150720    \n",
            "                                                                 \n",
            " dropout_65 (Dropout)        (None, 192)               0         \n",
            "                                                                 \n",
            " dense_70 (Dense)            (None, 32)                6176      \n",
            "                                                                 \n",
            " dropout_66 (Dropout)        (None, 32)                0         \n",
            "                                                                 \n",
            " dense_71 (Dense)            (None, 32)                1056      \n",
            "                                                                 \n",
            " dropout_67 (Dropout)        (None, 32)                0         \n",
            "                                                                 \n",
            " dense_72 (Dense)            (None, 32)                1056      \n",
            "                                                                 \n",
            " dropout_68 (Dropout)        (None, 32)                0         \n",
            "                                                                 \n",
            " dense_73 (Dense)            (None, 32)                1056      \n",
            "                                                                 \n",
            " dropout_69 (Dropout)        (None, 32)                0         \n",
            "                                                                 \n",
            " dense_74 (Dense)            (None, 32)                1056      \n",
            "                                                                 \n",
            " dropout_70 (Dropout)        (None, 32)                0         \n",
            "                                                                 \n",
            " dense_75 (Dense)            (None, 32)                1056      \n",
            "                                                                 \n",
            " dropout_71 (Dropout)        (None, 32)                0         \n",
            "                                                                 \n",
            " dense_76 (Dense)            (None, 32)                1056      \n",
            "                                                                 \n",
            " dropout_72 (Dropout)        (None, 32)                0         \n",
            "                                                                 \n",
            " dense_77 (Dense)            (None, 32)                1056      \n",
            "                                                                 \n",
            " dropout_73 (Dropout)        (None, 32)                0         \n",
            "                                                                 \n",
            " dense_78 (Dense)            (None, 32)                1056      \n",
            "                                                                 \n",
            " dropout_74 (Dropout)        (None, 32)                0         \n",
            "                                                                 \n",
            " dense_79 (Dense)            (None, 32)                1056      \n",
            "                                                                 \n",
            " dropout_75 (Dropout)        (None, 32)                0         \n",
            "                                                                 \n",
            " dense_80 (Dense)            (None, 32)                1056      \n",
            "                                                                 \n",
            " dropout_76 (Dropout)        (None, 32)                0         \n",
            "                                                                 \n",
            " dense_81 (Dense)            (None, 32)                1056      \n",
            "                                                                 \n",
            " dropout_77 (Dropout)        (None, 32)                0         \n",
            "                                                                 \n",
            " dense_82 (Dense)            (None, 32)                1056      \n",
            "                                                                 \n",
            " dropout_78 (Dropout)        (None, 32)                0         \n",
            "                                                                 \n",
            " dense_83 (Dense)            (None, 32)                1056      \n",
            "                                                                 \n",
            " dropout_79 (Dropout)        (None, 32)                0         \n",
            "                                                                 \n",
            " dense_84 (Dense)            (None, 32)                1056      \n",
            "                                                                 \n",
            " dropout_80 (Dropout)        (None, 32)                0         \n",
            "                                                                 \n",
            " dense_85 (Dense)            (None, 32)                1056      \n",
            "                                                                 \n",
            " dropout_81 (Dropout)        (None, 32)                0         \n",
            "                                                                 \n",
            " dense_86 (Dense)            (None, 32)                1056      \n",
            "                                                                 \n",
            " dropout_82 (Dropout)        (None, 32)                0         \n",
            "                                                                 \n",
            " dense_87 (Dense)            (None, 32)                1056      \n",
            "                                                                 \n",
            " dropout_83 (Dropout)        (None, 32)                0         \n",
            "                                                                 \n",
            " dense_88 (Dense)            (None, 10)                330       \n",
            "                                                                 \n",
            "=================================================================\n",
            "Total params: 175178 (684.29 KB)\n",
            "Trainable params: 175178 (684.29 KB)\n",
            "Non-trainable params: 0 (0.00 Byte)\n",
            "_________________________________________________________________\n"
          ]
        }
      ]
    },
    {
      "cell_type": "code",
      "source": [
        "model.fit(X_train,y_train,epochs=5,validation_data=(X_test,y_test))"
      ],
      "metadata": {
        "colab": {
          "base_uri": "https://localhost:8080/"
        },
        "id": "0mpRYkt_DP-Q",
        "outputId": "3a376395-d1ed-4c59-dcfd-338c84c1ea80"
      },
      "execution_count": 49,
      "outputs": [
        {
          "output_type": "stream",
          "name": "stdout",
          "text": [
            "Epoch 1/5\n",
            "1875/1875 [==============================] - 16s 7ms/step - loss: 1.0329 - accuracy: 0.6207 - val_loss: 0.3804 - val_accuracy: 0.9025\n",
            "Epoch 2/5\n",
            "1875/1875 [==============================] - 12s 7ms/step - loss: 0.4283 - accuracy: 0.8810 - val_loss: 0.2732 - val_accuracy: 0.9326\n",
            "Epoch 3/5\n",
            "1875/1875 [==============================] - 13s 7ms/step - loss: 0.3589 - accuracy: 0.9031 - val_loss: 0.2504 - val_accuracy: 0.9387\n",
            "Epoch 4/5\n",
            "1875/1875 [==============================] - 12s 7ms/step - loss: 0.3326 - accuracy: 0.9110 - val_loss: 0.2226 - val_accuracy: 0.9461\n",
            "Epoch 5/5\n",
            "1875/1875 [==============================] - 12s 6ms/step - loss: 0.3021 - accuracy: 0.9208 - val_loss: 0.2901 - val_accuracy: 0.9251\n"
          ]
        },
        {
          "output_type": "execute_result",
          "data": {
            "text/plain": [
              "<keras.src.callbacks.History at 0x7e450693ef20>"
            ]
          },
          "metadata": {},
          "execution_count": 49
        }
      ]
    },
    {
      "cell_type": "code",
      "source": [],
      "metadata": {
        "id": "wgqppyoIDdES"
      },
      "execution_count": null,
      "outputs": []
    }
  ]
}
