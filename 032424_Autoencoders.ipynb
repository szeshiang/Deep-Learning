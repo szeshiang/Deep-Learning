{
  "nbformat": 4,
  "nbformat_minor": 0,
  "metadata": {
    "colab": {
      "provenance": [],
      "authorship_tag": "ABX9TyO32pkMBSt7yDhoCwQaBWMo",
      "include_colab_link": true
    },
    "kernelspec": {
      "name": "python3",
      "display_name": "Python 3"
    },
    "language_info": {
      "name": "python"
    }
  },
  "cells": [
    {
      "cell_type": "markdown",
      "metadata": {
        "id": "view-in-github",
        "colab_type": "text"
      },
      "source": [
        "<a href=\"https://colab.research.google.com/github/szeshiang/Deep-Learning/blob/main/24_Mar_24_Autoencoders.ipynb\" target=\"_parent\"><img src=\"https://colab.research.google.com/assets/colab-badge.svg\" alt=\"Open In Colab\"/></a>"
      ]
    },
    {
      "cell_type": "markdown",
      "source": [
        "**Types of Autoencoder**\n",
        "\n",
        "1. Vanilla Autoencoder\n",
        "2. Multilayer Autoencoder\n",
        "3. Convolutional Autoencoder\n",
        "4. Denoise Autoencoder-Remove noise from image\n"
      ],
      "metadata": {
        "id": "bfRJFRBgw7yo"
      }
    },
    {
      "cell_type": "code",
      "execution_count": 1,
      "metadata": {
        "colab": {
          "base_uri": "https://localhost:8080/"
        },
        "id": "jeJSWmD1va7R",
        "outputId": "57b42b72-4de0-42cb-e899-d84f0faf8b99"
      },
      "outputs": [
        {
          "output_type": "stream",
          "name": "stdout",
          "text": [
            "imported\n"
          ]
        }
      ],
      "source": [
        "# import the library\n",
        "import numpy as np\n",
        "import matplotlib.pyplot as plt\n",
        "from tensorflow.keras.layers import Conv2D,Dense,Flatten,MaxPooling2D\n",
        "from tensorflow.keras.datasets import mnist\n",
        "from tensorflow.keras.models import Model\n",
        "print('imported')"
      ]
    },
    {
      "cell_type": "code",
      "source": [
        "# load the MNIST data\n",
        "(X_train,_),(X_test,_)=mnist.load_data()"
      ],
      "metadata": {
        "colab": {
          "base_uri": "https://localhost:8080/"
        },
        "id": "lFOZBH8wxEg-",
        "outputId": "b47711d0-e989-40a8-fb2b-5717e2fb4a6a"
      },
      "execution_count": 2,
      "outputs": [
        {
          "output_type": "stream",
          "name": "stdout",
          "text": [
            "Downloading data from https://storage.googleapis.com/tensorflow/tf-keras-datasets/mnist.npz\n",
            "11490434/11490434 [==============================] - 0s 0us/step\n"
          ]
        }
      ]
    },
    {
      "cell_type": "markdown",
      "source": [
        "**Vanilla Autoencoder**"
      ],
      "metadata": {
        "id": "NUQ6YDZF3ckL"
      }
    },
    {
      "cell_type": "code",
      "source": [
        "X_train.shape"
      ],
      "metadata": {
        "colab": {
          "base_uri": "https://localhost:8080/"
        },
        "id": "wfj_jfeMxQx7",
        "outputId": "49f1a93a-ecad-4ed0-de84-6c78d8c007ea"
      },
      "execution_count": 3,
      "outputs": [
        {
          "output_type": "execute_result",
          "data": {
            "text/plain": [
              "(60000, 28, 28)"
            ]
          },
          "metadata": {},
          "execution_count": 3
        }
      ]
    },
    {
      "cell_type": "code",
      "source": [
        "# convert to 1-D data\n",
        "# reshape X_train & X_test\n",
        "X_train=X_train.reshape(60000,784)\n",
        "X_test=X_test.reshape(10000,784)"
      ],
      "metadata": {
        "id": "2Kh3Ui8IxZcS"
      },
      "execution_count": 5,
      "outputs": []
    },
    {
      "cell_type": "code",
      "source": [
        "X_train=X_train.astype('float')/255.\n",
        "X_test=X_test.astype('float')/255."
      ],
      "metadata": {
        "id": "c7nR6KLwxfRP"
      },
      "execution_count": 6,
      "outputs": []
    },
    {
      "cell_type": "code",
      "source": [
        "# parameters\n",
        "input_size=784\n",
        "hidden_size=64\n",
        "output_size=784"
      ],
      "metadata": {
        "id": "a-0jtGjzxngW"
      },
      "execution_count": 7,
      "outputs": []
    },
    {
      "cell_type": "code",
      "source": [
        "# Functional keras API\n",
        "from tensorflow.keras.layers import Input\n",
        "x=Input(shape=(input_size,))\n",
        "h=Dense(hidden_size,activation='relu')(x)\n",
        "r=Dense(output_size,activation='sigmoid')(h)"
      ],
      "metadata": {
        "id": "fez_y_J1yoPT"
      },
      "execution_count": 8,
      "outputs": []
    },
    {
      "cell_type": "code",
      "source": [
        "autoencoder=Model(inputs=x,outputs=r)"
      ],
      "metadata": {
        "id": "VimsS7wlyqga"
      },
      "execution_count": 9,
      "outputs": []
    },
    {
      "cell_type": "code",
      "source": [
        "autoencoder.summary()"
      ],
      "metadata": {
        "colab": {
          "base_uri": "https://localhost:8080/"
        },
        "id": "CW_40t4Vyt-5",
        "outputId": "9a84d093-3518-4310-aad7-63207b9e175e"
      },
      "execution_count": 10,
      "outputs": [
        {
          "output_type": "stream",
          "name": "stdout",
          "text": [
            "Model: \"model\"\n",
            "_________________________________________________________________\n",
            " Layer (type)                Output Shape              Param #   \n",
            "=================================================================\n",
            " input_1 (InputLayer)        [(None, 784)]             0         \n",
            "                                                                 \n",
            " dense (Dense)               (None, 64)                50240     \n",
            "                                                                 \n",
            " dense_1 (Dense)             (None, 784)               50960     \n",
            "                                                                 \n",
            "=================================================================\n",
            "Total params: 101200 (395.31 KB)\n",
            "Trainable params: 101200 (395.31 KB)\n",
            "Non-trainable params: 0 (0.00 Byte)\n",
            "_________________________________________________________________\n"
          ]
        }
      ]
    },
    {
      "cell_type": "code",
      "source": [
        "autoencoder.compile(optimizer='adam',loss='mse')"
      ],
      "metadata": {
        "id": "SOVylKx9ywMd"
      },
      "execution_count": 11,
      "outputs": []
    },
    {
      "cell_type": "code",
      "source": [
        "epochs=5\n",
        "batch_size=128\n",
        "\n",
        "history=autoencoder.fit(X_train,X_train,\n",
        "                       batch_size=batch_size,\n",
        "                       epochs=epochs,\n",
        "                       validation_data=(X_test,X_test))"
      ],
      "metadata": {
        "colab": {
          "base_uri": "https://localhost:8080/"
        },
        "id": "LljA94Y8zeZg",
        "outputId": "5c08279d-53df-431b-d687-eea869eb93fc"
      },
      "execution_count": 12,
      "outputs": [
        {
          "output_type": "stream",
          "name": "stdout",
          "text": [
            "Epoch 1/5\n",
            "469/469 [==============================] - 4s 7ms/step - loss: 0.0443 - val_loss: 0.0228\n",
            "Epoch 2/5\n",
            "469/469 [==============================] - 4s 8ms/step - loss: 0.0175 - val_loss: 0.0129\n",
            "Epoch 3/5\n",
            "469/469 [==============================] - 7s 15ms/step - loss: 0.0107 - val_loss: 0.0086\n",
            "Epoch 4/5\n",
            "469/469 [==============================] - 3s 6ms/step - loss: 0.0076 - val_loss: 0.0065\n",
            "Epoch 5/5\n",
            "469/469 [==============================] - 3s 6ms/step - loss: 0.0062 - val_loss: 0.0055\n"
          ]
        }
      ]
    },
    {
      "cell_type": "code",
      "source": [
        "# predict on test images\n",
        "decoded_imgs=autoencoder.predict(X_test)"
      ],
      "metadata": {
        "colab": {
          "base_uri": "https://localhost:8080/"
        },
        "id": "u5xsg9DnziL7",
        "outputId": "8c586602-db78-4b30-a4c5-b2e96f784152"
      },
      "execution_count": 13,
      "outputs": [
        {
          "output_type": "stream",
          "name": "stdout",
          "text": [
            "313/313 [==============================] - 1s 2ms/step\n"
          ]
        }
      ]
    },
    {
      "cell_type": "code",
      "source": [
        "n = 10\n",
        "plt.figure(figsize=(20, 6))\n",
        "for i in range(n):\n",
        "    # display original\n",
        "    ax = plt.subplot(3, n, i+1)\n",
        "    plt.imshow(X_test[i].reshape(28, 28))\n",
        "    plt.gray()\n",
        "    ax.get_xaxis().set_visible(False)\n",
        "    ax.get_yaxis().set_visible(False)\n",
        "\n",
        "    # display reconstruction\n",
        "    ax = plt.subplot(3, n, i+n+1)\n",
        "    plt.imshow(decoded_imgs[i].reshape(28, 28))\n",
        "    plt.gray()\n",
        "    ax.get_xaxis().set_visible(False)\n",
        "    ax.get_yaxis().set_visible(False)\n",
        "\n",
        "plt.show()"
      ],
      "metadata": {
        "colab": {
          "base_uri": "https://localhost:8080/",
          "height": 313
        },
        "id": "KQMCIGi5z8tq",
        "outputId": "58ea595a-3de7-4380-b96a-2ef8ff81dbdf"
      },
      "execution_count": 16,
      "outputs": [
        {
          "output_type": "display_data",
          "data": {
            "text/plain": [
              "<Figure size 2000x600 with 20 Axes>"
            ],
            "image/png": "[encoded data removed]"
          },
          "metadata": {}
        }
      ]
    },
    {
      "cell_type": "code",
      "source": [
        "autoencoder.evaluate(X_test,X_test)"
      ],
      "metadata": {
        "colab": {
          "base_uri": "https://localhost:8080/"
        },
        "id": "OJwwzM0U0GLw",
        "outputId": "36a08280-10c0-4aee-f358-93a72f6e0879"
      },
      "execution_count": 17,
      "outputs": [
        {
          "output_type": "stream",
          "name": "stdout",
          "text": [
            "313/313 [==============================] - 1s 4ms/step - loss: 0.0055\n"
          ]
        },
        {
          "output_type": "execute_result",
          "data": {
            "text/plain": [
              "0.005472520366311073"
            ]
          },
          "metadata": {},
          "execution_count": 17
        }
      ]
    },
    {
      "cell_type": "markdown",
      "source": [
        "^^ autoencoder differs from previous ANN/CNN calculation is that we are evaluating the reconstruction errors. Hence X_test, X_test instead of the X_test, y_test."
      ],
      "metadata": {
        "id": "P3tpMIfb1sZP"
      }
    },
    {
      "cell_type": "markdown",
      "source": [
        "**Multilayer Autoencoder**"
      ],
      "metadata": {
        "id": "IqpTaUUF3WOD"
      }
    },
    {
      "cell_type": "code",
      "source": [
        "# parameters\n",
        "input_size=784\n",
        "hidden_size=128\n",
        "code_size=64"
      ],
      "metadata": {
        "id": "JdWHitei1PBv"
      },
      "execution_count": 18,
      "outputs": []
    },
    {
      "cell_type": "code",
      "source": [
        "# encoder\n",
        "x=Input(shape=(input_size,))\n",
        "hidden_1=Dense(hidden_size,activation='relu')(x)\n",
        "\n",
        "h=Dense(code_size,activation='relu')(hidden_1)\n",
        "\n",
        "#decoder part\n",
        "hidden_2=Dense(hidden_size,activation='relu')(h)\n",
        "r=Dense(input_size,activation='sigmoid')(hidden_2)\n",
        "\n",
        "autoencoder1=Model(inputs=x,outputs=r)\n",
        "autoencoder1.summary()"
      ],
      "metadata": {
        "colab": {
          "base_uri": "https://localhost:8080/"
        },
        "id": "r72bWQn23i60",
        "outputId": "55c66f4f-b91c-44d4-d28c-72c965bd0160"
      },
      "execution_count": 20,
      "outputs": [
        {
          "output_type": "stream",
          "name": "stdout",
          "text": [
            "Model: \"model_2\"\n",
            "_________________________________________________________________\n",
            " Layer (type)                Output Shape              Param #   \n",
            "=================================================================\n",
            " input_3 (InputLayer)        [(None, 784)]             0         \n",
            "                                                                 \n",
            " dense_6 (Dense)             (None, 128)               100480    \n",
            "                                                                 \n",
            " dense_7 (Dense)             (None, 64)                8256      \n",
            "                                                                 \n",
            " dense_8 (Dense)             (None, 128)               8320      \n",
            "                                                                 \n",
            " dense_9 (Dense)             (None, 784)               101136    \n",
            "                                                                 \n",
            "=================================================================\n",
            "Total params: 218192 (852.31 KB)\n",
            "Trainable params: 218192 (852.31 KB)\n",
            "Non-trainable params: 0 (0.00 Byte)\n",
            "_________________________________________________________________\n"
          ]
        }
      ]
    },
    {
      "cell_type": "code",
      "source": [
        "autoencoder1.compile(optimizer='adam',loss='mse')\n",
        "epochs=5\n",
        "batch_size=128\n",
        "\n",
        "history=autoencoder1.fit(X_train,X_train,\n",
        "                       batch_size=batch_size,\n",
        "                       epochs=epochs,\n",
        "                       validation_data=(X_test,X_test))"
      ],
      "metadata": {
        "colab": {
          "base_uri": "https://localhost:8080/"
        },
        "id": "D9hLp1Tq3q2X",
        "outputId": "7a895bf9-fee2-4da2-ea24-b8d483b740ba"
      },
      "execution_count": 21,
      "outputs": [
        {
          "output_type": "stream",
          "name": "stdout",
          "text": [
            "Epoch 1/5\n",
            "469/469 [==============================] - 5s 9ms/step - loss: 0.0408 - val_loss: 0.0186\n",
            "Epoch 2/5\n",
            "469/469 [==============================] - 5s 11ms/step - loss: 0.0154 - val_loss: 0.0124\n",
            "Epoch 3/5\n",
            "469/469 [==============================] - 4s 9ms/step - loss: 0.0114 - val_loss: 0.0101\n",
            "Epoch 4/5\n",
            "469/469 [==============================] - 4s 9ms/step - loss: 0.0097 - val_loss: 0.0088\n",
            "Epoch 5/5\n",
            "469/469 [==============================] - 5s 10ms/step - loss: 0.0086 - val_loss: 0.0078\n"
          ]
        }
      ]
    },
    {
      "cell_type": "code",
      "source": [
        "autoencoder1.evaluate(X_test,X_test)"
      ],
      "metadata": {
        "colab": {
          "base_uri": "https://localhost:8080/"
        },
        "id": "1DlZ4qJ94jJZ",
        "outputId": "3aafd9c4-02c6-4b6c-85d9-e671b12a46ba"
      },
      "execution_count": 22,
      "outputs": [
        {
          "output_type": "stream",
          "name": "stdout",
          "text": [
            "313/313 [==============================] - 1s 4ms/step - loss: 0.0078\n"
          ]
        },
        {
          "output_type": "execute_result",
          "data": {
            "text/plain": [
              "0.007830522954463959"
            ]
          },
          "metadata": {},
          "execution_count": 22
        }
      ]
    },
    {
      "cell_type": "code",
      "source": [
        "# predict on test images\n",
        "decoded_imgs=autoencoder1.predict(X_test)\n",
        "n = 10\n",
        "plt.figure(figsize=(20, 6))\n",
        "for i in range(n):\n",
        "    # display original\n",
        "    ax = plt.subplot(3, n, i+1)\n",
        "    plt.imshow(X_test[i].reshape(28, 28))\n",
        "    plt.gray()\n",
        "    ax.get_xaxis().set_visible(False)\n",
        "    ax.get_yaxis().set_visible(False)\n",
        "\n",
        "    # display reconstruction\n",
        "    ax = plt.subplot(3, n, i+n+1)\n",
        "    plt.imshow(decoded_imgs[i].reshape(28, 28))\n",
        "    plt.gray()\n",
        "    ax.get_xaxis().set_visible(False)\n",
        "    ax.get_yaxis().set_visible(False)\n",
        "\n",
        "plt.show()\n"
      ],
      "metadata": {
        "colab": {
          "base_uri": "https://localhost:8080/",
          "height": 330
        },
        "id": "hrul5Kas413N",
        "outputId": "202a9d1b-bd2e-42a9-c813-86f712243276"
      },
      "execution_count": 23,
      "outputs": [
        {
          "output_type": "stream",
          "name": "stdout",
          "text": [
            "313/313 [==============================] - 1s 3ms/step\n"
          ]
        },
        {
          "output_type": "display_data",
          "data": {
            "text/plain": [
              "<Figure size 2000x600 with 20 Axes>"
            ],
            "image/png": "[encoded data removed]"
          },
          "metadata": {}
        }
      ]
    },
    {
      "cell_type": "markdown",
      "source": [
        "**Denoise Autoencoder**"
      ],
      "metadata": {
        "id": "wccpf3aX5zhb"
      }
    },
    {
      "cell_type": "code",
      "source": [
        "# computer vision --- image processing --- fundamentals\n",
        "# opencv2"
      ],
      "metadata": {
        "id": "EyI3Ac--46ot"
      },
      "execution_count": 24,
      "outputs": []
    },
    {
      "cell_type": "code",
      "source": [
        "# create noisy data\n",
        "noise_factor=0.2\n",
        "X_train_noisy=X_train+noise_factor*np.random.normal(loc=0.0,scale=1.0,size=X_train.shape)\n",
        "X_test_noisy=X_test+noise_factor*np.random.normal(loc=0.0,scale=1.0,size=X_test.shape)"
      ],
      "metadata": {
        "id": "NwWAtBQh6Btw"
      },
      "execution_count": 25,
      "outputs": []
    },
    {
      "cell_type": "code",
      "source": [
        "X_train_noisy=np.clip(X_train_noisy,0.,1.)\n",
        "X_test_noisy=np.clip(X_test_noisy,0.,1.)\n",
        "\n",
        "X_train_noisy.shape\n",
        "\n",
        "# create the model\n",
        "from tensorflow.keras.models import Sequential\n",
        "model=Sequential()\n",
        "model.add(Dense(500,input_dim=784,activation='relu'))\n",
        "model.add(Dense(300,activation='relu'))\n",
        "model.add(Dense(100,activation='relu'))\n",
        "model.add(Dense(300,activation='relu'))\n",
        "model.add(Dense(500,activation='relu'))\n",
        "model.add(Dense(784,activation='sigmoid'))"
      ],
      "metadata": {
        "id": "CXEN3Q2v6OWE"
      },
      "execution_count": 30,
      "outputs": []
    },
    {
      "cell_type": "markdown",
      "source": [
        "784 --> 500 --> 300 --> 100 (code) : encoder >> decoder: --> 300 --> 500 --> 784\n",
        "\n",
        "only 2 hidden layers (500 and 300); 100 is the code"
      ],
      "metadata": {
        "id": "flYlateRAXtx"
      }
    },
    {
      "cell_type": "code",
      "source": [
        "model.compile(optimizer='adam',loss='mse')"
      ],
      "metadata": {
        "id": "ldeCv-yGAL2S"
      },
      "execution_count": 31,
      "outputs": []
    },
    {
      "cell_type": "code",
      "source": [
        "epochs=5\n",
        "batch_size=128\n",
        "\n",
        "history=model.fit(X_train_noisy,X_train,\n",
        "                       batch_size=batch_size,\n",
        "                       epochs=epochs,\n",
        "                       validation_data=(X_test_noisy,X_test))"
      ],
      "metadata": {
        "colab": {
          "base_uri": "https://localhost:8080/"
        },
        "id": "oRT2JilRA_Oc",
        "outputId": "d250b360-3ee8-4520-ca42-43834c00cab2"
      },
      "execution_count": 32,
      "outputs": [
        {
          "output_type": "stream",
          "name": "stdout",
          "text": [
            "Epoch 1/5\n",
            "469/469 [==============================] - 17s 33ms/step - loss: 0.0347 - val_loss: 0.0169\n",
            "Epoch 2/5\n",
            "469/469 [==============================] - 15s 33ms/step - loss: 0.0144 - val_loss: 0.0122\n",
            "Epoch 3/5\n",
            "469/469 [==============================] - 14s 31ms/step - loss: 0.0112 - val_loss: 0.0100\n",
            "Epoch 4/5\n",
            "469/469 [==============================] - 14s 31ms/step - loss: 0.0097 - val_loss: 0.0092\n",
            "Epoch 5/5\n",
            "469/469 [==============================] - 15s 32ms/step - loss: 0.0088 - val_loss: 0.0084\n"
          ]
        }
      ]
    },
    {
      "cell_type": "code",
      "source": [
        "decoded_imgs=model.predict(X_test_noisy)"
      ],
      "metadata": {
        "colab": {
          "base_uri": "https://localhost:8080/"
        },
        "id": "SSSfXmtDBDZs",
        "outputId": "6bb9cfe2-3d74-49ea-ed9a-b3513ee62fbc"
      },
      "execution_count": 33,
      "outputs": [
        {
          "output_type": "stream",
          "name": "stdout",
          "text": [
            "313/313 [==============================] - 3s 9ms/step\n"
          ]
        }
      ]
    },
    {
      "cell_type": "code",
      "source": [
        "n = 10\n",
        "plt.figure(figsize=(20, 6))\n",
        "for i in range(n):\n",
        "    # display original\n",
        "    ax = plt.subplot(3, n, i+1)\n",
        "    plt.imshow(X_test_noisy[i].reshape(28, 28))\n",
        "    plt.gray()\n",
        "    ax.get_xaxis().set_visible(False)\n",
        "    ax.get_yaxis().set_visible(False)\n",
        "\n",
        "    # display reconstruction\n",
        "    ax = plt.subplot(3, n, i+n+1)\n",
        "    plt.imshow(decoded_imgs[i].reshape(28, 28))\n",
        "    plt.gray()\n",
        "    ax.get_xaxis().set_visible(False)\n",
        "    ax.get_yaxis().set_visible(False)\n",
        "\n",
        "plt.show()"
      ],
      "metadata": {
        "colab": {
          "base_uri": "https://localhost:8080/",
          "height": 313
        },
        "id": "IPm4n7HOBlD-",
        "outputId": "66843de7-dda6-40bd-b139-89d50b7e1d28"
      },
      "execution_count": 34,
      "outputs": [
        {
          "output_type": "display_data",
          "data": {
            "text/plain": [
              "<Figure size 2000x600 with 20 Axes>"
            ],
            "image/png": "[encoded data removed]"
          },
          "metadata": {}
        }
      ]
    },
    {
      "cell_type": "code",
      "source": [
        "model.evaluate(X_test,X_test_noisy)"
      ],
      "metadata": {
        "colab": {
          "base_uri": "https://localhost:8080/"
        },
        "id": "L5ldGwfvBqVm",
        "outputId": "d8f0a957-7f0f-440c-9ad5-4e58d13d6922"
      },
      "execution_count": 35,
      "outputs": [
        {
          "output_type": "stream",
          "name": "stdout",
          "text": [
            "313/313 [==============================] - 4s 12ms/step - loss: 0.0270\n"
          ]
        },
        {
          "output_type": "execute_result",
          "data": {
            "text/plain": [
              "0.027037344872951508"
            ]
          },
          "metadata": {},
          "execution_count": 35
        }
      ]
    },
    {
      "cell_type": "code",
      "source": [],
      "metadata": {
        "id": "MpcyAbmpGn94"
      },
      "execution_count": null,
      "outputs": []
    }
  ]
}
