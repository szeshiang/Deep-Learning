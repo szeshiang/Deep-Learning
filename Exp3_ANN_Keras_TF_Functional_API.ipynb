{
  "nbformat": 4,
  "nbformat_minor": 0,
  "metadata": {
    "colab": {
      "provenance": [],
      "authorship_tag": "ABX9TyPeO5tS5psS3icJGSmvGm1w",
      "include_colab_link": true
    },
    "kernelspec": {
      "name": "python3",
      "display_name": "Python 3"
    },
    "language_info": {
      "name": "python"
    }
  },
  "cells": [
    {
      "cell_type": "markdown",
      "metadata": {
        "id": "view-in-github",
        "colab_type": "text"
      },
      "source": [
        "<a href=\"https://colab.research.google.com/github/szeshiang/Deep-Learning/blob/main/Exp3_ANN_Keras_TF_Functional_API.ipynb\" target=\"_parent\"><img src=\"https://colab.research.google.com/assets/colab-badge.svg\" alt=\"Open In Colab\"/></a>"
      ]
    },
    {
      "cell_type": "code",
      "execution_count": null,
      "metadata": {
        "colab": {
          "base_uri": "https://localhost:8080/"
        },
        "id": "CfyEBhZNiQmF",
        "outputId": "e7a4e2af-97e8-4bb3-83e4-4183c534c02f"
      },
      "outputs": [
        {
          "output_type": "stream",
          "name": "stdout",
          "text": [
            "Data Loaded\n"
          ]
        }
      ],
      "source": [
        "# load the dataset\n",
        "from tensorflow.keras.datasets import mnist\n",
        "print('Data Loaded')"
      ]
    },
    {
      "cell_type": "code",
      "source": [
        "# create train & test\n",
        "(X_train,y_train),(X_test,y_test)=mnist.load_data()"
      ],
      "metadata": {
        "colab": {
          "base_uri": "https://localhost:8080/"
        },
        "id": "jo1Gs7Hrigz9",
        "outputId": "3fe780bf-1420-41f5-be77-d4c335ff7511"
      },
      "execution_count": null,
      "outputs": [
        {
          "output_type": "stream",
          "name": "stdout",
          "text": [
            "Downloading data from https://storage.googleapis.com/tensorflow/tf-keras-datasets/mnist.npz\n",
            "11490434/11490434 [==============================] - 0s 0us/step\n"
          ]
        }
      ]
    },
    {
      "cell_type": "code",
      "source": [
        "# for functional API this exercise, there will be no reshaping of dataset, and no application of one-hot encoding\n",
        "# the preprocessing here is to normalise the data\n",
        "# normalize the pixel in 0 to 1\n",
        "X_train=X_train/255.\n",
        "X_test=X_test/255."
      ],
      "metadata": {
        "id": "4JnwLUFEil-y"
      },
      "execution_count": null,
      "outputs": []
    },
    {
      "cell_type": "code",
      "source": [
        "X_train.shape"
      ],
      "metadata": {
        "colab": {
          "base_uri": "https://localhost:8080/"
        },
        "id": "uDgNNrxojVMd",
        "outputId": "49f15a90-c0f5-46e0-8016-acbda9e7131f"
      },
      "execution_count": null,
      "outputs": [
        {
          "output_type": "execute_result",
          "data": {
            "text/plain": [
              "(60000, 28, 28)"
            ]
          },
          "metadata": {},
          "execution_count": 4
        }
      ]
    },
    {
      "cell_type": "code",
      "source": [
        "X_test.shape"
      ],
      "metadata": {
        "colab": {
          "base_uri": "https://localhost:8080/"
        },
        "id": "-8ZdRBisjXm1",
        "outputId": "97974943-99e3-452e-8546-29344c589e5d"
      },
      "execution_count": null,
      "outputs": [
        {
          "output_type": "execute_result",
          "data": {
            "text/plain": [
              "(10000, 28, 28)"
            ]
          },
          "metadata": {},
          "execution_count": 5
        }
      ]
    },
    {
      "cell_type": "code",
      "source": [
        "from tensorflow.keras.models import Model\n",
        "from tensorflow.keras.layers import Input,Dense,Flatten\n"
      ],
      "metadata": {
        "id": "0s6KaS7PjazB"
      },
      "execution_count": null,
      "outputs": []
    },
    {
      "cell_type": "markdown",
      "source": [
        "Functional API - can handle multiple inputs, multiple outputs"
      ],
      "metadata": {
        "id": "ygjlVcI0p-gp"
      }
    },
    {
      "cell_type": "code",
      "source": [
        "def build_model_function():\n",
        "  input_layer=Input(shape=(28,28))\n",
        "  flatten_layer=Flatten()(input_layer)\n",
        "  first_dense=Dense(128,activation='relu')(flatten_layer)\n",
        "  output_layer=Dense(10,activation='softmax')(first_dense)\n",
        "  func_model=Model(inputs=input_layer,outputs=output_layer)\n",
        "  return func_model"
      ],
      "metadata": {
        "id": "Zg1KjlxHpcFq"
      },
      "execution_count": null,
      "outputs": []
    },
    {
      "cell_type": "code",
      "source": [
        "model=build_model_function()\n",
        "model.summary()"
      ],
      "metadata": {
        "colab": {
          "base_uri": "https://localhost:8080/"
        },
        "id": "yOHaFEf2ldI0",
        "outputId": "67ab13dc-f407-4342-96fb-9bb9d65e2a94"
      },
      "execution_count": null,
      "outputs": [
        {
          "output_type": "stream",
          "name": "stdout",
          "text": [
            "Model: \"model\"\n",
            "_________________________________________________________________\n",
            " Layer (type)                Output Shape              Param #   \n",
            "=================================================================\n",
            " input_1 (InputLayer)        [(None, 28, 28)]          0         \n",
            "                                                                 \n",
            " flatten (Flatten)           (None, 784)               0         \n",
            "                                                                 \n",
            " dense (Dense)               (None, 128)               100480    \n",
            "                                                                 \n",
            " dense_1 (Dense)             (None, 10)                1290      \n",
            "                                                                 \n",
            "=================================================================\n",
            "Total params: 101770 (397.54 KB)\n",
            "Trainable params: 101770 (397.54 KB)\n",
            "Non-trainable params: 0 (0.00 Byte)\n",
            "_________________________________________________________________\n"
          ]
        }
      ]
    },
    {
      "cell_type": "markdown",
      "source": [
        "use sparse categorial cross entropy loss fn - used in non-one hot encoded situation. it will auto transform to one-hot before apply cross entropy\n",
        "\n",
        "from wiki:\n",
        "If your Yi's are one-hot encoded, use categorical_crossentropy. Examples (for a 3-class classification): [1,0,0] , [0,1,0], [0,0,1]\n",
        "\n",
        "But if your Yi's are integers, use sparse_categorical_crossentropy. Examples for above 3-class classification problem: [1] , [2], [3]"
      ],
      "metadata": {
        "id": "ksWzqgQ7rFS1"
      }
    },
    {
      "cell_type": "code",
      "source": [
        "# compile the model\n",
        "model.compile(loss='sparse_categorical_crossentropy',optimizer='adam',metrics=['accuracy'])\n",
        "print('model is compiled')"
      ],
      "metadata": {
        "colab": {
          "base_uri": "https://localhost:8080/"
        },
        "id": "nmaEQh_9pL8B",
        "outputId": "d0155b92-e646-4384-95b8-5d8972bda1fc"
      },
      "execution_count": null,
      "outputs": [
        {
          "output_type": "stream",
          "name": "stdout",
          "text": [
            "model is compiled\n"
          ]
        }
      ]
    },
    {
      "cell_type": "code",
      "source": [
        "# train the model\n",
        "batch_size=128\n",
        "epochs=10"
      ],
      "metadata": {
        "id": "kokWLNHBrgIO"
      },
      "execution_count": null,
      "outputs": []
    },
    {
      "cell_type": "code",
      "source": [
        "history=model.fit(X_train,y_train,\n",
        "                  batch_size=batch_size,\n",
        "                  epochs=epochs,\n",
        "                  validation_data=(X_test,y_test))"
      ],
      "metadata": {
        "colab": {
          "base_uri": "https://localhost:8080/"
        },
        "id": "Xh-etg7JrkR6",
        "outputId": "236b0512-9395-4e4f-911a-cb3088c5caec"
      },
      "execution_count": null,
      "outputs": [
        {
          "output_type": "stream",
          "name": "stdout",
          "text": [
            "Epoch 1/10\n",
            "469/469 [==============================] - 3s 5ms/step - loss: 0.3547 - accuracy: 0.9016 - val_loss: 0.1928 - val_accuracy: 0.9430\n",
            "Epoch 2/10\n",
            "469/469 [==============================] - 3s 6ms/step - loss: 0.1642 - accuracy: 0.9537 - val_loss: 0.1324 - val_accuracy: 0.9617\n",
            "Epoch 3/10\n",
            "469/469 [==============================] - 2s 4ms/step - loss: 0.1173 - accuracy: 0.9662 - val_loss: 0.1088 - val_accuracy: 0.9677\n",
            "Epoch 4/10\n",
            "469/469 [==============================] - 2s 4ms/step - loss: 0.0910 - accuracy: 0.9741 - val_loss: 0.0962 - val_accuracy: 0.9708\n",
            "Epoch 5/10\n",
            "469/469 [==============================] - 2s 4ms/step - loss: 0.0737 - accuracy: 0.9784 - val_loss: 0.0913 - val_accuracy: 0.9717\n",
            "Epoch 6/10\n",
            "469/469 [==============================] - 2s 4ms/step - loss: 0.0615 - accuracy: 0.9823 - val_loss: 0.0776 - val_accuracy: 0.9771\n",
            "Epoch 7/10\n",
            "469/469 [==============================] - 2s 4ms/step - loss: 0.0508 - accuracy: 0.9858 - val_loss: 0.0799 - val_accuracy: 0.9760\n",
            "Epoch 8/10\n",
            "469/469 [==============================] - 3s 6ms/step - loss: 0.0437 - accuracy: 0.9878 - val_loss: 0.0755 - val_accuracy: 0.9765\n",
            "Epoch 9/10\n",
            "469/469 [==============================] - 2s 4ms/step - loss: 0.0359 - accuracy: 0.9902 - val_loss: 0.0712 - val_accuracy: 0.9791\n",
            "Epoch 10/10\n",
            "469/469 [==============================] - 2s 4ms/step - loss: 0.0310 - accuracy: 0.9918 - val_loss: 0.0721 - val_accuracy: 0.9780\n"
          ]
        }
      ]
    },
    {
      "cell_type": "code",
      "source": [
        "score_test=model.evaluate(X_test,y_test)\n",
        "print('test score',score_test)"
      ],
      "metadata": {
        "colab": {
          "base_uri": "https://localhost:8080/"
        },
        "id": "56Aidq9wrsTf",
        "outputId": "726462a1-3817-4165-8a0d-3ff49d590cf9"
      },
      "execution_count": null,
      "outputs": [
        {
          "output_type": "stream",
          "name": "stdout",
          "text": [
            "313/313 [==============================] - 1s 2ms/step - loss: 0.0721 - accuracy: 0.9780\n",
            "test score [0.07208725810050964, 0.9779999852180481]\n"
          ]
        }
      ]
    },
    {
      "cell_type": "code",
      "source": [
        "score_test=model.evaluate(X_train,y_train)\n",
        "print('train score',score_test)\n"
      ],
      "metadata": {
        "colab": {
          "base_uri": "https://localhost:8080/"
        },
        "id": "RH3YamUPr5FL",
        "outputId": "15fb11b4-f97b-48e2-e1a9-2db9d766d385"
      },
      "execution_count": null,
      "outputs": [
        {
          "output_type": "stream",
          "name": "stdout",
          "text": [
            "1875/1875 [==============================] - 3s 2ms/step - loss: 0.0227 - accuracy: 0.9951\n",
            "train score [0.022700227797031403, 0.9951333403587341]\n"
          ]
        }
      ]
    },
    {
      "cell_type": "code",
      "source": [],
      "metadata": {
        "id": "TgMQZxREsAIf"
      },
      "execution_count": null,
      "outputs": []
    }
  ]
}